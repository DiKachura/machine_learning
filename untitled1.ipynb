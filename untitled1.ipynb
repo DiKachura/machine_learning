{
  "nbformat": 4,
  "nbformat_minor": 0,
  "metadata": {
    "colab": {
      "provenance": []
    },
    "kernelspec": {
      "name": "python3",
      "display_name": "Python 3"
    },
    "language_info": {
      "name": "python"
    }
  },
  "cells": [
    {
      "cell_type": "code",
      "execution_count": null,
      "metadata": {
        "colab": {
          "base_uri": "https://localhost:8080/"
        },
        "id": "H0rnEnwAHzcx",
        "outputId": "c49785de-f78d-4eac-f96b-b86bfc8044d2"
      },
      "outputs": [
        {
          "output_type": "stream",
          "name": "stdout",
          "text": [
            "[1. 1. 1. 1. 1. 1. 1. 1. 1. 1.]\n"
          ]
        }
      ],
      "source": [
        "import numpy as np\n",
        "vector = np.ones(10)\n",
        "print(vector)"
      ]
    },
    {
      "cell_type": "code",
      "source": [
        "vector = np.arange(10, 50)\n",
        "print(vector)"
      ],
      "metadata": {
        "colab": {
          "base_uri": "https://localhost:8080/"
        },
        "id": "vtqA0ar8JUX5",
        "outputId": "0b28edeb-b4e2-4dca-c990-627840b8f5db"
      },
      "execution_count": null,
      "outputs": [
        {
          "output_type": "stream",
          "name": "stdout",
          "text": [
            "[10 11 12 13 14 15 16 17 18 19 20 21 22 23 24 25 26 27 28 29 30 31 32 33\n",
            " 34 35 36 37 38 39 40 41 42 43 44 45 46 47 48 49]\n"
          ]
        }
      ]
    },
    {
      "cell_type": "code",
      "source": [
        "vector = np.random.randint(0, 10, 10)\n",
        "nonzero_indices = np.nonzero(vector)\n",
        "print(vector)\n",
        "print(nonzero_indices)"
      ],
      "metadata": {
        "colab": {
          "base_uri": "https://localhost:8080/"
        },
        "id": "MrNvMNGEJgwG",
        "outputId": "cd7e3a68-9395-453b-e76c-bda30a6b13b4"
      },
      "execution_count": null,
      "outputs": [
        {
          "output_type": "stream",
          "name": "stdout",
          "text": [
            "[9 2 8 6 2 3 2 7 9 1]\n",
            "(array([0, 1, 2, 3, 4, 5, 6, 7, 8, 9]),)\n"
          ]
        }
      ]
    },
    {
      "cell_type": "code",
      "source": [
        "matrix = np.arange(9).reshape((3,3))\n",
        "print(matrix)"
      ],
      "metadata": {
        "colab": {
          "base_uri": "https://localhost:8080/"
        },
        "id": "c4rAVJxpJ4j9",
        "outputId": "802fb45c-2d65-4c5b-fb31-e354d29227f2"
      },
      "execution_count": null,
      "outputs": [
        {
          "output_type": "stream",
          "name": "stdout",
          "text": [
            "[[0 1 2]\n",
            " [3 4 5]\n",
            " [6 7 8]]\n"
          ]
        }
      ]
    },
    {
      "cell_type": "code",
      "source": [
        "base_pattern = np.array([[0,1],[1,0]])\n",
        "matrix = np.tile(base_pattern, (4, 4))\n",
        "print(matrix)"
      ],
      "metadata": {
        "colab": {
          "base_uri": "https://localhost:8080/"
        },
        "id": "GF_mayOVKIaf",
        "outputId": "6219c818-88ed-4cec-c86c-354fb1b110d5"
      },
      "execution_count": null,
      "outputs": [
        {
          "output_type": "stream",
          "name": "stdout",
          "text": [
            "[[0 1 0 1 0 1 0 1]\n",
            " [1 0 1 0 1 0 1 0]\n",
            " [0 1 0 1 0 1 0 1]\n",
            " [1 0 1 0 1 0 1 0]\n",
            " [0 1 0 1 0 1 0 1]\n",
            " [1 0 1 0 1 0 1 0]\n",
            " [0 1 0 1 0 1 0 1]\n",
            " [1 0 1 0 1 0 1 0]]\n"
          ]
        }
      ]
    },
    {
      "cell_type": "code",
      "source": [
        "vector = np.random.rand(10)\n",
        "print(vector)\n",
        "print()\n",
        "min_value = np.min(vector)\n",
        "min_index = np.argmin(vector)\n",
        "vector[min_index] = 0\n",
        "print(vector)"
      ],
      "metadata": {
        "colab": {
          "base_uri": "https://localhost:8080/"
        },
        "id": "u992EYvHKaXr",
        "outputId": "4a216d6e-8af5-4735-c40f-855e019589d2"
      },
      "execution_count": null,
      "outputs": [
        {
          "output_type": "stream",
          "name": "stdout",
          "text": [
            "[0.94024204 0.11697706 0.84561419 0.91080238 0.92391242 0.69682893\n",
            " 0.18238655 0.00519273 0.09331105 0.51260112]\n",
            "\n",
            "[0.94024204 0.11697706 0.84561419 0.91080238 0.92391242 0.69682893\n",
            " 0.18238655 0.         0.09331105 0.51260112]\n"
          ]
        }
      ]
    },
    {
      "cell_type": "code",
      "source": [
        "vector = np.random.randint(0, 10, 100)\n",
        "most_common_value = np.bincount(vector).argmax()\n",
        "print(vector)\n",
        "print(most_common_value)"
      ],
      "metadata": {
        "colab": {
          "base_uri": "https://localhost:8080/"
        },
        "id": "D_pMnb4cK2S6",
        "outputId": "4bc36921-11dc-490a-eb0a-79523399cd57"
      },
      "execution_count": null,
      "outputs": [
        {
          "output_type": "stream",
          "name": "stdout",
          "text": [
            "[8 4 2 7 4 6 6 5 9 6 3 5 3 2 0 6 6 0 1 3 2 1 3 5 7 5 1 1 8 7 5 7 1 2 3 0 5\n",
            " 8 8 6 0 2 6 5 4 3 4 3 5 3 7 9 2 5 3 6 0 6 7 8 2 2 9 8 9 9 0 0 5 4 4 0 5 8\n",
            " 2 0 4 9 9 8 5 8 8 1 9 0 7 8 1 3 7 5 6 2 8 5 0 9 8 0]\n",
            "5\n"
          ]
        }
      ]
    },
    {
      "cell_type": "code",
      "source": [
        "matrix = np.random.rand(3,3)\n",
        "row_means = np.mean(matrix, axis=1)\n",
        "result = matrix - row_means[:, np.newaxis]\n",
        "print(matrix)\n",
        "print(result)"
      ],
      "metadata": {
        "colab": {
          "base_uri": "https://localhost:8080/"
        },
        "id": "M1KLLnLxLb1l",
        "outputId": "06fbf9f6-900d-4f14-cda9-3a07022494ea"
      },
      "execution_count": null,
      "outputs": [
        {
          "output_type": "stream",
          "name": "stdout",
          "text": [
            "[[0.84458873 0.45707629 0.78157494]\n",
            " [0.83769735 0.83793465 0.36458243]\n",
            " [0.95976977 0.36314611 0.69653262]]\n",
            "[[ 0.15017541 -0.23733703  0.08716162]\n",
            " [ 0.15762587  0.15786317 -0.31548905]\n",
            " [ 0.28662027 -0.31000339  0.02338311]]\n"
          ]
        }
      ]
    },
    {
      "cell_type": "code",
      "source": [
        "matrix = np.random.rand(3,3)\n",
        "print(f'Исходная матрица: {matrix}')\n",
        "matrix[[0,1]] = matrix[[1,0]]\n",
        "print(f'Матрица после замены: {matrix}')"
      ],
      "metadata": {
        "colab": {
          "base_uri": "https://localhost:8080/"
        },
        "id": "aXyadqGlLzew",
        "outputId": "773d5fd6-b744-4e54-8c2d-d3b1c42e116f"
      },
      "execution_count": null,
      "outputs": [
        {
          "output_type": "stream",
          "name": "stdout",
          "text": [
            "Исходная матрица: [[0.76798598 0.54638296 0.87038502]\n",
            " [0.03198556 0.3739398  0.03328949]\n",
            " [0.47943882 0.96770976 0.10140644]]\n",
            "Матрица после замены: [[0.03198556 0.3739398  0.03328949]\n",
            " [0.76798598 0.54638296 0.87038502]\n",
            " [0.47943882 0.96770976 0.10140644]]\n"
          ]
        }
      ]
    },
    {
      "cell_type": "code",
      "source": [
        "vector = np.random.randint(0,100,10)\n",
        "n = 3\n",
        "largest_values = np.partition(vector, -n)[-n:]\n",
        "print(vector)\n",
        "print(largest_values)"
      ],
      "metadata": {
        "colab": {
          "base_uri": "https://localhost:8080/"
        },
        "id": "7WJIsuP5MRhr",
        "outputId": "20e9bc22-22a7-4ca7-f392-92f6052044eb"
      },
      "execution_count": null,
      "outputs": [
        {
          "output_type": "stream",
          "name": "stdout",
          "text": [
            "[ 2 25 68 84 28 30 56 81 41 42]\n",
            "[68 81 84]\n"
          ]
        }
      ]
    },
    {
      "cell_type": "code",
      "source": [
        "matrix = np.tile(np.arange(1,6),(5,1))\n",
        "print(matrix)"
      ],
      "metadata": {
        "colab": {
          "base_uri": "https://localhost:8080/"
        },
        "id": "nTY-qm0uMkib",
        "outputId": "ad0c4aa9-ae6a-4503-908a-510cf50f1778"
      },
      "execution_count": null,
      "outputs": [
        {
          "output_type": "stream",
          "name": "stdout",
          "text": [
            "[[1 2 3 4 5]\n",
            " [1 2 3 4 5]\n",
            " [1 2 3 4 5]\n",
            " [1 2 3 4 5]\n",
            " [1 2 3 4 5]]\n"
          ]
        }
      ]
    },
    {
      "cell_type": "code",
      "source": [
        "matrix1 = np.random.randint(0,10, (4,4))\n",
        "matrix2 = np.random.randint(0,10,(4,4))\n",
        "product = matrix1@matrix2\n",
        "diagonal_elements = np.diagonal(product)\n",
        "print(matrix1)\n",
        "print()\n",
        "print(matrix2)\n",
        "print()\n",
        "print(product)\n",
        "print()\n",
        "print(diagonal_elements)"
      ],
      "metadata": {
        "colab": {
          "base_uri": "https://localhost:8080/"
        },
        "id": "Hg4FOWdRM3xV",
        "outputId": "0cd8b08a-7d8b-4701-d889-1763cc4add4b"
      },
      "execution_count": null,
      "outputs": [
        {
          "output_type": "stream",
          "name": "stdout",
          "text": [
            "[[2 8 1 5]\n",
            " [5 4 5 9]\n",
            " [7 5 5 7]\n",
            " [8 0 5 9]]\n",
            "\n",
            "[[1 1 1 7]\n",
            " [9 4 8 4]\n",
            " [6 3 1 5]\n",
            " [9 9 4 4]]\n",
            "\n",
            "[[125  82  87  71]\n",
            " [152 117  78 112]\n",
            " [145 105  80 122]\n",
            " [119 104  49 117]]\n",
            "\n",
            "[125 117  80 117]\n"
          ]
        }
      ]
    },
    {
      "cell_type": "code",
      "source": [
        "vector = np.arange(20)\n",
        "split_vector = np.split(vector, 4)\n",
        "mean_values = [np.mean(part) for part in split_vector]\n",
        "print(vector)\n",
        "print(mean_values)"
      ],
      "metadata": {
        "colab": {
          "base_uri": "https://localhost:8080/"
        },
        "id": "tbL0UVRyNsgU",
        "outputId": "b8afa53c-8f31-40b4-e6b0-0ce7a4013598"
      },
      "execution_count": null,
      "outputs": [
        {
          "output_type": "stream",
          "name": "stdout",
          "text": [
            "[ 0  1  2  3  4  5  6  7  8  9 10 11 12 13 14 15 16 17 18 19]\n",
            "[2.0, 7.0, 12.0, 17.0]\n"
          ]
        }
      ]
    },
    {
      "cell_type": "code",
      "source": [
        "matrix = np.random.randint(0,10, (3,3))\n",
        "print(f'Исходная матрица: {matrix}')\n",
        "max_values = np.max(matrix, axis=0)\n",
        "max_indices = np.argmax(matrix, axis=0)\n",
        "matrix[max_indices, np.arange(matrix.shape[1])] = 0\n",
        "\n",
        "print(f'Матрица после замены: {matrix}')"
      ],
      "metadata": {
        "colab": {
          "base_uri": "https://localhost:8080/"
        },
        "id": "q-ISnUltOE9a",
        "outputId": "6c8c73b5-1fed-4b66-a38e-516fefe94c6c"
      },
      "execution_count": null,
      "outputs": [
        {
          "output_type": "stream",
          "name": "stdout",
          "text": [
            "Исходная матрица: [[3 9 7]\n",
            " [6 6 6]\n",
            " [1 2 8]]\n",
            "Матрица после замены: [[3 0 7]\n",
            " [0 6 6]\n",
            " [1 2 0]]\n"
          ]
        }
      ]
    },
    {
      "cell_type": "code",
      "source": [
        "matrix = np.random. randint(0,10,(5,5))\n",
        "row_sums = np.sum(matrix, axis=1)\n",
        "print(row_sums)\n",
        "max_sum_index = np.argmax(row_sums)\n",
        "print(matrix)\n",
        "print(max_sum_index)"
      ],
      "metadata": {
        "colab": {
          "base_uri": "https://localhost:8080/"
        },
        "id": "aEHv94S9Oik6",
        "outputId": "502cfa7b-b95a-4b3f-cb38-5b542916018e"
      },
      "execution_count": null,
      "outputs": [
        {
          "output_type": "stream",
          "name": "stdout",
          "text": [
            "[22 13 19 28  9]\n",
            "[[6 7 1 4 4]\n",
            " [5 0 4 4 0]\n",
            " [5 5 3 3 3]\n",
            " [4 4 5 8 7]\n",
            " [0 4 1 3 1]]\n",
            "3\n"
          ]
        }
      ]
    },
    {
      "cell_type": "code",
      "source": [],
      "metadata": {
        "id": "5R8pmbn9PFDR"
      },
      "execution_count": null,
      "outputs": []
    }
  ]
}