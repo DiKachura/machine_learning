{
  "nbformat": 4,
  "nbformat_minor": 0,
  "metadata": {
    "colab": {
      "provenance": [],
      "authorship_tag": "ABX9TyN5/0ogrnDXHtZhtOAmL6to",
      "include_colab_link": true
    },
    "kernelspec": {
      "name": "python3",
      "display_name": "Python 3"
    },
    "language_info": {
      "name": "python"
    }
  },
  "cells": [
    {
      "cell_type": "markdown",
      "metadata": {
        "id": "view-in-github",
        "colab_type": "text"
      },
      "source": [
        "<a href=\"https://colab.research.google.com/github/DiKachura/machine_learning/blob/main/%D0%B2%D0%B0%D1%85_%D1%84%D0%B8%D0%BD%D0%B0%D0%BB%D1%8C%D0%BD%D1%8B%D0%B5_%D0%BD%D0%B0%D1%80%D0%B0%D0%B1%D0%BE%D1%82%D0%BA%D0%B8.ipynb\" target=\"_parent\"><img src=\"https://colab.research.google.com/assets/colab-badge.svg\" alt=\"Open In Colab\"/></a>"
      ]
    },
    {
      "cell_type": "code",
      "execution_count": null,
      "metadata": {
        "id": "jHyXldo8_4WO"
      },
      "outputs": [],
      "source": []
    },
    {
      "cell_type": "code",
      "source": [
        "# univariate multi-step vector-output stacked lstm example\n",
        "from numpy import array\n",
        "from keras.models import Sequential\n",
        "from keras.layers import LSTM\n",
        "from keras.layers import Dense\n",
        "import pandas as pd\n",
        "\n",
        "# split a univariate sequence into samples\n",
        "def split_sequence(sequence, n_steps_in, n_steps_out):\n",
        "\tX, y = list(), list()\n",
        "\tfor i in range(len(sequence)):\n",
        "\t\t# find the end of this pattern\n",
        "\t\tend_ix = i + n_steps_in\n",
        "\t\tout_end_ix = end_ix + n_steps_out\n",
        "\t\t# check if we are beyond the sequence\n",
        "\t\tif out_end_ix > len(sequence):\n",
        "\t\t\tbreak\n",
        "\t\t# gather input and output parts of the pattern\n",
        "\t\tseq_x, seq_y = sequence[i:end_ix], sequence[end_ix:out_end_ix]\n",
        "\t\tX.append(seq_x)\n",
        "\t\ty.append(seq_y)\n",
        "\treturn array(X), array(y)"
      ],
      "metadata": {
        "id": "R4urv3NlqQ0Q"
      },
      "execution_count": 1,
      "outputs": []
    },
    {
      "cell_type": "code",
      "source": [
        "# define input sequence\n",
        "raw_seq = pd.read_excel('/content/первая_выборка.xlsx')['iav/ilim+']\n",
        "# choose a number of time steps\n",
        "n_steps_in, n_steps_out = 42, 41\n",
        "# split into samples\n",
        "X, y = split_sequence(raw_seq, n_steps_in, n_steps_out)"
      ],
      "metadata": {
        "id": "OapEfyQRqQ0R"
      },
      "execution_count": 2,
      "outputs": []
    },
    {
      "cell_type": "code",
      "source": [
        "# reshape from [samples, timesteps] into [samples, timesteps, features]\n",
        "n_features = 1\n",
        "X = X.reshape((X.shape[0], X.shape[1], n_features))"
      ],
      "metadata": {
        "id": "uqSXyNqyqQ0S"
      },
      "execution_count": 3,
      "outputs": []
    },
    {
      "cell_type": "code",
      "source": [
        "from keras.layers import Conv1D, MaxPooling1D, Flatten\n",
        "\n",
        "# Определение модели\n",
        "model = Sequential()\n",
        "model.add(Conv1D(filters=32, kernel_size=3, activation='relu', input_shape=(n_steps_in, n_features)))\n",
        "model.add(Conv1D(filters=64, kernel_size=3, activation='relu'))\n",
        "model.add(MaxPooling1D(pool_size=2))\n",
        "model.add(LSTM(200, activation='tanh', return_sequences=True))\n",
        "model.add(LSTM(200, activation='tanh'))\n",
        "model.add(Dense(n_steps_out))\n",
        "model.compile(optimizer='adam', loss='mse')"
      ],
      "metadata": {
        "id": "6E-qjXIAqQ0T"
      },
      "execution_count": 4,
      "outputs": []
    },
    {
      "cell_type": "code",
      "source": [
        "# fit model\n",
        "model.fit(X, y, epochs=100, verbose=0)"
      ],
      "metadata": {
        "id": "d7KKQXL5qQ0U",
        "colab": {
          "base_uri": "https://localhost:8080/"
        },
        "outputId": "fc64b39e-5f27-4e7f-ef62-d141c70d369e"
      },
      "execution_count": 46,
      "outputs": [
        {
          "output_type": "execute_result",
          "data": {
            "text/plain": [
              "<keras.src.callbacks.History at 0x7f38f9e7d870>"
            ]
          },
          "metadata": {},
          "execution_count": 46
        }
      ]
    },
    {
      "cell_type": "code",
      "source": [
        "# demonstrate prediction\n",
        "x_input = array(pd.read_excel('/content/тестовая_выборка.xlsx')['iav/ilim+'])\n",
        "x_input = x_input.reshape((1, n_steps_in, n_features))\n",
        "yhat = model.predict(x_input, verbose=0)\n",
        "print(yhat)"
      ],
      "metadata": {
        "id": "LmfJVinGqQ0V",
        "colab": {
          "base_uri": "https://localhost:8080/"
        },
        "outputId": "a8d20507-2c18-48d9-e79a-5d85ea98172e"
      },
      "execution_count": 47,
      "outputs": [
        {
          "output_type": "stream",
          "name": "stdout",
          "text": [
            "[[0.82122815 0.81882584 0.835392   0.82317173 0.85694325 0.8590298\n",
            "  0.8484343  0.84123445 0.88517517 0.8493054  0.86494565 0.8698938\n",
            "  0.84834313 0.89284474 0.8914503  0.89150727 0.9034774  0.9208566\n",
            "  0.9018785  0.929725   0.9152181  0.9292596  0.9376166  0.9235755\n",
            "  0.9357384  0.96195596 0.9650764  0.9431148  0.96241766 0.97863245\n",
            "  0.969982   0.97260976 0.9850559  0.96676517 1.0037103  0.97383523\n",
            "  1.0122195  0.98830354 1.0029181  1.016565   1.032105  ]]\n"
          ]
        }
      ]
    },
    {
      "cell_type": "code",
      "source": [
        "from sklearn.metrics import mean_squared_error, mean_absolute_error\n",
        "import numpy as np\n",
        "\n",
        "# Вычисление среднеквадратичной ошибки (MSE)\n",
        "mse = mean_squared_error(y[0], yhat[0])\n",
        "print(\"Mean Squared Error (MSE):\", mse)\n",
        "\n",
        "# Вычисление средней абсолютной ошибки (MAE)\n",
        "mae = mean_absolute_error(y[0], yhat[0])\n",
        "print(\"Mean Absolute Error (MAE):\", mae)\n",
        "\n",
        "# Вычисление корня из среднеквадратичной ошибки (RMSE)\n",
        "rmse = np.sqrt(mse)\n",
        "print(\"Root Mean Squared Error (RMSE):\", rmse)\n",
        "\n",
        "# Вычисление средней абсолютной процентной ошибки (MAPE)\n",
        "mape = np.mean(np.abs((y[0] - yhat) / y[0])) * 100\n",
        "print(\"Mean Absolute Percentage Error (MAPE):\", mape)"
      ],
      "metadata": {
        "id": "ehXE8X5sqQ0W",
        "colab": {
          "base_uri": "https://localhost:8080/"
        },
        "outputId": "4bd73363-006b-4cd6-ed66-9b88818c44f1"
      },
      "execution_count": 48,
      "outputs": [
        {
          "output_type": "stream",
          "name": "stdout",
          "text": [
            "Mean Squared Error (MSE): 0.04127330785461615\n",
            "Mean Absolute Error (MAE): 0.20090603514555028\n",
            "Root Mean Squared Error (RMSE): 0.2031583319842338\n",
            "Mean Absolute Percentage Error (MAPE): 28.838554075820266\n"
          ]
        }
      ]
    },
    {
      "cell_type": "code",
      "source": [
        "# Сохранение весов модели\n",
        "model.save_weights('/content/last_model_weights_conv_lstm_200_tanh_100.h5')\n",
        "\n",
        "# Сохранение архитектуры модели\n",
        "with open('/content/last_model_architecture_conv_lstm_200_tanh_100.json', 'w') as f:\n",
        "    f.write(model.to_json())"
      ],
      "metadata": {
        "id": "bVvwVoUX_ycd"
      },
      "execution_count": 56,
      "outputs": []
    },
    {
      "cell_type": "code",
      "source": [
        "# Исходная последовательность точек\n",
        "input_sequence = x_input[0]  # Берем первую последовательность из обучающих данных\n",
        "input_sequence"
      ],
      "metadata": {
        "colab": {
          "base_uri": "https://localhost:8080/"
        },
        "outputId": "04301c2c-289f-49ea-fe50-700bc86ae0ce",
        "id": "SMoHWzG2qQ0X"
      },
      "execution_count": 49,
      "outputs": [
        {
          "output_type": "execute_result",
          "data": {
            "text/plain": [
              "array([[2.9046e-16],\n",
              "       [3.6352e-02],\n",
              "       [7.1152e-02],\n",
              "       [1.0493e-01],\n",
              "       [1.3787e-01],\n",
              "       [1.7013e-01],\n",
              "       [2.0171e-01],\n",
              "       [2.3270e-01],\n",
              "       [2.6305e-01],\n",
              "       [2.9295e-01],\n",
              "       [3.2233e-01],\n",
              "       [3.5115e-01],\n",
              "       [3.7937e-01],\n",
              "       [4.0720e-01],\n",
              "       [4.3450e-01],\n",
              "       [4.6124e-01],\n",
              "       [4.8737e-01],\n",
              "       [5.1314e-01],\n",
              "       [5.3842e-01],\n",
              "       [5.6315e-01],\n",
              "       [5.8731e-01],\n",
              "       [6.1119e-01],\n",
              "       [6.3463e-01],\n",
              "       [6.5760e-01],\n",
              "       [6.8008e-01],\n",
              "       [7.0205e-01],\n",
              "       [7.2350e-01],\n",
              "       [7.4441e-01],\n",
              "       [7.6477e-01],\n",
              "       [7.8488e-01],\n",
              "       [8.0454e-01],\n",
              "       [8.2370e-01],\n",
              "       [8.4234e-01],\n",
              "       [8.6047e-01],\n",
              "       [8.7806e-01],\n",
              "       [8.9512e-01],\n",
              "       [9.1161e-01],\n",
              "       [9.2792e-01],\n",
              "       [9.4381e-01],\n",
              "       [9.5924e-01],\n",
              "       [9.7419e-01],\n",
              "       [9.8868e-01]])"
            ]
          },
          "metadata": {},
          "execution_count": 49
        }
      ]
    },
    {
      "cell_type": "code",
      "source": [
        "# Подготовка состояний модели для предсказания\n",
        "model.reset_states()\n",
        "model.predict(input_sequence.reshape(1, n_steps_in, n_features))"
      ],
      "metadata": {
        "colab": {
          "base_uri": "https://localhost:8080/"
        },
        "outputId": "f7dd0cf1-2867-4317-f9fe-54bc54231fa8",
        "id": "dkjio-bJqQ0Y"
      },
      "execution_count": 50,
      "outputs": [
        {
          "output_type": "stream",
          "name": "stdout",
          "text": [
            "1/1 [==============================] - 0s 32ms/step\n"
          ]
        },
        {
          "output_type": "execute_result",
          "data": {
            "text/plain": [
              "array([[0.82122815, 0.81882584, 0.835392  , 0.82317173, 0.85694325,\n",
              "        0.8590298 , 0.8484343 , 0.84123445, 0.88517517, 0.8493054 ,\n",
              "        0.86494565, 0.8698938 , 0.84834313, 0.89284474, 0.8914503 ,\n",
              "        0.89150727, 0.9034774 , 0.9208566 , 0.9018785 , 0.929725  ,\n",
              "        0.9152181 , 0.9292596 , 0.9376166 , 0.9235755 , 0.9357384 ,\n",
              "        0.96195596, 0.9650764 , 0.9431148 , 0.96241766, 0.97863245,\n",
              "        0.969982  , 0.97260976, 0.9850559 , 0.96676517, 1.0037103 ,\n",
              "        0.97383523, 1.0122195 , 0.98830354, 1.0029181 , 1.016565  ,\n",
              "        1.032105  ]], dtype=float32)"
            ]
          },
          "metadata": {},
          "execution_count": 50
        }
      ]
    },
    {
      "cell_type": "code",
      "source": [
        "# Предсказание последовательности точек до конца графика\n",
        "predicted_sequence = np.expand_dims(input_sequence.copy(), axis=0)\n",
        "predicted_sequence"
      ],
      "metadata": {
        "colab": {
          "base_uri": "https://localhost:8080/"
        },
        "outputId": "bdc90fe6-bf3c-4754-a761-242793af7d53",
        "id": "FxgTSsoOqQ0Z"
      },
      "execution_count": 51,
      "outputs": [
        {
          "output_type": "execute_result",
          "data": {
            "text/plain": [
              "array([[[2.9046e-16],\n",
              "        [3.6352e-02],\n",
              "        [7.1152e-02],\n",
              "        [1.0493e-01],\n",
              "        [1.3787e-01],\n",
              "        [1.7013e-01],\n",
              "        [2.0171e-01],\n",
              "        [2.3270e-01],\n",
              "        [2.6305e-01],\n",
              "        [2.9295e-01],\n",
              "        [3.2233e-01],\n",
              "        [3.5115e-01],\n",
              "        [3.7937e-01],\n",
              "        [4.0720e-01],\n",
              "        [4.3450e-01],\n",
              "        [4.6124e-01],\n",
              "        [4.8737e-01],\n",
              "        [5.1314e-01],\n",
              "        [5.3842e-01],\n",
              "        [5.6315e-01],\n",
              "        [5.8731e-01],\n",
              "        [6.1119e-01],\n",
              "        [6.3463e-01],\n",
              "        [6.5760e-01],\n",
              "        [6.8008e-01],\n",
              "        [7.0205e-01],\n",
              "        [7.2350e-01],\n",
              "        [7.4441e-01],\n",
              "        [7.6477e-01],\n",
              "        [7.8488e-01],\n",
              "        [8.0454e-01],\n",
              "        [8.2370e-01],\n",
              "        [8.4234e-01],\n",
              "        [8.6047e-01],\n",
              "        [8.7806e-01],\n",
              "        [8.9512e-01],\n",
              "        [9.1161e-01],\n",
              "        [9.2792e-01],\n",
              "        [9.4381e-01],\n",
              "        [9.5924e-01],\n",
              "        [9.7419e-01],\n",
              "        [9.8868e-01]]])"
            ]
          },
          "metadata": {},
          "execution_count": 51
        }
      ]
    },
    {
      "cell_type": "code",
      "source": [
        "while len(predicted_sequence) < len(raw_seq):\n",
        "    # Предсказание следующего шага\n",
        "    next_step = model.predict(predicted_sequence[-n_steps_in:].reshape(1, n_steps_in, n_features))\n",
        "    #print(next_step.T)\n",
        "    #print(predicted_sequence)\n",
        "    predicted_sequence = np.concatenate((predicted_sequence, next_step.T), axis=0)"
      ],
      "metadata": {
        "colab": {
          "base_uri": "https://localhost:8080/"
        },
        "outputId": "c44c14ac-00e1-4956-9fcc-abadf8126399",
        "id": "gInPcmHWqQ0a"
      },
      "execution_count": 54,
      "outputs": [
        {
          "output_type": "stream",
          "name": "stdout",
          "text": [
            "1/1 [==============================] - 0s 87ms/step\n",
            "1/1 [==============================] - 0s 69ms/step\n",
            "1/1 [==============================] - 0s 100ms/step\n",
            "1/1 [==============================] - 0s 59ms/step\n",
            "1/1 [==============================] - 0s 72ms/step\n",
            "1/1 [==============================] - 0s 94ms/step\n",
            "1/1 [==============================] - 0s 62ms/step\n",
            "1/1 [==============================] - 0s 53ms/step\n",
            "1/1 [==============================] - 0s 56ms/step\n",
            "1/1 [==============================] - 0s 47ms/step\n",
            "1/1 [==============================] - 0s 65ms/step\n",
            "1/1 [==============================] - 0s 51ms/step\n",
            "1/1 [==============================] - 0s 44ms/step\n",
            "1/1 [==============================] - 0s 76ms/step\n",
            "1/1 [==============================] - 0s 28ms/step\n",
            "1/1 [==============================] - 0s 30ms/step\n",
            "1/1 [==============================] - 0s 29ms/step\n",
            "1/1 [==============================] - 0s 30ms/step\n",
            "1/1 [==============================] - 0s 30ms/step\n",
            "1/1 [==============================] - 0s 30ms/step\n",
            "1/1 [==============================] - 0s 30ms/step\n",
            "1/1 [==============================] - 0s 30ms/step\n",
            "1/1 [==============================] - 0s 28ms/step\n",
            "1/1 [==============================] - 0s 30ms/step\n",
            "1/1 [==============================] - 0s 33ms/step\n",
            "1/1 [==============================] - 0s 28ms/step\n",
            "1/1 [==============================] - 0s 29ms/step\n",
            "1/1 [==============================] - 0s 37ms/step\n",
            "1/1 [==============================] - 0s 29ms/step\n",
            "1/1 [==============================] - 0s 30ms/step\n",
            "1/1 [==============================] - 0s 31ms/step\n",
            "1/1 [==============================] - 0s 30ms/step\n",
            "1/1 [==============================] - 0s 29ms/step\n",
            "1/1 [==============================] - 0s 30ms/step\n",
            "1/1 [==============================] - 0s 29ms/step\n",
            "1/1 [==============================] - 0s 37ms/step\n",
            "1/1 [==============================] - 0s 30ms/step\n",
            "1/1 [==============================] - 0s 29ms/step\n",
            "1/1 [==============================] - 0s 29ms/step\n",
            "1/1 [==============================] - 0s 29ms/step\n",
            "1/1 [==============================] - 0s 28ms/step\n",
            "1/1 [==============================] - 0s 28ms/step\n",
            "1/1 [==============================] - 0s 29ms/step\n",
            "1/1 [==============================] - 0s 29ms/step\n",
            "1/1 [==============================] - 0s 28ms/step\n",
            "1/1 [==============================] - 0s 29ms/step\n",
            "1/1 [==============================] - 0s 31ms/step\n"
          ]
        }
      ]
    },
    {
      "cell_type": "code",
      "source": [
        "# Визуализация предсказанной последовательности\n",
        "import matplotlib.pyplot as plt\n",
        "\n",
        "plt.plot(raw_seq, label='Исходные данные')\n",
        "plt.plot(range(n_steps_in-1, len(predicted_sequence)+n_steps_in-1), predicted_sequence[:, 0], label='Предсказанные данные')\n",
        "plt.legend()\n",
        "plt.show()"
      ],
      "metadata": {
        "colab": {
          "base_uri": "https://localhost:8080/",
          "height": 430
        },
        "outputId": "d65e83d2-8a4e-45ad-8d79-55a6bbb0e12c",
        "id": "NME2wKIEqQ0b"
      },
      "execution_count": 55,
      "outputs": [
        {
          "output_type": "display_data",
          "data": {
            "text/plain": [
              "<Figure size 640x480 with 1 Axes>"
            ],
            "image/png": "[encoded data removed]"
          },
          "metadata": {}
        }
      ]
    },
    {
      "cell_type": "code",
      "source": [],
      "metadata": {
        "id": "jgPUukfvCpId"
      },
      "execution_count": null,
      "outputs": []
    }
  ]
}