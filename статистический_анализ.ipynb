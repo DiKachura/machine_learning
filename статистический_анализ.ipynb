{
 "cells": [
  {
   "cell_type": "markdown",
   "id": "9f4a0a68",
   "metadata": {},
   "source": [
    "**Статистический анализ данных популярного сервиса аренды самокатов `GoFast`**\n",
    "\n",
    "***Описание проекта***\n",
    "\n",
    "Чтобы совершать поездки по городу, пользователи сервиса `GoFast` пользуются мобильным приложением. Сервисом можно пользоваться:\n",
    "- без подписки\n",
    "  - абонентская плата отсутствует;\n",
    "  - стоимость одной минуты поездки — 8 рублей;\n",
    "  - стоимость старта (начала поездки) — 50 рублей;\n",
    "- с подпиской Ultra\n",
    "  - абонентская плата — 199 рублей в месяц;\n",
    "  - стоимость одной минуты поездки — 6 рублей;\n",
    "  - стоимость старта — бесплатно.\n",
    "\n",
    "***Цель проекта***\n",
    "\n",
    "Перед нами стоит задача: проанализировать данные о некоторых пользователях из нескольких городов и об их поездках. Проверить некоторые гипотезы, которые помогут бизнесу.\n",
    "\n",
    "***Описание данных***\n",
    "\n",
    "В основных данных есть информация о пользователях, их поездках и подписках.\n",
    "Пользователи — `users_go.csv`\n",
    "\n",
    "| <!-- -->   | <!-- -->   |\n",
    "|----------|----------|\n",
    "| user_id | уникальный идентификатор пользователя |\n",
    "| name | имя пользователя |\n",
    "| age | возраст |\n",
    "| city | город |\n",
    "| subscription_type |\tтип подписки (free, ultra) |\n",
    "\n",
    "Поездки — `rides_go.csv`\n",
    "\n",
    "| <!-- -->   | <!-- -->   |\n",
    "|:---------|:---------|\n",
    "|user_id | уникальный идентификатор пользователя |\n",
    "|distance | расстояние, которое пользователь проехал в текущей сессии (в метрах) |\n",
    "| duration | продолжительность сессии (в минутах) — время с того момента, как пользователь нажал кнопку «Начать поездку» до момента, как он нажал кнопку «Завершить поездку» |\n",
    "| date | дата совершения поездки |\n",
    "\n",
    "Подписки — `subscriptions_go.csv`\n",
    "\n",
    "| <!-- -->   | <!-- -->   |\n",
    "|----------|----------|\n",
    "| subscription_type | тип подписки |\n",
    "| minute_price | стоимость одной минуты поездки по данной подписке |\n",
    "| start_ride_price | стоимость начала поездки |\n",
    "| subscription_fee | стоимость ежемесячного платежа |\n",
    "\n",
    "***План работы***\n",
    "\n",
    "1. Загрузка данных\n",
    "2. Предобработка данных\n",
    "3. Исследовательский анализ данных\n",
    "4. Объединение данных\n",
    "5. Подсчёт выручки\n",
    "6. Проверка гипотез\n",
    "7. Распределения"
   ]
  },
  {
   "cell_type": "code",
   "execution_count": 1,
   "id": "72576667",
   "metadata": {},
   "outputs": [],
   "source": [
    "import pandas as pd\n",
    "import matplotlib.pyplot as plt\n",
    "from scipy import stats as st\n",
    "import numpy as np\n",
    "from scipy.stats import binom\n",
    "from matplotlib import pyplot"
   ]
  },
  {
   "cell_type": "markdown",
   "id": "c42cbe00",
   "metadata": {},
   "source": [
    "#### Шаг 1. Загрузка данных"
   ]
  },
  {
   "cell_type": "code",
   "execution_count": 2,
   "id": "eff9f206",
   "metadata": {},
   "outputs": [
    {
     "data": {
      "text/html": [
       "<div>\n",
       "<style scoped>\n",
       "    .dataframe tbody tr th:only-of-type {\n",
       "        vertical-align: middle;\n",
       "    }\n",
       "\n",
       "    .dataframe tbody tr th {\n",
       "        vertical-align: top;\n",
       "    }\n",
       "\n",
       "    .dataframe thead th {\n",
       "        text-align: right;\n",
       "    }\n",
       "</style>\n",
       "<table border=\"1\" class=\"dataframe\">\n",
       "  <thead>\n",
       "    <tr style=\"text-align: right;\">\n",
       "      <th></th>\n",
       "      <th>user_id</th>\n",
       "      <th>name</th>\n",
       "      <th>age</th>\n",
       "      <th>city</th>\n",
       "      <th>subscription_type</th>\n",
       "    </tr>\n",
       "  </thead>\n",
       "  <tbody>\n",
       "    <tr>\n",
       "      <th>0</th>\n",
       "      <td>1</td>\n",
       "      <td>Кира</td>\n",
       "      <td>22</td>\n",
       "      <td>Тюмень</td>\n",
       "      <td>ultra</td>\n",
       "    </tr>\n",
       "    <tr>\n",
       "      <th>1</th>\n",
       "      <td>2</td>\n",
       "      <td>Станислав</td>\n",
       "      <td>31</td>\n",
       "      <td>Омск</td>\n",
       "      <td>ultra</td>\n",
       "    </tr>\n",
       "    <tr>\n",
       "      <th>2</th>\n",
       "      <td>3</td>\n",
       "      <td>Алексей</td>\n",
       "      <td>20</td>\n",
       "      <td>Москва</td>\n",
       "      <td>ultra</td>\n",
       "    </tr>\n",
       "    <tr>\n",
       "      <th>3</th>\n",
       "      <td>4</td>\n",
       "      <td>Константин</td>\n",
       "      <td>26</td>\n",
       "      <td>Ростов-на-Дону</td>\n",
       "      <td>ultra</td>\n",
       "    </tr>\n",
       "    <tr>\n",
       "      <th>4</th>\n",
       "      <td>5</td>\n",
       "      <td>Адель</td>\n",
       "      <td>28</td>\n",
       "      <td>Омск</td>\n",
       "      <td>ultra</td>\n",
       "    </tr>\n",
       "    <tr>\n",
       "      <th>...</th>\n",
       "      <td>...</td>\n",
       "      <td>...</td>\n",
       "      <td>...</td>\n",
       "      <td>...</td>\n",
       "      <td>...</td>\n",
       "    </tr>\n",
       "    <tr>\n",
       "      <th>1560</th>\n",
       "      <td>829</td>\n",
       "      <td>Федор</td>\n",
       "      <td>29</td>\n",
       "      <td>Пятигорск</td>\n",
       "      <td>free</td>\n",
       "    </tr>\n",
       "    <tr>\n",
       "      <th>1561</th>\n",
       "      <td>809</td>\n",
       "      <td>Юрий</td>\n",
       "      <td>26</td>\n",
       "      <td>Сочи</td>\n",
       "      <td>free</td>\n",
       "    </tr>\n",
       "    <tr>\n",
       "      <th>1562</th>\n",
       "      <td>307</td>\n",
       "      <td>Ясмина</td>\n",
       "      <td>19</td>\n",
       "      <td>Краснодар</td>\n",
       "      <td>ultra</td>\n",
       "    </tr>\n",
       "    <tr>\n",
       "      <th>1563</th>\n",
       "      <td>47</td>\n",
       "      <td>Юрий</td>\n",
       "      <td>28</td>\n",
       "      <td>Тюмень</td>\n",
       "      <td>ultra</td>\n",
       "    </tr>\n",
       "    <tr>\n",
       "      <th>1564</th>\n",
       "      <td>1045</td>\n",
       "      <td>Артемий</td>\n",
       "      <td>28</td>\n",
       "      <td>Ростов-на-Дону</td>\n",
       "      <td>free</td>\n",
       "    </tr>\n",
       "  </tbody>\n",
       "</table>\n",
       "<p>1565 rows × 5 columns</p>\n",
       "</div>"
      ],
      "text/plain": [
       "      user_id        name  age            city subscription_type\n",
       "0           1        Кира   22          Тюмень             ultra\n",
       "1           2   Станислав   31            Омск             ultra\n",
       "2           3     Алексей   20          Москва             ultra\n",
       "3           4  Константин   26  Ростов-на-Дону             ultra\n",
       "4           5       Адель   28            Омск             ultra\n",
       "...       ...         ...  ...             ...               ...\n",
       "1560      829       Федор   29       Пятигорск              free\n",
       "1561      809        Юрий   26            Сочи              free\n",
       "1562      307      Ясмина   19       Краснодар             ultra\n",
       "1563       47        Юрий   28          Тюмень             ultra\n",
       "1564     1045     Артемий   28  Ростов-на-Дону              free\n",
       "\n",
       "[1565 rows x 5 columns]"
      ]
     },
     "execution_count": 2,
     "metadata": {},
     "output_type": "execute_result"
    }
   ],
   "source": [
    "users_data = pd.read_csv('/datasets/users_go.csv')\n",
    "users_data"
   ]
  },
  {
   "cell_type": "code",
   "execution_count": 3,
   "id": "378b0ef2",
   "metadata": {},
   "outputs": [
    {
     "data": {
      "text/html": [
       "<div>\n",
       "<style scoped>\n",
       "    .dataframe tbody tr th:only-of-type {\n",
       "        vertical-align: middle;\n",
       "    }\n",
       "\n",
       "    .dataframe tbody tr th {\n",
       "        vertical-align: top;\n",
       "    }\n",
       "\n",
       "    .dataframe thead th {\n",
       "        text-align: right;\n",
       "    }\n",
       "</style>\n",
       "<table border=\"1\" class=\"dataframe\">\n",
       "  <thead>\n",
       "    <tr style=\"text-align: right;\">\n",
       "      <th></th>\n",
       "      <th>user_id</th>\n",
       "      <th>distance</th>\n",
       "      <th>duration</th>\n",
       "      <th>date</th>\n",
       "    </tr>\n",
       "  </thead>\n",
       "  <tbody>\n",
       "    <tr>\n",
       "      <th>0</th>\n",
       "      <td>1</td>\n",
       "      <td>4409.919140</td>\n",
       "      <td>25.599769</td>\n",
       "      <td>2021-01-01</td>\n",
       "    </tr>\n",
       "    <tr>\n",
       "      <th>1</th>\n",
       "      <td>1</td>\n",
       "      <td>2617.592153</td>\n",
       "      <td>15.816871</td>\n",
       "      <td>2021-01-18</td>\n",
       "    </tr>\n",
       "    <tr>\n",
       "      <th>2</th>\n",
       "      <td>1</td>\n",
       "      <td>754.159807</td>\n",
       "      <td>6.232113</td>\n",
       "      <td>2021-04-20</td>\n",
       "    </tr>\n",
       "    <tr>\n",
       "      <th>3</th>\n",
       "      <td>1</td>\n",
       "      <td>2694.783254</td>\n",
       "      <td>18.511000</td>\n",
       "      <td>2021-08-11</td>\n",
       "    </tr>\n",
       "    <tr>\n",
       "      <th>4</th>\n",
       "      <td>1</td>\n",
       "      <td>4028.687306</td>\n",
       "      <td>26.265803</td>\n",
       "      <td>2021-08-28</td>\n",
       "    </tr>\n",
       "    <tr>\n",
       "      <th>...</th>\n",
       "      <td>...</td>\n",
       "      <td>...</td>\n",
       "      <td>...</td>\n",
       "      <td>...</td>\n",
       "    </tr>\n",
       "    <tr>\n",
       "      <th>18063</th>\n",
       "      <td>1534</td>\n",
       "      <td>3781.098080</td>\n",
       "      <td>19.822962</td>\n",
       "      <td>2021-11-04</td>\n",
       "    </tr>\n",
       "    <tr>\n",
       "      <th>18064</th>\n",
       "      <td>1534</td>\n",
       "      <td>2840.423057</td>\n",
       "      <td>21.409799</td>\n",
       "      <td>2021-11-16</td>\n",
       "    </tr>\n",
       "    <tr>\n",
       "      <th>18065</th>\n",
       "      <td>1534</td>\n",
       "      <td>3826.185507</td>\n",
       "      <td>18.435051</td>\n",
       "      <td>2021-11-18</td>\n",
       "    </tr>\n",
       "    <tr>\n",
       "      <th>18066</th>\n",
       "      <td>1534</td>\n",
       "      <td>2902.308661</td>\n",
       "      <td>16.674362</td>\n",
       "      <td>2021-11-27</td>\n",
       "    </tr>\n",
       "    <tr>\n",
       "      <th>18067</th>\n",
       "      <td>1534</td>\n",
       "      <td>2371.711192</td>\n",
       "      <td>15.893917</td>\n",
       "      <td>2021-12-29</td>\n",
       "    </tr>\n",
       "  </tbody>\n",
       "</table>\n",
       "<p>18068 rows × 4 columns</p>\n",
       "</div>"
      ],
      "text/plain": [
       "       user_id     distance   duration        date\n",
       "0            1  4409.919140  25.599769  2021-01-01\n",
       "1            1  2617.592153  15.816871  2021-01-18\n",
       "2            1   754.159807   6.232113  2021-04-20\n",
       "3            1  2694.783254  18.511000  2021-08-11\n",
       "4            1  4028.687306  26.265803  2021-08-28\n",
       "...        ...          ...        ...         ...\n",
       "18063     1534  3781.098080  19.822962  2021-11-04\n",
       "18064     1534  2840.423057  21.409799  2021-11-16\n",
       "18065     1534  3826.185507  18.435051  2021-11-18\n",
       "18066     1534  2902.308661  16.674362  2021-11-27\n",
       "18067     1534  2371.711192  15.893917  2021-12-29\n",
       "\n",
       "[18068 rows x 4 columns]"
      ]
     },
     "execution_count": 3,
     "metadata": {},
     "output_type": "execute_result"
    }
   ],
   "source": [
    "rides_data = pd.read_csv('/datasets/rides_go.csv')\n",
    "rides_data"
   ]
  },
  {
   "cell_type": "code",
   "execution_count": 4,
   "id": "376249ca",
   "metadata": {},
   "outputs": [
    {
     "data": {
      "text/html": [
       "<div>\n",
       "<style scoped>\n",
       "    .dataframe tbody tr th:only-of-type {\n",
       "        vertical-align: middle;\n",
       "    }\n",
       "\n",
       "    .dataframe tbody tr th {\n",
       "        vertical-align: top;\n",
       "    }\n",
       "\n",
       "    .dataframe thead th {\n",
       "        text-align: right;\n",
       "    }\n",
       "</style>\n",
       "<table border=\"1\" class=\"dataframe\">\n",
       "  <thead>\n",
       "    <tr style=\"text-align: right;\">\n",
       "      <th></th>\n",
       "      <th>subscription_type</th>\n",
       "      <th>minute_price</th>\n",
       "      <th>start_ride_price</th>\n",
       "      <th>subscription_fee</th>\n",
       "    </tr>\n",
       "  </thead>\n",
       "  <tbody>\n",
       "    <tr>\n",
       "      <th>0</th>\n",
       "      <td>free</td>\n",
       "      <td>8</td>\n",
       "      <td>50</td>\n",
       "      <td>0</td>\n",
       "    </tr>\n",
       "    <tr>\n",
       "      <th>1</th>\n",
       "      <td>ultra</td>\n",
       "      <td>6</td>\n",
       "      <td>0</td>\n",
       "      <td>199</td>\n",
       "    </tr>\n",
       "  </tbody>\n",
       "</table>\n",
       "</div>"
      ],
      "text/plain": [
       "  subscription_type  minute_price  start_ride_price  subscription_fee\n",
       "0              free             8                50                 0\n",
       "1             ultra             6                 0               199"
      ]
     },
     "execution_count": 4,
     "metadata": {},
     "output_type": "execute_result"
    }
   ],
   "source": [
    "subscriptions_data = pd.read_csv('/datasets/subscriptions_go.csv')\n",
    "subscriptions_data"
   ]
  },
  {
   "cell_type": "markdown",
   "id": "e95ebca7",
   "metadata": {},
   "source": [
    "#### Шаг 2. Предобработка данных"
   ]
  },
  {
   "cell_type": "code",
   "execution_count": 5,
   "id": "af6d202c",
   "metadata": {},
   "outputs": [
    {
     "data": {
      "text/plain": [
       "user_id              0\n",
       "name                 0\n",
       "age                  0\n",
       "city                 0\n",
       "subscription_type    0\n",
       "dtype: int64"
      ]
     },
     "execution_count": 5,
     "metadata": {},
     "output_type": "execute_result"
    }
   ],
   "source": [
    "users_data.isna().sum()"
   ]
  },
  {
   "cell_type": "code",
   "execution_count": 6,
   "id": "f1fcf2d2",
   "metadata": {},
   "outputs": [
    {
     "data": {
      "text/plain": [
       "user_id     0\n",
       "distance    0\n",
       "duration    0\n",
       "date        0\n",
       "dtype: int64"
      ]
     },
     "execution_count": 6,
     "metadata": {},
     "output_type": "execute_result"
    }
   ],
   "source": [
    "rides_data.isna().sum()"
   ]
  },
  {
   "cell_type": "code",
   "execution_count": 7,
   "id": "e492d49a",
   "metadata": {},
   "outputs": [
    {
     "name": "stdout",
     "output_type": "stream",
     "text": [
      "<class 'pandas.core.frame.DataFrame'>\n",
      "RangeIndex: 1565 entries, 0 to 1564\n",
      "Data columns (total 5 columns):\n",
      " #   Column             Non-Null Count  Dtype \n",
      "---  ------             --------------  ----- \n",
      " 0   user_id            1565 non-null   int64 \n",
      " 1   name               1565 non-null   object\n",
      " 2   age                1565 non-null   int64 \n",
      " 3   city               1565 non-null   object\n",
      " 4   subscription_type  1565 non-null   object\n",
      "dtypes: int64(2), object(3)\n",
      "memory usage: 61.3+ KB\n"
     ]
    }
   ],
   "source": [
    "users_data.info()"
   ]
  },
  {
   "cell_type": "code",
   "execution_count": 8,
   "id": "248b8284",
   "metadata": {
    "scrolled": true
   },
   "outputs": [
    {
     "name": "stdout",
     "output_type": "stream",
     "text": [
      "<class 'pandas.core.frame.DataFrame'>\n",
      "RangeIndex: 18068 entries, 0 to 18067\n",
      "Data columns (total 4 columns):\n",
      " #   Column    Non-Null Count  Dtype  \n",
      "---  ------    --------------  -----  \n",
      " 0   user_id   18068 non-null  int64  \n",
      " 1   distance  18068 non-null  float64\n",
      " 2   duration  18068 non-null  float64\n",
      " 3   date      18068 non-null  object \n",
      "dtypes: float64(2), int64(1), object(1)\n",
      "memory usage: 564.8+ KB\n"
     ]
    }
   ],
   "source": [
    "rides_data.info()"
   ]
  },
  {
   "cell_type": "code",
   "execution_count": 9,
   "id": "4d34ee64",
   "metadata": {},
   "outputs": [
    {
     "name": "stdout",
     "output_type": "stream",
     "text": [
      "<class 'pandas.core.frame.DataFrame'>\n",
      "RangeIndex: 1565 entries, 0 to 1564\n",
      "Data columns (total 5 columns):\n",
      " #   Column             Non-Null Count  Dtype \n",
      "---  ------             --------------  ----- \n",
      " 0   user_id            1565 non-null   int64 \n",
      " 1   name               1565 non-null   object\n",
      " 2   age                1565 non-null   int64 \n",
      " 3   city               1565 non-null   object\n",
      " 4   subscription_type  1565 non-null   object\n",
      "dtypes: int64(2), object(3)\n",
      "memory usage: 61.3+ KB\n"
     ]
    }
   ],
   "source": [
    "users_data.info()"
   ]
  },
  {
   "cell_type": "markdown",
   "id": "4584bb3c",
   "metadata": {},
   "source": [
    "В таблице `users_data` 1565 записей, 5 столбцов. Изменение типов данных не требуется"
   ]
  },
  {
   "cell_type": "code",
   "execution_count": 10,
   "id": "a9975447",
   "metadata": {},
   "outputs": [
    {
     "name": "stdout",
     "output_type": "stream",
     "text": [
      "<class 'pandas.core.frame.DataFrame'>\n",
      "RangeIndex: 18068 entries, 0 to 18067\n",
      "Data columns (total 4 columns):\n",
      " #   Column    Non-Null Count  Dtype  \n",
      "---  ------    --------------  -----  \n",
      " 0   user_id   18068 non-null  int64  \n",
      " 1   distance  18068 non-null  float64\n",
      " 2   duration  18068 non-null  float64\n",
      " 3   date      18068 non-null  object \n",
      "dtypes: float64(2), int64(1), object(1)\n",
      "memory usage: 564.8+ KB\n"
     ]
    }
   ],
   "source": [
    "rides_data.info()"
   ]
  },
  {
   "cell_type": "markdown",
   "id": "221ce7d9",
   "metadata": {},
   "source": [
    "В таблице `rides_data` 18068 записей, 4 столбцов. Необходимо поменять тип данных столбца `date` на тип данных даты"
   ]
  },
  {
   "cell_type": "code",
   "execution_count": 11,
   "id": "ef7d1e0a",
   "metadata": {},
   "outputs": [
    {
     "name": "stdout",
     "output_type": "stream",
     "text": [
      "<class 'pandas.core.frame.DataFrame'>\n",
      "RangeIndex: 2 entries, 0 to 1\n",
      "Data columns (total 4 columns):\n",
      " #   Column             Non-Null Count  Dtype \n",
      "---  ------             --------------  ----- \n",
      " 0   subscription_type  2 non-null      object\n",
      " 1   minute_price       2 non-null      int64 \n",
      " 2   start_ride_price   2 non-null      int64 \n",
      " 3   subscription_fee   2 non-null      int64 \n",
      "dtypes: int64(3), object(1)\n",
      "memory usage: 192.0+ bytes\n"
     ]
    }
   ],
   "source": [
    "subscriptions_data.info()"
   ]
  },
  {
   "cell_type": "markdown",
   "id": "5a3888af",
   "metadata": {},
   "source": [
    "В таблице `subscriptions_data` 2 записи, 4 столбца. Изменение типов данных не требуется"
   ]
  },
  {
   "cell_type": "markdown",
   "id": "2010cef1",
   "metadata": {},
   "source": [
    "**2.1 Приведите столбец date к типу даты pandas.**"
   ]
  },
  {
   "cell_type": "code",
   "execution_count": 12,
   "id": "6e38a213",
   "metadata": {},
   "outputs": [
    {
     "name": "stdout",
     "output_type": "stream",
     "text": [
      "<class 'pandas.core.frame.DataFrame'>\n",
      "RangeIndex: 18068 entries, 0 to 18067\n",
      "Data columns (total 4 columns):\n",
      " #   Column    Non-Null Count  Dtype         \n",
      "---  ------    --------------  -----         \n",
      " 0   user_id   18068 non-null  int64         \n",
      " 1   distance  18068 non-null  float64       \n",
      " 2   duration  18068 non-null  float64       \n",
      " 3   date      18068 non-null  datetime64[ns]\n",
      "dtypes: datetime64[ns](1), float64(2), int64(1)\n",
      "memory usage: 564.8 KB\n"
     ]
    }
   ],
   "source": [
    "rides_data['date'] = pd.to_datetime(rides_data['date'])\n",
    "rides_data.info()"
   ]
  },
  {
   "cell_type": "markdown",
   "id": "2477044b",
   "metadata": {},
   "source": [
    "**2.2 Создайте новый столбец с номером месяца на основе столбца `date`.**"
   ]
  },
  {
   "cell_type": "code",
   "execution_count": 13,
   "id": "e1854014",
   "metadata": {
    "scrolled": true
   },
   "outputs": [
    {
     "data": {
      "text/html": [
       "<div>\n",
       "<style scoped>\n",
       "    .dataframe tbody tr th:only-of-type {\n",
       "        vertical-align: middle;\n",
       "    }\n",
       "\n",
       "    .dataframe tbody tr th {\n",
       "        vertical-align: top;\n",
       "    }\n",
       "\n",
       "    .dataframe thead th {\n",
       "        text-align: right;\n",
       "    }\n",
       "</style>\n",
       "<table border=\"1\" class=\"dataframe\">\n",
       "  <thead>\n",
       "    <tr style=\"text-align: right;\">\n",
       "      <th></th>\n",
       "      <th>user_id</th>\n",
       "      <th>distance</th>\n",
       "      <th>duration</th>\n",
       "      <th>date</th>\n",
       "      <th>month</th>\n",
       "    </tr>\n",
       "  </thead>\n",
       "  <tbody>\n",
       "    <tr>\n",
       "      <th>0</th>\n",
       "      <td>1</td>\n",
       "      <td>4409.919140</td>\n",
       "      <td>25.599769</td>\n",
       "      <td>2021-01-01</td>\n",
       "      <td>1</td>\n",
       "    </tr>\n",
       "    <tr>\n",
       "      <th>1</th>\n",
       "      <td>1</td>\n",
       "      <td>2617.592153</td>\n",
       "      <td>15.816871</td>\n",
       "      <td>2021-01-18</td>\n",
       "      <td>1</td>\n",
       "    </tr>\n",
       "    <tr>\n",
       "      <th>2</th>\n",
       "      <td>1</td>\n",
       "      <td>754.159807</td>\n",
       "      <td>6.232113</td>\n",
       "      <td>2021-04-20</td>\n",
       "      <td>4</td>\n",
       "    </tr>\n",
       "    <tr>\n",
       "      <th>3</th>\n",
       "      <td>1</td>\n",
       "      <td>2694.783254</td>\n",
       "      <td>18.511000</td>\n",
       "      <td>2021-08-11</td>\n",
       "      <td>8</td>\n",
       "    </tr>\n",
       "    <tr>\n",
       "      <th>4</th>\n",
       "      <td>1</td>\n",
       "      <td>4028.687306</td>\n",
       "      <td>26.265803</td>\n",
       "      <td>2021-08-28</td>\n",
       "      <td>8</td>\n",
       "    </tr>\n",
       "    <tr>\n",
       "      <th>...</th>\n",
       "      <td>...</td>\n",
       "      <td>...</td>\n",
       "      <td>...</td>\n",
       "      <td>...</td>\n",
       "      <td>...</td>\n",
       "    </tr>\n",
       "    <tr>\n",
       "      <th>18063</th>\n",
       "      <td>1534</td>\n",
       "      <td>3781.098080</td>\n",
       "      <td>19.822962</td>\n",
       "      <td>2021-11-04</td>\n",
       "      <td>11</td>\n",
       "    </tr>\n",
       "    <tr>\n",
       "      <th>18064</th>\n",
       "      <td>1534</td>\n",
       "      <td>2840.423057</td>\n",
       "      <td>21.409799</td>\n",
       "      <td>2021-11-16</td>\n",
       "      <td>11</td>\n",
       "    </tr>\n",
       "    <tr>\n",
       "      <th>18065</th>\n",
       "      <td>1534</td>\n",
       "      <td>3826.185507</td>\n",
       "      <td>18.435051</td>\n",
       "      <td>2021-11-18</td>\n",
       "      <td>11</td>\n",
       "    </tr>\n",
       "    <tr>\n",
       "      <th>18066</th>\n",
       "      <td>1534</td>\n",
       "      <td>2902.308661</td>\n",
       "      <td>16.674362</td>\n",
       "      <td>2021-11-27</td>\n",
       "      <td>11</td>\n",
       "    </tr>\n",
       "    <tr>\n",
       "      <th>18067</th>\n",
       "      <td>1534</td>\n",
       "      <td>2371.711192</td>\n",
       "      <td>15.893917</td>\n",
       "      <td>2021-12-29</td>\n",
       "      <td>12</td>\n",
       "    </tr>\n",
       "  </tbody>\n",
       "</table>\n",
       "<p>18068 rows × 5 columns</p>\n",
       "</div>"
      ],
      "text/plain": [
       "       user_id     distance   duration       date  month\n",
       "0            1  4409.919140  25.599769 2021-01-01      1\n",
       "1            1  2617.592153  15.816871 2021-01-18      1\n",
       "2            1   754.159807   6.232113 2021-04-20      4\n",
       "3            1  2694.783254  18.511000 2021-08-11      8\n",
       "4            1  4028.687306  26.265803 2021-08-28      8\n",
       "...        ...          ...        ...        ...    ...\n",
       "18063     1534  3781.098080  19.822962 2021-11-04     11\n",
       "18064     1534  2840.423057  21.409799 2021-11-16     11\n",
       "18065     1534  3826.185507  18.435051 2021-11-18     11\n",
       "18066     1534  2902.308661  16.674362 2021-11-27     11\n",
       "18067     1534  2371.711192  15.893917 2021-12-29     12\n",
       "\n",
       "[18068 rows x 5 columns]"
      ]
     },
     "execution_count": 13,
     "metadata": {},
     "output_type": "execute_result"
    }
   ],
   "source": [
    "rides_data['month'] = rides_data['date'].dt.month \n",
    "rides_data"
   ]
  },
  {
   "cell_type": "code",
   "execution_count": 14,
   "id": "ff24e325",
   "metadata": {},
   "outputs": [
    {
     "data": {
      "text/plain": [
       "array([2021])"
      ]
     },
     "execution_count": 14,
     "metadata": {},
     "output_type": "execute_result"
    }
   ],
   "source": [
    "rides_data['date'].dt.year.unique()"
   ]
  },
  {
   "cell_type": "code",
   "execution_count": 15,
   "id": "a3862d20",
   "metadata": {},
   "outputs": [
    {
     "data": {
      "text/plain": [
       "[1, 2, 3, 4, 5, 6, 7, 8, 9, 10, 11, 12]"
      ]
     },
     "execution_count": 15,
     "metadata": {},
     "output_type": "execute_result"
    }
   ],
   "source": [
    "sorted(rides_data['date'].dt.month.unique())"
   ]
  },
  {
   "cell_type": "markdown",
   "id": "011e42a1",
   "metadata": {},
   "source": [
    "В таблице `rides_data` представлены наблюдения за 2021 год на протяжении всех месяцев"
   ]
  },
  {
   "cell_type": "markdown",
   "id": "adc83f76",
   "metadata": {},
   "source": [
    "**2.3 Проверьте наличие пропущенных значений и дубликатов в датафреймах. Обработайте их, если такие значения присутствуют.**"
   ]
  },
  {
   "cell_type": "code",
   "execution_count": 16,
   "id": "9b66392b",
   "metadata": {},
   "outputs": [
    {
     "data": {
      "text/html": [
       "<div>\n",
       "<style scoped>\n",
       "    .dataframe tbody tr th:only-of-type {\n",
       "        vertical-align: middle;\n",
       "    }\n",
       "\n",
       "    .dataframe tbody tr th {\n",
       "        vertical-align: top;\n",
       "    }\n",
       "\n",
       "    .dataframe thead th {\n",
       "        text-align: right;\n",
       "    }\n",
       "</style>\n",
       "<table border=\"1\" class=\"dataframe\">\n",
       "  <thead>\n",
       "    <tr style=\"text-align: right;\">\n",
       "      <th></th>\n",
       "      <th>user_id</th>\n",
       "      <th>distance</th>\n",
       "      <th>duration</th>\n",
       "      <th>date</th>\n",
       "      <th>month</th>\n",
       "    </tr>\n",
       "  </thead>\n",
       "  <tbody>\n",
       "  </tbody>\n",
       "</table>\n",
       "</div>"
      ],
      "text/plain": [
       "Empty DataFrame\n",
       "Columns: [user_id, distance, duration, date, month]\n",
       "Index: []"
      ]
     },
     "execution_count": 16,
     "metadata": {},
     "output_type": "execute_result"
    }
   ],
   "source": [
    "rides_data[rides_data.duplicated()]"
   ]
  },
  {
   "cell_type": "code",
   "execution_count": 17,
   "id": "e9cb2a6d",
   "metadata": {},
   "outputs": [
    {
     "data": {
      "text/plain": [
       "(31, 5)"
      ]
     },
     "execution_count": 17,
     "metadata": {},
     "output_type": "execute_result"
    }
   ],
   "source": [
    "users_data[users_data.duplicated()].shape"
   ]
  },
  {
   "cell_type": "code",
   "execution_count": 18,
   "id": "99a3c7f6",
   "metadata": {},
   "outputs": [],
   "source": [
    "users_data.drop_duplicates(inplace=True)"
   ]
  },
  {
   "cell_type": "code",
   "execution_count": 19,
   "id": "4d237703",
   "metadata": {
    "scrolled": true
   },
   "outputs": [
    {
     "data": {
      "text/html": [
       "<div>\n",
       "<style scoped>\n",
       "    .dataframe tbody tr th:only-of-type {\n",
       "        vertical-align: middle;\n",
       "    }\n",
       "\n",
       "    .dataframe tbody tr th {\n",
       "        vertical-align: top;\n",
       "    }\n",
       "\n",
       "    .dataframe thead th {\n",
       "        text-align: right;\n",
       "    }\n",
       "</style>\n",
       "<table border=\"1\" class=\"dataframe\">\n",
       "  <thead>\n",
       "    <tr style=\"text-align: right;\">\n",
       "      <th></th>\n",
       "      <th>user_id</th>\n",
       "      <th>name</th>\n",
       "      <th>age</th>\n",
       "      <th>city</th>\n",
       "      <th>subscription_type</th>\n",
       "    </tr>\n",
       "  </thead>\n",
       "  <tbody>\n",
       "  </tbody>\n",
       "</table>\n",
       "</div>"
      ],
      "text/plain": [
       "Empty DataFrame\n",
       "Columns: [user_id, name, age, city, subscription_type]\n",
       "Index: []"
      ]
     },
     "execution_count": 19,
     "metadata": {},
     "output_type": "execute_result"
    }
   ],
   "source": [
    "users_data[users_data.duplicated()]"
   ]
  },
  {
   "cell_type": "markdown",
   "id": "909669d0",
   "metadata": {},
   "source": [
    "В таблицах `rides_data` `subscriptions_data` дубликатов выявлено не было, однако в таблице `users_data` дубликаты был выявлен 31 дубликат, поэтому они были обработаны"
   ]
  },
  {
   "cell_type": "markdown",
   "id": "212593c7",
   "metadata": {},
   "source": [
    "#### Шаг 3. Исследовательский анализ данных"
   ]
  },
  {
   "cell_type": "markdown",
   "id": "e305a066",
   "metadata": {},
   "source": [
    "**Опишите и визуализируйте общую информацию о пользователях и поездках:**\n",
    "\n",
    "**3.1 частота встречаемости городов**"
   ]
  },
  {
   "cell_type": "code",
   "execution_count": 20,
   "id": "48a28703",
   "metadata": {},
   "outputs": [
    {
     "data": {
      "text/plain": [
       "<AxesSubplot:>"
      ]
     },
     "execution_count": 20,
     "metadata": {},
     "output_type": "execute_result"
    },
    {
     "data": {
      "image/png": "[encoded data removed]",
      "text/plain": [
       "<Figure size 432x288 with 1 Axes>"
      ]
     },
     "metadata": {
      "needs_background": "light"
     },
     "output_type": "display_data"
    }
   ],
   "source": [
    "users_data['city'].hist(bins=8)"
   ]
  },
  {
   "cell_type": "code",
   "execution_count": 21,
   "id": "3998710b",
   "metadata": {},
   "outputs": [
    {
     "data": {
      "image/png": "[encoded data removed]",
      "text/plain": [
       "<Figure size 720x360 with 1 Axes>"
      ]
     },
     "metadata": {
      "needs_background": "light"
     },
     "output_type": "display_data"
    }
   ],
   "source": [
    "(\n",
    "    users_data.pivot_table(index='city', values='user_id', aggfunc='count').sort_values(by='user_id', ascending=True)\n",
    "    .plot(kind='barh', grid=True, figsize=(10, 5))\n",
    ")\n",
    "plt.title('Количество пользователей по городам')\n",
    "plt.ylabel('Города')\n",
    "plt.xlabel('Количество пользователей')\n",
    "\n",
    "plt.show()"
   ]
  },
  {
   "cell_type": "code",
   "execution_count": 22,
   "id": "b4e3015b",
   "metadata": {},
   "outputs": [
    {
     "name": "stdout",
     "output_type": "stream",
     "text": [
      "Количество пользователей по городам \n"
     ]
    },
    {
     "data": {
      "text/html": [
       "<div>\n",
       "<style scoped>\n",
       "    .dataframe tbody tr th:only-of-type {\n",
       "        vertical-align: middle;\n",
       "    }\n",
       "\n",
       "    .dataframe tbody tr th {\n",
       "        vertical-align: top;\n",
       "    }\n",
       "\n",
       "    .dataframe thead th {\n",
       "        text-align: right;\n",
       "    }\n",
       "</style>\n",
       "<table border=\"1\" class=\"dataframe\">\n",
       "  <thead>\n",
       "    <tr style=\"text-align: right;\">\n",
       "      <th></th>\n",
       "      <th>user_id</th>\n",
       "    </tr>\n",
       "    <tr>\n",
       "      <th>city</th>\n",
       "      <th></th>\n",
       "    </tr>\n",
       "  </thead>\n",
       "  <tbody>\n",
       "    <tr>\n",
       "      <th>Пятигорск</th>\n",
       "      <td>219</td>\n",
       "    </tr>\n",
       "    <tr>\n",
       "      <th>Екатеринбург</th>\n",
       "      <td>204</td>\n",
       "    </tr>\n",
       "    <tr>\n",
       "      <th>Ростов-на-Дону</th>\n",
       "      <td>198</td>\n",
       "    </tr>\n",
       "    <tr>\n",
       "      <th>Краснодар</th>\n",
       "      <td>193</td>\n",
       "    </tr>\n",
       "    <tr>\n",
       "      <th>Сочи</th>\n",
       "      <td>189</td>\n",
       "    </tr>\n",
       "    <tr>\n",
       "      <th>Омск</th>\n",
       "      <td>183</td>\n",
       "    </tr>\n",
       "    <tr>\n",
       "      <th>Тюмень</th>\n",
       "      <td>180</td>\n",
       "    </tr>\n",
       "    <tr>\n",
       "      <th>Москва</th>\n",
       "      <td>168</td>\n",
       "    </tr>\n",
       "  </tbody>\n",
       "</table>\n",
       "</div>"
      ],
      "text/plain": [
       "                user_id\n",
       "city                   \n",
       "Пятигорск           219\n",
       "Екатеринбург        204\n",
       "Ростов-на-Дону      198\n",
       "Краснодар           193\n",
       "Сочи                189\n",
       "Омск                183\n",
       "Тюмень              180\n",
       "Москва              168"
      ]
     },
     "execution_count": 22,
     "metadata": {},
     "output_type": "execute_result"
    }
   ],
   "source": [
    "print('Количество пользователей по городам ') \n",
    "users_data.pivot_table(index='city', values='user_id', aggfunc='count').sort_values(by='user_id', ascending=False)"
   ]
  },
  {
   "cell_type": "markdown",
   "id": "77dad9d8",
   "metadata": {},
   "source": [
    "Чаще всего встречаются люди, проживающие в Пятигорске, реже в Екатеринбурге и Ростове-на-Дону, завершают список люди, проживающие в Москве. Исходя из этих данных, можно сделать вывод, что первенство занимают в основном южные города, исключением является Екатеринбург."
   ]
  },
  {
   "cell_type": "markdown",
   "id": "0718888b",
   "metadata": {},
   "source": [
    "**3.2 соотношение пользователей с подпиской и без подписки;**"
   ]
  },
  {
   "cell_type": "code",
   "execution_count": 23,
   "id": "d781e606",
   "metadata": {
    "scrolled": true
   },
   "outputs": [
    {
     "data": {
      "image/png": "[encoded data removed]",
      "text/plain": [
       "<Figure size 720x360 with 1 Axes>"
      ]
     },
     "metadata": {
      "needs_background": "light"
     },
     "output_type": "display_data"
    }
   ],
   "source": [
    "(\n",
    "    users_data.pivot_table(index='subscription_type', values='user_id', aggfunc='count').sort_values(by='user_id', ascending=True)\n",
    "    .plot(kind='barh', grid=True, figsize=(10, 5))\n",
    ")\n",
    "plt.title('Количество пользователей с подпиской и без')\n",
    "plt.ylabel('Подписка')\n",
    "plt.xlabel('Количество пользователей')\n",
    "\n",
    "plt.show()"
   ]
  },
  {
   "cell_type": "code",
   "execution_count": 24,
   "id": "c75a161b",
   "metadata": {},
   "outputs": [
    {
     "data": {
      "image/png": "[encoded data removed]",
      "text/plain": [
       "<Figure size 720x720 with 1 Axes>"
      ]
     },
     "metadata": {},
     "output_type": "display_data"
    }
   ],
   "source": [
    "(\n",
    "    users_data.pivot_table(index='subscription_type', values='user_id', aggfunc='count')\n",
    "    .plot.pie(y='user_id', figsize=(10,10),  label='Количество пользователей', \n",
    "    autopct='%1.1f%%', startangle=45,\n",
    "    title='Отношение пользователей `free` - без подписки, `ultra` - с подпиской, к общему количеству')\n",
    "\n",
    ")\n",
    "plt.axis('equal')\n",
    "plt.show()"
   ]
  },
  {
   "cell_type": "code",
   "execution_count": 25,
   "id": "8b54b448",
   "metadata": {},
   "outputs": [
    {
     "name": "stdout",
     "output_type": "stream",
     "text": [
      "Количество пользователей с подпиской\n"
     ]
    },
    {
     "data": {
      "text/html": [
       "<div>\n",
       "<style scoped>\n",
       "    .dataframe tbody tr th:only-of-type {\n",
       "        vertical-align: middle;\n",
       "    }\n",
       "\n",
       "    .dataframe tbody tr th {\n",
       "        vertical-align: top;\n",
       "    }\n",
       "\n",
       "    .dataframe thead th {\n",
       "        text-align: right;\n",
       "    }\n",
       "</style>\n",
       "<table border=\"1\" class=\"dataframe\">\n",
       "  <thead>\n",
       "    <tr style=\"text-align: right;\">\n",
       "      <th></th>\n",
       "      <th>user_id</th>\n",
       "    </tr>\n",
       "    <tr>\n",
       "      <th>subscription_type</th>\n",
       "      <th></th>\n",
       "    </tr>\n",
       "  </thead>\n",
       "  <tbody>\n",
       "    <tr>\n",
       "      <th>free</th>\n",
       "      <td>835</td>\n",
       "    </tr>\n",
       "    <tr>\n",
       "      <th>ultra</th>\n",
       "      <td>699</td>\n",
       "    </tr>\n",
       "  </tbody>\n",
       "</table>\n",
       "</div>"
      ],
      "text/plain": [
       "                   user_id\n",
       "subscription_type         \n",
       "free                   835\n",
       "ultra                  699"
      ]
     },
     "execution_count": 25,
     "metadata": {},
     "output_type": "execute_result"
    }
   ],
   "source": [
    "print('Количество пользователей с подпиской') \n",
    "users_data.pivot_table(index='subscription_type', values='user_id', aggfunc='count').sort_values(by='user_id', ascending=False)"
   ]
  },
  {
   "cell_type": "markdown",
   "id": "54434b69",
   "metadata": {},
   "source": [
    "Из полученных данных можно сделать вывод, что людей без подписки больше, чем с ней."
   ]
  },
  {
   "cell_type": "markdown",
   "id": "7927a9d2",
   "metadata": {},
   "source": [
    "**3.3 возраст пользователей;**"
   ]
  },
  {
   "cell_type": "code",
   "execution_count": 26,
   "id": "3c56696d",
   "metadata": {
    "scrolled": false
   },
   "outputs": [
    {
     "data": {
      "image/png": "[encoded data removed]",
      "text/plain": [
       "<Figure size 720x360 with 1 Axes>"
      ]
     },
     "metadata": {
      "needs_background": "light"
     },
     "output_type": "display_data"
    }
   ],
   "source": [
    "(\n",
    "    users_data.pivot_table(index='age', values='user_id', aggfunc='count').sort_values(by='user_id', ascending=True)\n",
    "    .plot(kind='barh', grid=True, figsize=(10, 5))\n",
    ")\n",
    "plt.title('Количество пользователей по возрастам')\n",
    "plt.ylabel('Возраст')\n",
    "plt.xlabel('Количество пользователей')\n",
    "\n",
    "plt.show()"
   ]
  },
  {
   "cell_type": "code",
   "execution_count": 27,
   "id": "fcbd9e25",
   "metadata": {},
   "outputs": [
    {
     "name": "stdout",
     "output_type": "stream",
     "text": [
      "Возраст пользователей\n"
     ]
    },
    {
     "data": {
      "text/html": [
       "<div>\n",
       "<style scoped>\n",
       "    .dataframe tbody tr th:only-of-type {\n",
       "        vertical-align: middle;\n",
       "    }\n",
       "\n",
       "    .dataframe tbody tr th {\n",
       "        vertical-align: top;\n",
       "    }\n",
       "\n",
       "    .dataframe thead th {\n",
       "        text-align: right;\n",
       "    }\n",
       "</style>\n",
       "<table border=\"1\" class=\"dataframe\">\n",
       "  <thead>\n",
       "    <tr style=\"text-align: right;\">\n",
       "      <th></th>\n",
       "      <th>user_id</th>\n",
       "    </tr>\n",
       "    <tr>\n",
       "      <th>age</th>\n",
       "      <th></th>\n",
       "    </tr>\n",
       "  </thead>\n",
       "  <tbody>\n",
       "    <tr>\n",
       "      <th>25</th>\n",
       "      <td>145</td>\n",
       "    </tr>\n",
       "    <tr>\n",
       "      <th>24</th>\n",
       "      <td>132</td>\n",
       "    </tr>\n",
       "    <tr>\n",
       "      <th>26</th>\n",
       "      <td>131</td>\n",
       "    </tr>\n",
       "    <tr>\n",
       "      <th>23</th>\n",
       "      <td>129</td>\n",
       "    </tr>\n",
       "    <tr>\n",
       "      <th>27</th>\n",
       "      <td>119</td>\n",
       "    </tr>\n",
       "    <tr>\n",
       "      <th>22</th>\n",
       "      <td>119</td>\n",
       "    </tr>\n",
       "    <tr>\n",
       "      <th>28</th>\n",
       "      <td>112</td>\n",
       "    </tr>\n",
       "    <tr>\n",
       "      <th>21</th>\n",
       "      <td>93</td>\n",
       "    </tr>\n",
       "    <tr>\n",
       "      <th>20</th>\n",
       "      <td>71</td>\n",
       "    </tr>\n",
       "    <tr>\n",
       "      <th>30</th>\n",
       "      <td>68</td>\n",
       "    </tr>\n",
       "    <tr>\n",
       "      <th>29</th>\n",
       "      <td>68</td>\n",
       "    </tr>\n",
       "    <tr>\n",
       "      <th>31</th>\n",
       "      <td>48</td>\n",
       "    </tr>\n",
       "    <tr>\n",
       "      <th>19</th>\n",
       "      <td>47</td>\n",
       "    </tr>\n",
       "    <tr>\n",
       "      <th>18</th>\n",
       "      <td>46</td>\n",
       "    </tr>\n",
       "    <tr>\n",
       "      <th>32</th>\n",
       "      <td>41</td>\n",
       "    </tr>\n",
       "    <tr>\n",
       "      <th>33</th>\n",
       "      <td>39</td>\n",
       "    </tr>\n",
       "    <tr>\n",
       "      <th>17</th>\n",
       "      <td>26</td>\n",
       "    </tr>\n",
       "    <tr>\n",
       "      <th>34</th>\n",
       "      <td>19</td>\n",
       "    </tr>\n",
       "    <tr>\n",
       "      <th>16</th>\n",
       "      <td>19</td>\n",
       "    </tr>\n",
       "    <tr>\n",
       "      <th>35</th>\n",
       "      <td>15</td>\n",
       "    </tr>\n",
       "    <tr>\n",
       "      <th>15</th>\n",
       "      <td>13</td>\n",
       "    </tr>\n",
       "    <tr>\n",
       "      <th>14</th>\n",
       "      <td>9</td>\n",
       "    </tr>\n",
       "    <tr>\n",
       "      <th>13</th>\n",
       "      <td>8</td>\n",
       "    </tr>\n",
       "    <tr>\n",
       "      <th>36</th>\n",
       "      <td>6</td>\n",
       "    </tr>\n",
       "    <tr>\n",
       "      <th>12</th>\n",
       "      <td>4</td>\n",
       "    </tr>\n",
       "    <tr>\n",
       "      <th>38</th>\n",
       "      <td>3</td>\n",
       "    </tr>\n",
       "    <tr>\n",
       "      <th>37</th>\n",
       "      <td>2</td>\n",
       "    </tr>\n",
       "    <tr>\n",
       "      <th>39</th>\n",
       "      <td>1</td>\n",
       "    </tr>\n",
       "    <tr>\n",
       "      <th>43</th>\n",
       "      <td>1</td>\n",
       "    </tr>\n",
       "  </tbody>\n",
       "</table>\n",
       "</div>"
      ],
      "text/plain": [
       "     user_id\n",
       "age         \n",
       "25       145\n",
       "24       132\n",
       "26       131\n",
       "23       129\n",
       "27       119\n",
       "22       119\n",
       "28       112\n",
       "21        93\n",
       "20        71\n",
       "30        68\n",
       "29        68\n",
       "31        48\n",
       "19        47\n",
       "18        46\n",
       "32        41\n",
       "33        39\n",
       "17        26\n",
       "34        19\n",
       "16        19\n",
       "35        15\n",
       "15        13\n",
       "14         9\n",
       "13         8\n",
       "36         6\n",
       "12         4\n",
       "38         3\n",
       "37         2\n",
       "39         1\n",
       "43         1"
      ]
     },
     "execution_count": 27,
     "metadata": {},
     "output_type": "execute_result"
    }
   ],
   "source": [
    "print('Возраст пользователей') \n",
    "users_data.pivot_table(index='age', values='user_id', aggfunc='count').sort_values(by='user_id', ascending=False)"
   ]
  },
  {
   "cell_type": "code",
   "execution_count": 28,
   "id": "4eaf72c6",
   "metadata": {
    "scrolled": true
   },
   "outputs": [
    {
     "data": {
      "image/png": "[encoded data removed]",
      "text/plain": [
       "<Figure size 720x360 with 1 Axes>"
      ]
     },
     "metadata": {
      "needs_background": "light"
     },
     "output_type": "display_data"
    }
   ],
   "source": [
    "(\n",
    "    users_data.pivot_table(index='age', values='user_id', aggfunc='count').sort_values(by='age', ascending=True)\n",
    "    .plot(kind='bar' , grid=True, figsize=(10, 5))\n",
    ")\n",
    "plt.title('Количество пользователей по возрастам')\n",
    "plt.xlabel('Возраст')\n",
    "plt.ylabel('Количество')\n",
    "plt.show()"
   ]
  },
  {
   "cell_type": "markdown",
   "id": "34978eb4",
   "metadata": {},
   "source": [
    "Визуализация количества пользователей в зависимости от возраста указывает, что средний возраст потребителя услуги подчиняется нормальному распределению с медианой примерно в 25 лет, при этом средний возраст и медиана практически совпадают."
   ]
  },
  {
   "cell_type": "code",
   "execution_count": 29,
   "id": "afc15dcc",
   "metadata": {},
   "outputs": [
    {
     "data": {
      "text/plain": [
       "count    1534.000000\n",
       "mean       24.903520\n",
       "std         4.572367\n",
       "min        12.000000\n",
       "25%        22.000000\n",
       "50%        25.000000\n",
       "75%        28.000000\n",
       "max        43.000000\n",
       "Name: age, dtype: float64"
      ]
     },
     "execution_count": 29,
     "metadata": {},
     "output_type": "execute_result"
    }
   ],
   "source": [
    "users_data['age'].describe()"
   ]
  },
  {
   "cell_type": "markdown",
   "id": "55dbd9fc",
   "metadata": {},
   "source": [
    "Средний возраст потребителя услуги подчиняется нормальному распределению с медианой примерно в 25 лет, при этом средний возраст и медиана практически совпадают"
   ]
  },
  {
   "cell_type": "markdown",
   "id": "9a9a64ff",
   "metadata": {},
   "source": [
    "**3.4 расстояние, которое пользователь преодолел за одну поездку;**"
   ]
  },
  {
   "cell_type": "code",
   "execution_count": 30,
   "id": "d94b59bf",
   "metadata": {},
   "outputs": [
    {
     "data": {
      "text/plain": [
       "<AxesSubplot:>"
      ]
     },
     "execution_count": 30,
     "metadata": {},
     "output_type": "execute_result"
    },
    {
     "data": {
      "image/png": "[encoded data removed]",
      "text/plain": [
       "<Figure size 432x288 with 1 Axes>"
      ]
     },
     "metadata": {
      "needs_background": "light"
     },
     "output_type": "display_data"
    }
   ],
   "source": [
    "rides_data['distance'].hist()"
   ]
  },
  {
   "cell_type": "code",
   "execution_count": 31,
   "id": "a15922a8",
   "metadata": {},
   "outputs": [
    {
     "data": {
      "image/png": "[encoded data removed]",
      "text/plain": [
       "<Figure size 432x288 with 1 Axes>"
      ]
     },
     "metadata": {
      "needs_background": "light"
     },
     "output_type": "display_data"
    }
   ],
   "source": [
    "rides_data['distance'].hist()\n",
    "plt.title('Гистограмма расстояний поездок')\n",
    "plt.xlabel('Расстояние (м)')\n",
    "plt.ylabel('Количество поездок')\n",
    "plt.show()"
   ]
  },
  {
   "cell_type": "code",
   "execution_count": 32,
   "id": "e71ee199",
   "metadata": {},
   "outputs": [
    {
     "data": {
      "image/png": "[encoded data removed]",
      "text/plain": [
       "<Figure size 432x288 with 1 Axes>"
      ]
     },
     "metadata": {
      "needs_background": "light"
     },
     "output_type": "display_data"
    }
   ],
   "source": [
    "rides_data['distance'].hist(bins=1000)\n",
    "plt.title('Гистограмма расстояний поездок')\n",
    "plt.xlabel('Расстояние (м)')\n",
    "plt.ylabel('Количество поездок')\n",
    "plt.show()"
   ]
  },
  {
   "cell_type": "code",
   "execution_count": 33,
   "id": "836f5f37",
   "metadata": {},
   "outputs": [
    {
     "data": {
      "text/plain": [
       "count    18068.000000\n",
       "mean      3070.659976\n",
       "std       1116.831209\n",
       "min          0.855683\n",
       "25%       2543.226360\n",
       "50%       3133.609994\n",
       "75%       3776.222735\n",
       "max       7211.007745\n",
       "Name: distance, dtype: float64"
      ]
     },
     "execution_count": 33,
     "metadata": {},
     "output_type": "execute_result"
    }
   ],
   "source": [
    "rides_data['distance'].describe()"
   ]
  },
  {
   "cell_type": "markdown",
   "id": "4647f755",
   "metadata": {},
   "source": [
    "Исходя из гистограммы можно заметить, что распределение напоминает нормальное, однако слева есть некий всплеск слева где-то на 700 метрах. Также можно заметить, что среднее расстояние почти совпадает с медианой"
   ]
  },
  {
   "cell_type": "markdown",
   "id": "901ebaf3",
   "metadata": {},
   "source": [
    "Исходя из этой гистограммы можно сделать вывод, что в основном пользователи ездят на дистанции от 3000 метров до 4000 метров"
   ]
  },
  {
   "cell_type": "markdown",
   "id": "ac44e035",
   "metadata": {},
   "source": [
    "**3.5 продолжительность поездок.**"
   ]
  },
  {
   "cell_type": "code",
   "execution_count": 34,
   "id": "e3a4274c",
   "metadata": {},
   "outputs": [
    {
     "data": {
      "text/plain": [
       "<AxesSubplot:>"
      ]
     },
     "execution_count": 34,
     "metadata": {},
     "output_type": "execute_result"
    },
    {
     "data": {
      "image/png": "[encoded data removed]",
      "text/plain": [
       "<Figure size 432x288 with 1 Axes>"
      ]
     },
     "metadata": {
      "needs_background": "light"
     },
     "output_type": "display_data"
    }
   ],
   "source": [
    "rides_data['duration'].hist()"
   ]
  },
  {
   "cell_type": "markdown",
   "id": "0e9265a5",
   "metadata": {},
   "source": [
    "Распределение напоминает нормальное. В основном продолжительность поездок занимает 20 минут."
   ]
  },
  {
   "cell_type": "code",
   "execution_count": 35,
   "id": "71476bc8",
   "metadata": {},
   "outputs": [
    {
     "data": {
      "image/png": "[encoded data removed]",
      "text/plain": [
       "<Figure size 432x288 with 1 Axes>"
      ]
     },
     "metadata": {
      "needs_background": "light"
     },
     "output_type": "display_data"
    }
   ],
   "source": [
    "rides_data['duration'].hist()\n",
    "plt.title('Гистограмма продолжительности поездок')\n",
    "plt.xlabel('Продолжительность сессии в минутах')\n",
    "plt.ylabel('Количество поездок')\n",
    "plt.show()"
   ]
  },
  {
   "cell_type": "code",
   "execution_count": 36,
   "id": "7b06c115",
   "metadata": {},
   "outputs": [
    {
     "data": {
      "image/png": "[encoded data removed]",
      "text/plain": [
       "<Figure size 432x288 with 1 Axes>"
      ]
     },
     "metadata": {
      "needs_background": "light"
     },
     "output_type": "display_data"
    },
    {
     "name": "stdout",
     "output_type": "stream",
     "text": [
      "Максимальная скорость перемещения (метр/мин) 14422.015489197038\n"
     ]
    }
   ],
   "source": [
    "plt.hist(rides_data['distance'] / rides_data['duration'],bins=5, range=(0,5))\n",
    "plt.title('Количество поездок с определенной скоростью')\n",
    "plt.xlabel('Рассояние / Время (Метр/Мин)')\n",
    "plt.ylabel('Количество поездок')\n",
    "plt.show()\n",
    "\n",
    "print('Максимальная скорость перемещения (метр/мин)', (rides_data['distance'] / rides_data['duration']).max())"
   ]
  },
  {
   "cell_type": "code",
   "execution_count": 37,
   "id": "cab4f583",
   "metadata": {},
   "outputs": [
    {
     "data": {
      "text/plain": [
       "count    18068.000000\n",
       "mean       229.754352\n",
       "std        735.936479\n",
       "min          0.085552\n",
       "25%        135.464046\n",
       "50%        170.852249\n",
       "75%        215.496668\n",
       "max      14422.015489\n",
       "dtype: float64"
      ]
     },
     "execution_count": 37,
     "metadata": {},
     "output_type": "execute_result"
    }
   ],
   "source": [
    "(rides_data['distance'] / rides_data['duration']).describe()"
   ]
  },
  {
   "cell_type": "markdown",
   "id": "4ef51331",
   "metadata": {},
   "source": [
    "#### Шаг 4. Объединение данных"
   ]
  },
  {
   "cell_type": "markdown",
   "id": "4680e326",
   "metadata": {},
   "source": [
    "**4.1 Объедините данные о пользователях, поездках и подписках в один датафрейм. Для этого воспользуйтесь методом `merge()`.**"
   ]
  },
  {
   "cell_type": "code",
   "execution_count": 38,
   "id": "6bf288b5",
   "metadata": {},
   "outputs": [
    {
     "data": {
      "text/html": [
       "<div>\n",
       "<style scoped>\n",
       "    .dataframe tbody tr th:only-of-type {\n",
       "        vertical-align: middle;\n",
       "    }\n",
       "\n",
       "    .dataframe tbody tr th {\n",
       "        vertical-align: top;\n",
       "    }\n",
       "\n",
       "    .dataframe thead th {\n",
       "        text-align: right;\n",
       "    }\n",
       "</style>\n",
       "<table border=\"1\" class=\"dataframe\">\n",
       "  <thead>\n",
       "    <tr style=\"text-align: right;\">\n",
       "      <th></th>\n",
       "      <th>user_id</th>\n",
       "      <th>name</th>\n",
       "      <th>age</th>\n",
       "      <th>city</th>\n",
       "      <th>subscription_type</th>\n",
       "      <th>distance</th>\n",
       "      <th>duration</th>\n",
       "      <th>date</th>\n",
       "      <th>month</th>\n",
       "      <th>minute_price</th>\n",
       "      <th>start_ride_price</th>\n",
       "      <th>subscription_fee</th>\n",
       "    </tr>\n",
       "  </thead>\n",
       "  <tbody>\n",
       "    <tr>\n",
       "      <th>0</th>\n",
       "      <td>1</td>\n",
       "      <td>Кира</td>\n",
       "      <td>22</td>\n",
       "      <td>Тюмень</td>\n",
       "      <td>ultra</td>\n",
       "      <td>4409.919140</td>\n",
       "      <td>25.599769</td>\n",
       "      <td>2021-01-01</td>\n",
       "      <td>1</td>\n",
       "      <td>6</td>\n",
       "      <td>0</td>\n",
       "      <td>199</td>\n",
       "    </tr>\n",
       "    <tr>\n",
       "      <th>1</th>\n",
       "      <td>1</td>\n",
       "      <td>Кира</td>\n",
       "      <td>22</td>\n",
       "      <td>Тюмень</td>\n",
       "      <td>ultra</td>\n",
       "      <td>2617.592153</td>\n",
       "      <td>15.816871</td>\n",
       "      <td>2021-01-18</td>\n",
       "      <td>1</td>\n",
       "      <td>6</td>\n",
       "      <td>0</td>\n",
       "      <td>199</td>\n",
       "    </tr>\n",
       "    <tr>\n",
       "      <th>2</th>\n",
       "      <td>1</td>\n",
       "      <td>Кира</td>\n",
       "      <td>22</td>\n",
       "      <td>Тюмень</td>\n",
       "      <td>ultra</td>\n",
       "      <td>754.159807</td>\n",
       "      <td>6.232113</td>\n",
       "      <td>2021-04-20</td>\n",
       "      <td>4</td>\n",
       "      <td>6</td>\n",
       "      <td>0</td>\n",
       "      <td>199</td>\n",
       "    </tr>\n",
       "    <tr>\n",
       "      <th>3</th>\n",
       "      <td>1</td>\n",
       "      <td>Кира</td>\n",
       "      <td>22</td>\n",
       "      <td>Тюмень</td>\n",
       "      <td>ultra</td>\n",
       "      <td>2694.783254</td>\n",
       "      <td>18.511000</td>\n",
       "      <td>2021-08-11</td>\n",
       "      <td>8</td>\n",
       "      <td>6</td>\n",
       "      <td>0</td>\n",
       "      <td>199</td>\n",
       "    </tr>\n",
       "    <tr>\n",
       "      <th>4</th>\n",
       "      <td>1</td>\n",
       "      <td>Кира</td>\n",
       "      <td>22</td>\n",
       "      <td>Тюмень</td>\n",
       "      <td>ultra</td>\n",
       "      <td>4028.687306</td>\n",
       "      <td>26.265803</td>\n",
       "      <td>2021-08-28</td>\n",
       "      <td>8</td>\n",
       "      <td>6</td>\n",
       "      <td>0</td>\n",
       "      <td>199</td>\n",
       "    </tr>\n",
       "    <tr>\n",
       "      <th>...</th>\n",
       "      <td>...</td>\n",
       "      <td>...</td>\n",
       "      <td>...</td>\n",
       "      <td>...</td>\n",
       "      <td>...</td>\n",
       "      <td>...</td>\n",
       "      <td>...</td>\n",
       "      <td>...</td>\n",
       "      <td>...</td>\n",
       "      <td>...</td>\n",
       "      <td>...</td>\n",
       "      <td>...</td>\n",
       "    </tr>\n",
       "    <tr>\n",
       "      <th>18063</th>\n",
       "      <td>1534</td>\n",
       "      <td>Альберт</td>\n",
       "      <td>25</td>\n",
       "      <td>Краснодар</td>\n",
       "      <td>free</td>\n",
       "      <td>3781.098080</td>\n",
       "      <td>19.822962</td>\n",
       "      <td>2021-11-04</td>\n",
       "      <td>11</td>\n",
       "      <td>8</td>\n",
       "      <td>50</td>\n",
       "      <td>0</td>\n",
       "    </tr>\n",
       "    <tr>\n",
       "      <th>18064</th>\n",
       "      <td>1534</td>\n",
       "      <td>Альберт</td>\n",
       "      <td>25</td>\n",
       "      <td>Краснодар</td>\n",
       "      <td>free</td>\n",
       "      <td>2840.423057</td>\n",
       "      <td>21.409799</td>\n",
       "      <td>2021-11-16</td>\n",
       "      <td>11</td>\n",
       "      <td>8</td>\n",
       "      <td>50</td>\n",
       "      <td>0</td>\n",
       "    </tr>\n",
       "    <tr>\n",
       "      <th>18065</th>\n",
       "      <td>1534</td>\n",
       "      <td>Альберт</td>\n",
       "      <td>25</td>\n",
       "      <td>Краснодар</td>\n",
       "      <td>free</td>\n",
       "      <td>3826.185507</td>\n",
       "      <td>18.435051</td>\n",
       "      <td>2021-11-18</td>\n",
       "      <td>11</td>\n",
       "      <td>8</td>\n",
       "      <td>50</td>\n",
       "      <td>0</td>\n",
       "    </tr>\n",
       "    <tr>\n",
       "      <th>18066</th>\n",
       "      <td>1534</td>\n",
       "      <td>Альберт</td>\n",
       "      <td>25</td>\n",
       "      <td>Краснодар</td>\n",
       "      <td>free</td>\n",
       "      <td>2902.308661</td>\n",
       "      <td>16.674362</td>\n",
       "      <td>2021-11-27</td>\n",
       "      <td>11</td>\n",
       "      <td>8</td>\n",
       "      <td>50</td>\n",
       "      <td>0</td>\n",
       "    </tr>\n",
       "    <tr>\n",
       "      <th>18067</th>\n",
       "      <td>1534</td>\n",
       "      <td>Альберт</td>\n",
       "      <td>25</td>\n",
       "      <td>Краснодар</td>\n",
       "      <td>free</td>\n",
       "      <td>2371.711192</td>\n",
       "      <td>15.893917</td>\n",
       "      <td>2021-12-29</td>\n",
       "      <td>12</td>\n",
       "      <td>8</td>\n",
       "      <td>50</td>\n",
       "      <td>0</td>\n",
       "    </tr>\n",
       "  </tbody>\n",
       "</table>\n",
       "<p>18068 rows × 12 columns</p>\n",
       "</div>"
      ],
      "text/plain": [
       "       user_id     name  age       city subscription_type     distance  \\\n",
       "0            1     Кира   22     Тюмень             ultra  4409.919140   \n",
       "1            1     Кира   22     Тюмень             ultra  2617.592153   \n",
       "2            1     Кира   22     Тюмень             ultra   754.159807   \n",
       "3            1     Кира   22     Тюмень             ultra  2694.783254   \n",
       "4            1     Кира   22     Тюмень             ultra  4028.687306   \n",
       "...        ...      ...  ...        ...               ...          ...   \n",
       "18063     1534  Альберт   25  Краснодар              free  3781.098080   \n",
       "18064     1534  Альберт   25  Краснодар              free  2840.423057   \n",
       "18065     1534  Альберт   25  Краснодар              free  3826.185507   \n",
       "18066     1534  Альберт   25  Краснодар              free  2902.308661   \n",
       "18067     1534  Альберт   25  Краснодар              free  2371.711192   \n",
       "\n",
       "        duration       date  month  minute_price  start_ride_price  \\\n",
       "0      25.599769 2021-01-01      1             6                 0   \n",
       "1      15.816871 2021-01-18      1             6                 0   \n",
       "2       6.232113 2021-04-20      4             6                 0   \n",
       "3      18.511000 2021-08-11      8             6                 0   \n",
       "4      26.265803 2021-08-28      8             6                 0   \n",
       "...          ...        ...    ...           ...               ...   \n",
       "18063  19.822962 2021-11-04     11             8                50   \n",
       "18064  21.409799 2021-11-16     11             8                50   \n",
       "18065  18.435051 2021-11-18     11             8                50   \n",
       "18066  16.674362 2021-11-27     11             8                50   \n",
       "18067  15.893917 2021-12-29     12             8                50   \n",
       "\n",
       "       subscription_fee  \n",
       "0                   199  \n",
       "1                   199  \n",
       "2                   199  \n",
       "3                   199  \n",
       "4                   199  \n",
       "...                 ...  \n",
       "18063                 0  \n",
       "18064                 0  \n",
       "18065                 0  \n",
       "18066                 0  \n",
       "18067                 0  \n",
       "\n",
       "[18068 rows x 12 columns]"
      ]
     },
     "execution_count": 38,
     "metadata": {},
     "output_type": "execute_result"
    }
   ],
   "source": [
    "data = pd.merge(users_data, rides_data, on='user_id')\n",
    "data = pd.merge(data, subscriptions_data, on='subscription_type')\n",
    "data"
   ]
  },
  {
   "cell_type": "code",
   "execution_count": 39,
   "id": "bf504582",
   "metadata": {
    "scrolled": true
   },
   "outputs": [
    {
     "name": "stdout",
     "output_type": "stream",
     "text": [
      "Количество явных дубликатов в `df` =  0 \n",
      "\n",
      "<class 'pandas.core.frame.DataFrame'>\n",
      "Int64Index: 18068 entries, 0 to 18067\n",
      "Data columns (total 12 columns):\n",
      " #   Column             Non-Null Count  Dtype         \n",
      "---  ------             --------------  -----         \n",
      " 0   user_id            18068 non-null  int64         \n",
      " 1   name               18068 non-null  object        \n",
      " 2   age                18068 non-null  int64         \n",
      " 3   city               18068 non-null  object        \n",
      " 4   subscription_type  18068 non-null  object        \n",
      " 5   distance           18068 non-null  float64       \n",
      " 6   duration           18068 non-null  float64       \n",
      " 7   date               18068 non-null  datetime64[ns]\n",
      " 8   month              18068 non-null  int64         \n",
      " 9   minute_price       18068 non-null  int64         \n",
      " 10  start_ride_price   18068 non-null  int64         \n",
      " 11  subscription_fee   18068 non-null  int64         \n",
      "dtypes: datetime64[ns](1), float64(2), int64(6), object(3)\n",
      "memory usage: 1.8+ MB\n"
     ]
    }
   ],
   "source": [
    "print('Количество явных дубликатов в `df` = ', data.duplicated().sum(), '\\n')\n",
    "data.info()"
   ]
  },
  {
   "cell_type": "code",
   "execution_count": 40,
   "id": "d40df1d3",
   "metadata": {},
   "outputs": [
    {
     "name": "stdout",
     "output_type": "stream",
     "text": [
      "Данные не были потеряны и лишние записи не были добавлены\n"
     ]
    }
   ],
   "source": [
    "if rides_data.shape[0] == data.shape[0]:\n",
    "    print('Данные не были потеряны и лишние записи не были добавлены')\n",
    "else:\n",
    "    print('Что-то пошло не так')"
   ]
  },
  {
   "cell_type": "code",
   "execution_count": 41,
   "id": "9dedb9c3",
   "metadata": {},
   "outputs": [
    {
     "data": {
      "text/plain": [
       "user_id              0\n",
       "name                 0\n",
       "age                  0\n",
       "city                 0\n",
       "subscription_type    0\n",
       "distance             0\n",
       "duration             0\n",
       "date                 0\n",
       "month                0\n",
       "minute_price         0\n",
       "start_ride_price     0\n",
       "subscription_fee     0\n",
       "dtype: int64"
      ]
     },
     "execution_count": 41,
     "metadata": {},
     "output_type": "execute_result"
    }
   ],
   "source": [
    "data.isna().sum()"
   ]
  },
  {
   "cell_type": "markdown",
   "id": "9065097f",
   "metadata": {},
   "source": [
    "Объединение прошло корректно, данные не были потеряны, а также лишние записи не были добавлены. Количество записей с одной из исходных таблиц совпадает. Пропусков и дубликатов нет."
   ]
  },
  {
   "cell_type": "markdown",
   "id": "d7ce474f",
   "metadata": {},
   "source": [
    "**4.2 Создайте ещё два датафрейма из датафрейма, созданного на этапе 4.1:**\n",
    "- c данными о пользователях без подписки;\n",
    "- с данными о пользователях с подпиской."
   ]
  },
  {
   "cell_type": "code",
   "execution_count": 42,
   "id": "78c43e5f",
   "metadata": {},
   "outputs": [
    {
     "data": {
      "text/html": [
       "<div>\n",
       "<style scoped>\n",
       "    .dataframe tbody tr th:only-of-type {\n",
       "        vertical-align: middle;\n",
       "    }\n",
       "\n",
       "    .dataframe tbody tr th {\n",
       "        vertical-align: top;\n",
       "    }\n",
       "\n",
       "    .dataframe thead th {\n",
       "        text-align: right;\n",
       "    }\n",
       "</style>\n",
       "<table border=\"1\" class=\"dataframe\">\n",
       "  <thead>\n",
       "    <tr style=\"text-align: right;\">\n",
       "      <th></th>\n",
       "      <th>user_id</th>\n",
       "      <th>name</th>\n",
       "      <th>age</th>\n",
       "      <th>city</th>\n",
       "      <th>subscription_type</th>\n",
       "      <th>distance</th>\n",
       "      <th>duration</th>\n",
       "      <th>date</th>\n",
       "      <th>month</th>\n",
       "      <th>minute_price</th>\n",
       "      <th>start_ride_price</th>\n",
       "      <th>subscription_fee</th>\n",
       "    </tr>\n",
       "  </thead>\n",
       "  <tbody>\n",
       "    <tr>\n",
       "      <th>6500</th>\n",
       "      <td>700</td>\n",
       "      <td>Айдар</td>\n",
       "      <td>22</td>\n",
       "      <td>Омск</td>\n",
       "      <td>free</td>\n",
       "      <td>2515.690719</td>\n",
       "      <td>14.944286</td>\n",
       "      <td>2021-01-02</td>\n",
       "      <td>1</td>\n",
       "      <td>8</td>\n",
       "      <td>50</td>\n",
       "      <td>0</td>\n",
       "    </tr>\n",
       "    <tr>\n",
       "      <th>6501</th>\n",
       "      <td>700</td>\n",
       "      <td>Айдар</td>\n",
       "      <td>22</td>\n",
       "      <td>Омск</td>\n",
       "      <td>free</td>\n",
       "      <td>846.932642</td>\n",
       "      <td>16.234663</td>\n",
       "      <td>2021-02-01</td>\n",
       "      <td>2</td>\n",
       "      <td>8</td>\n",
       "      <td>50</td>\n",
       "      <td>0</td>\n",
       "    </tr>\n",
       "    <tr>\n",
       "      <th>6502</th>\n",
       "      <td>700</td>\n",
       "      <td>Айдар</td>\n",
       "      <td>22</td>\n",
       "      <td>Омск</td>\n",
       "      <td>free</td>\n",
       "      <td>4004.434142</td>\n",
       "      <td>20.016628</td>\n",
       "      <td>2021-02-04</td>\n",
       "      <td>2</td>\n",
       "      <td>8</td>\n",
       "      <td>50</td>\n",
       "      <td>0</td>\n",
       "    </tr>\n",
       "    <tr>\n",
       "      <th>6503</th>\n",
       "      <td>700</td>\n",
       "      <td>Айдар</td>\n",
       "      <td>22</td>\n",
       "      <td>Омск</td>\n",
       "      <td>free</td>\n",
       "      <td>1205.911290</td>\n",
       "      <td>9.782872</td>\n",
       "      <td>2021-02-10</td>\n",
       "      <td>2</td>\n",
       "      <td>8</td>\n",
       "      <td>50</td>\n",
       "      <td>0</td>\n",
       "    </tr>\n",
       "    <tr>\n",
       "      <th>6504</th>\n",
       "      <td>700</td>\n",
       "      <td>Айдар</td>\n",
       "      <td>22</td>\n",
       "      <td>Омск</td>\n",
       "      <td>free</td>\n",
       "      <td>3047.379435</td>\n",
       "      <td>17.427673</td>\n",
       "      <td>2021-02-14</td>\n",
       "      <td>2</td>\n",
       "      <td>8</td>\n",
       "      <td>50</td>\n",
       "      <td>0</td>\n",
       "    </tr>\n",
       "    <tr>\n",
       "      <th>...</th>\n",
       "      <td>...</td>\n",
       "      <td>...</td>\n",
       "      <td>...</td>\n",
       "      <td>...</td>\n",
       "      <td>...</td>\n",
       "      <td>...</td>\n",
       "      <td>...</td>\n",
       "      <td>...</td>\n",
       "      <td>...</td>\n",
       "      <td>...</td>\n",
       "      <td>...</td>\n",
       "      <td>...</td>\n",
       "    </tr>\n",
       "    <tr>\n",
       "      <th>18063</th>\n",
       "      <td>1534</td>\n",
       "      <td>Альберт</td>\n",
       "      <td>25</td>\n",
       "      <td>Краснодар</td>\n",
       "      <td>free</td>\n",
       "      <td>3781.098080</td>\n",
       "      <td>19.822962</td>\n",
       "      <td>2021-11-04</td>\n",
       "      <td>11</td>\n",
       "      <td>8</td>\n",
       "      <td>50</td>\n",
       "      <td>0</td>\n",
       "    </tr>\n",
       "    <tr>\n",
       "      <th>18064</th>\n",
       "      <td>1534</td>\n",
       "      <td>Альберт</td>\n",
       "      <td>25</td>\n",
       "      <td>Краснодар</td>\n",
       "      <td>free</td>\n",
       "      <td>2840.423057</td>\n",
       "      <td>21.409799</td>\n",
       "      <td>2021-11-16</td>\n",
       "      <td>11</td>\n",
       "      <td>8</td>\n",
       "      <td>50</td>\n",
       "      <td>0</td>\n",
       "    </tr>\n",
       "    <tr>\n",
       "      <th>18065</th>\n",
       "      <td>1534</td>\n",
       "      <td>Альберт</td>\n",
       "      <td>25</td>\n",
       "      <td>Краснодар</td>\n",
       "      <td>free</td>\n",
       "      <td>3826.185507</td>\n",
       "      <td>18.435051</td>\n",
       "      <td>2021-11-18</td>\n",
       "      <td>11</td>\n",
       "      <td>8</td>\n",
       "      <td>50</td>\n",
       "      <td>0</td>\n",
       "    </tr>\n",
       "    <tr>\n",
       "      <th>18066</th>\n",
       "      <td>1534</td>\n",
       "      <td>Альберт</td>\n",
       "      <td>25</td>\n",
       "      <td>Краснодар</td>\n",
       "      <td>free</td>\n",
       "      <td>2902.308661</td>\n",
       "      <td>16.674362</td>\n",
       "      <td>2021-11-27</td>\n",
       "      <td>11</td>\n",
       "      <td>8</td>\n",
       "      <td>50</td>\n",
       "      <td>0</td>\n",
       "    </tr>\n",
       "    <tr>\n",
       "      <th>18067</th>\n",
       "      <td>1534</td>\n",
       "      <td>Альберт</td>\n",
       "      <td>25</td>\n",
       "      <td>Краснодар</td>\n",
       "      <td>free</td>\n",
       "      <td>2371.711192</td>\n",
       "      <td>15.893917</td>\n",
       "      <td>2021-12-29</td>\n",
       "      <td>12</td>\n",
       "      <td>8</td>\n",
       "      <td>50</td>\n",
       "      <td>0</td>\n",
       "    </tr>\n",
       "  </tbody>\n",
       "</table>\n",
       "<p>11568 rows × 12 columns</p>\n",
       "</div>"
      ],
      "text/plain": [
       "       user_id     name  age       city subscription_type     distance  \\\n",
       "6500       700    Айдар   22       Омск              free  2515.690719   \n",
       "6501       700    Айдар   22       Омск              free   846.932642   \n",
       "6502       700    Айдар   22       Омск              free  4004.434142   \n",
       "6503       700    Айдар   22       Омск              free  1205.911290   \n",
       "6504       700    Айдар   22       Омск              free  3047.379435   \n",
       "...        ...      ...  ...        ...               ...          ...   \n",
       "18063     1534  Альберт   25  Краснодар              free  3781.098080   \n",
       "18064     1534  Альберт   25  Краснодар              free  2840.423057   \n",
       "18065     1534  Альберт   25  Краснодар              free  3826.185507   \n",
       "18066     1534  Альберт   25  Краснодар              free  2902.308661   \n",
       "18067     1534  Альберт   25  Краснодар              free  2371.711192   \n",
       "\n",
       "        duration       date  month  minute_price  start_ride_price  \\\n",
       "6500   14.944286 2021-01-02      1             8                50   \n",
       "6501   16.234663 2021-02-01      2             8                50   \n",
       "6502   20.016628 2021-02-04      2             8                50   \n",
       "6503    9.782872 2021-02-10      2             8                50   \n",
       "6504   17.427673 2021-02-14      2             8                50   \n",
       "...          ...        ...    ...           ...               ...   \n",
       "18063  19.822962 2021-11-04     11             8                50   \n",
       "18064  21.409799 2021-11-16     11             8                50   \n",
       "18065  18.435051 2021-11-18     11             8                50   \n",
       "18066  16.674362 2021-11-27     11             8                50   \n",
       "18067  15.893917 2021-12-29     12             8                50   \n",
       "\n",
       "       subscription_fee  \n",
       "6500                  0  \n",
       "6501                  0  \n",
       "6502                  0  \n",
       "6503                  0  \n",
       "6504                  0  \n",
       "...                 ...  \n",
       "18063                 0  \n",
       "18064                 0  \n",
       "18065                 0  \n",
       "18066                 0  \n",
       "18067                 0  \n",
       "\n",
       "[11568 rows x 12 columns]"
      ]
     },
     "execution_count": 42,
     "metadata": {},
     "output_type": "execute_result"
    }
   ],
   "source": [
    "data_free = data[data['subscription_type'] == 'free']\n",
    "data_free"
   ]
  },
  {
   "cell_type": "code",
   "execution_count": 43,
   "id": "80aa168d",
   "metadata": {
    "scrolled": true
   },
   "outputs": [
    {
     "data": {
      "text/html": [
       "<div>\n",
       "<style scoped>\n",
       "    .dataframe tbody tr th:only-of-type {\n",
       "        vertical-align: middle;\n",
       "    }\n",
       "\n",
       "    .dataframe tbody tr th {\n",
       "        vertical-align: top;\n",
       "    }\n",
       "\n",
       "    .dataframe thead th {\n",
       "        text-align: right;\n",
       "    }\n",
       "</style>\n",
       "<table border=\"1\" class=\"dataframe\">\n",
       "  <thead>\n",
       "    <tr style=\"text-align: right;\">\n",
       "      <th></th>\n",
       "      <th>user_id</th>\n",
       "      <th>name</th>\n",
       "      <th>age</th>\n",
       "      <th>city</th>\n",
       "      <th>subscription_type</th>\n",
       "      <th>distance</th>\n",
       "      <th>duration</th>\n",
       "      <th>date</th>\n",
       "      <th>month</th>\n",
       "      <th>minute_price</th>\n",
       "      <th>start_ride_price</th>\n",
       "      <th>subscription_fee</th>\n",
       "    </tr>\n",
       "  </thead>\n",
       "  <tbody>\n",
       "    <tr>\n",
       "      <th>0</th>\n",
       "      <td>1</td>\n",
       "      <td>Кира</td>\n",
       "      <td>22</td>\n",
       "      <td>Тюмень</td>\n",
       "      <td>ultra</td>\n",
       "      <td>4409.919140</td>\n",
       "      <td>25.599769</td>\n",
       "      <td>2021-01-01</td>\n",
       "      <td>1</td>\n",
       "      <td>6</td>\n",
       "      <td>0</td>\n",
       "      <td>199</td>\n",
       "    </tr>\n",
       "    <tr>\n",
       "      <th>1</th>\n",
       "      <td>1</td>\n",
       "      <td>Кира</td>\n",
       "      <td>22</td>\n",
       "      <td>Тюмень</td>\n",
       "      <td>ultra</td>\n",
       "      <td>2617.592153</td>\n",
       "      <td>15.816871</td>\n",
       "      <td>2021-01-18</td>\n",
       "      <td>1</td>\n",
       "      <td>6</td>\n",
       "      <td>0</td>\n",
       "      <td>199</td>\n",
       "    </tr>\n",
       "    <tr>\n",
       "      <th>2</th>\n",
       "      <td>1</td>\n",
       "      <td>Кира</td>\n",
       "      <td>22</td>\n",
       "      <td>Тюмень</td>\n",
       "      <td>ultra</td>\n",
       "      <td>754.159807</td>\n",
       "      <td>6.232113</td>\n",
       "      <td>2021-04-20</td>\n",
       "      <td>4</td>\n",
       "      <td>6</td>\n",
       "      <td>0</td>\n",
       "      <td>199</td>\n",
       "    </tr>\n",
       "    <tr>\n",
       "      <th>3</th>\n",
       "      <td>1</td>\n",
       "      <td>Кира</td>\n",
       "      <td>22</td>\n",
       "      <td>Тюмень</td>\n",
       "      <td>ultra</td>\n",
       "      <td>2694.783254</td>\n",
       "      <td>18.511000</td>\n",
       "      <td>2021-08-11</td>\n",
       "      <td>8</td>\n",
       "      <td>6</td>\n",
       "      <td>0</td>\n",
       "      <td>199</td>\n",
       "    </tr>\n",
       "    <tr>\n",
       "      <th>4</th>\n",
       "      <td>1</td>\n",
       "      <td>Кира</td>\n",
       "      <td>22</td>\n",
       "      <td>Тюмень</td>\n",
       "      <td>ultra</td>\n",
       "      <td>4028.687306</td>\n",
       "      <td>26.265803</td>\n",
       "      <td>2021-08-28</td>\n",
       "      <td>8</td>\n",
       "      <td>6</td>\n",
       "      <td>0</td>\n",
       "      <td>199</td>\n",
       "    </tr>\n",
       "    <tr>\n",
       "      <th>...</th>\n",
       "      <td>...</td>\n",
       "      <td>...</td>\n",
       "      <td>...</td>\n",
       "      <td>...</td>\n",
       "      <td>...</td>\n",
       "      <td>...</td>\n",
       "      <td>...</td>\n",
       "      <td>...</td>\n",
       "      <td>...</td>\n",
       "      <td>...</td>\n",
       "      <td>...</td>\n",
       "      <td>...</td>\n",
       "    </tr>\n",
       "    <tr>\n",
       "      <th>6495</th>\n",
       "      <td>699</td>\n",
       "      <td>Оксана</td>\n",
       "      <td>22</td>\n",
       "      <td>Москва</td>\n",
       "      <td>ultra</td>\n",
       "      <td>3973.046497</td>\n",
       "      <td>24.671163</td>\n",
       "      <td>2021-08-29</td>\n",
       "      <td>8</td>\n",
       "      <td>6</td>\n",
       "      <td>0</td>\n",
       "      <td>199</td>\n",
       "    </tr>\n",
       "    <tr>\n",
       "      <th>6496</th>\n",
       "      <td>699</td>\n",
       "      <td>Оксана</td>\n",
       "      <td>22</td>\n",
       "      <td>Москва</td>\n",
       "      <td>ultra</td>\n",
       "      <td>3288.702563</td>\n",
       "      <td>15.892886</td>\n",
       "      <td>2021-09-12</td>\n",
       "      <td>9</td>\n",
       "      <td>6</td>\n",
       "      <td>0</td>\n",
       "      <td>199</td>\n",
       "    </tr>\n",
       "    <tr>\n",
       "      <th>6497</th>\n",
       "      <td>699</td>\n",
       "      <td>Оксана</td>\n",
       "      <td>22</td>\n",
       "      <td>Москва</td>\n",
       "      <td>ultra</td>\n",
       "      <td>3076.159348</td>\n",
       "      <td>14.389525</td>\n",
       "      <td>2021-09-26</td>\n",
       "      <td>9</td>\n",
       "      <td>6</td>\n",
       "      <td>0</td>\n",
       "      <td>199</td>\n",
       "    </tr>\n",
       "    <tr>\n",
       "      <th>6498</th>\n",
       "      <td>699</td>\n",
       "      <td>Оксана</td>\n",
       "      <td>22</td>\n",
       "      <td>Москва</td>\n",
       "      <td>ultra</td>\n",
       "      <td>4707.845501</td>\n",
       "      <td>15.839579</td>\n",
       "      <td>2021-10-17</td>\n",
       "      <td>10</td>\n",
       "      <td>6</td>\n",
       "      <td>0</td>\n",
       "      <td>199</td>\n",
       "    </tr>\n",
       "    <tr>\n",
       "      <th>6499</th>\n",
       "      <td>699</td>\n",
       "      <td>Оксана</td>\n",
       "      <td>22</td>\n",
       "      <td>Москва</td>\n",
       "      <td>ultra</td>\n",
       "      <td>3202.890770</td>\n",
       "      <td>25.217345</td>\n",
       "      <td>2021-12-03</td>\n",
       "      <td>12</td>\n",
       "      <td>6</td>\n",
       "      <td>0</td>\n",
       "      <td>199</td>\n",
       "    </tr>\n",
       "  </tbody>\n",
       "</table>\n",
       "<p>6500 rows × 12 columns</p>\n",
       "</div>"
      ],
      "text/plain": [
       "      user_id    name  age    city subscription_type     distance   duration  \\\n",
       "0           1    Кира   22  Тюмень             ultra  4409.919140  25.599769   \n",
       "1           1    Кира   22  Тюмень             ultra  2617.592153  15.816871   \n",
       "2           1    Кира   22  Тюмень             ultra   754.159807   6.232113   \n",
       "3           1    Кира   22  Тюмень             ultra  2694.783254  18.511000   \n",
       "4           1    Кира   22  Тюмень             ultra  4028.687306  26.265803   \n",
       "...       ...     ...  ...     ...               ...          ...        ...   \n",
       "6495      699  Оксана   22  Москва             ultra  3973.046497  24.671163   \n",
       "6496      699  Оксана   22  Москва             ultra  3288.702563  15.892886   \n",
       "6497      699  Оксана   22  Москва             ultra  3076.159348  14.389525   \n",
       "6498      699  Оксана   22  Москва             ultra  4707.845501  15.839579   \n",
       "6499      699  Оксана   22  Москва             ultra  3202.890770  25.217345   \n",
       "\n",
       "           date  month  minute_price  start_ride_price  subscription_fee  \n",
       "0    2021-01-01      1             6                 0               199  \n",
       "1    2021-01-18      1             6                 0               199  \n",
       "2    2021-04-20      4             6                 0               199  \n",
       "3    2021-08-11      8             6                 0               199  \n",
       "4    2021-08-28      8             6                 0               199  \n",
       "...         ...    ...           ...               ...               ...  \n",
       "6495 2021-08-29      8             6                 0               199  \n",
       "6496 2021-09-12      9             6                 0               199  \n",
       "6497 2021-09-26      9             6                 0               199  \n",
       "6498 2021-10-17     10             6                 0               199  \n",
       "6499 2021-12-03     12             6                 0               199  \n",
       "\n",
       "[6500 rows x 12 columns]"
      ]
     },
     "execution_count": 43,
     "metadata": {},
     "output_type": "execute_result"
    }
   ],
   "source": [
    "data_ultra = data[data['subscription_type'] == 'ultra']\n",
    "data_ultra"
   ]
  },
  {
   "cell_type": "code",
   "execution_count": 44,
   "id": "09dabbbc",
   "metadata": {},
   "outputs": [
    {
     "name": "stdout",
     "output_type": "stream",
     "text": [
      "Разделение прошло успешно\n"
     ]
    }
   ],
   "source": [
    "if data.shape[0] == (data_free.shape[0] + data_ultra.shape[0]):\n",
    "    print('Разделение прошло успешно')\n",
    "else:\n",
    "    print('Что-то пошло не так')"
   ]
  },
  {
   "cell_type": "markdown",
   "id": "1e04a8e2",
   "metadata": {},
   "source": [
    "Разделение прошло успешно, совокупный размер датафреймов совпадает с количеством строк в исходной таблице."
   ]
  },
  {
   "cell_type": "markdown",
   "id": "3ae15efa",
   "metadata": {},
   "source": [
    "**4.3 Визуализируйте информацию о расстоянии и времени поездок для пользователей обеих категорий.**"
   ]
  },
  {
   "cell_type": "code",
   "execution_count": 45,
   "id": "19e98ab0",
   "metadata": {
    "scrolled": true
   },
   "outputs": [
    {
     "data": {
      "text/plain": [
       "<AxesSubplot:>"
      ]
     },
     "execution_count": 45,
     "metadata": {},
     "output_type": "execute_result"
    },
    {
     "data": {
      "image/png": "[encoded data removed]",
      "text/plain": [
       "<Figure size 432x288 with 1 Axes>"
      ]
     },
     "metadata": {
      "needs_background": "light"
     },
     "output_type": "display_data"
    }
   ],
   "source": [
    "data_free['distance'].hist()"
   ]
  },
  {
   "cell_type": "code",
   "execution_count": 46,
   "id": "f9f15c71",
   "metadata": {
    "scrolled": true
   },
   "outputs": [
    {
     "data": {
      "text/plain": [
       "<AxesSubplot:>"
      ]
     },
     "execution_count": 46,
     "metadata": {},
     "output_type": "execute_result"
    },
    {
     "data": {
      "image/png": "[encoded data removed]",
      "text/plain": [
       "<Figure size 432x288 with 1 Axes>"
      ]
     },
     "metadata": {
      "needs_background": "light"
     },
     "output_type": "display_data"
    }
   ],
   "source": [
    "data_ultra['distance'].hist()"
   ]
  },
  {
   "cell_type": "code",
   "execution_count": 47,
   "id": "9e2bf863",
   "metadata": {},
   "outputs": [
    {
     "data": {
      "text/plain": [
       "count    11568.000000\n",
       "mean      3045.495282\n",
       "std       1246.173806\n",
       "min          0.855683\n",
       "25%       2366.562689\n",
       "50%       3114.648465\n",
       "75%       3905.697894\n",
       "max       7211.007745\n",
       "Name: distance, dtype: float64"
      ]
     },
     "execution_count": 47,
     "metadata": {},
     "output_type": "execute_result"
    }
   ],
   "source": [
    "data_free['distance'].describe()"
   ]
  },
  {
   "cell_type": "code",
   "execution_count": 48,
   "id": "b5cbefc7",
   "metadata": {
    "scrolled": true
   },
   "outputs": [
    {
     "data": {
      "text/plain": [
       "count    6500.000000\n",
       "mean     3115.445388\n",
       "std       836.895330\n",
       "min       244.210438\n",
       "25%      2785.444017\n",
       "50%      3148.637229\n",
       "75%      3560.574425\n",
       "max      5699.769662\n",
       "Name: distance, dtype: float64"
      ]
     },
     "execution_count": 48,
     "metadata": {},
     "output_type": "execute_result"
    }
   ],
   "source": [
    "data_ultra['distance'].describe()"
   ]
  },
  {
   "cell_type": "code",
   "execution_count": 49,
   "id": "966f5b5f",
   "metadata": {},
   "outputs": [
    {
     "data": {
      "image/png": "[encoded data removed]",
      "text/plain": [
       "<Figure size 432x288 with 1 Axes>"
      ]
     },
     "metadata": {
      "needs_background": "light"
     },
     "output_type": "display_data"
    }
   ],
   "source": [
    "bins = np.linspace(0, 40)\n",
    "\n",
    "pyplot.hist(data_ultra['duration'], bins, alpha=0.3, label='ultra')\n",
    "pyplot.hist(data_free['duration'], bins, alpha=0.3, label='free')\n",
    "pyplot.legend(loc='upper right')\n",
    "pyplot.title('Информация о времени для пользователей обеих категорий')\n",
    "pyplot.xlabel('Время')\n",
    "pyplot.ylabel('Количество поездок')\n",
    "pyplot.show()\n"
   ]
  },
  {
   "cell_type": "code",
   "execution_count": 50,
   "id": "8c17fd64",
   "metadata": {},
   "outputs": [
    {
     "data": {
      "image/png": "[encoded data removed]",
      "text/plain": [
       "<Figure size 432x288 with 1 Axes>"
      ]
     },
     "metadata": {
      "needs_background": "light"
     },
     "output_type": "display_data"
    }
   ],
   "source": [
    "bins = np.linspace(0, 7000)\n",
    "\n",
    "pyplot.hist(data_ultra['distance'], bins, alpha=0.3, label='ultra')\n",
    "pyplot.hist(data_free['distance'], bins, alpha=0.3, label='free')\n",
    "pyplot.legend(loc='upper right')\n",
    "pyplot.title('Информация о расстоянии для пользователей обеих категорий')\n",
    "pyplot.xlabel('Расстояние')\n",
    "pyplot.ylabel('Количество поездок')\n",
    "pyplot.show()\n"
   ]
  },
  {
   "cell_type": "code",
   "execution_count": 51,
   "id": "773ebb74",
   "metadata": {},
   "outputs": [
    {
     "data": {
      "text/plain": [
       "count    6500.000000\n",
       "mean     3115.445388\n",
       "std       836.895330\n",
       "min       244.210438\n",
       "25%      2785.444017\n",
       "50%      3148.637229\n",
       "75%      3560.574425\n",
       "max      5699.769662\n",
       "Name: distance, dtype: float64"
      ]
     },
     "execution_count": 51,
     "metadata": {},
     "output_type": "execute_result"
    }
   ],
   "source": [
    "data_ultra['distance'].describe()"
   ]
  },
  {
   "cell_type": "code",
   "execution_count": 52,
   "id": "6b619e9e",
   "metadata": {},
   "outputs": [
    {
     "data": {
      "text/plain": [
       "count    11568.000000\n",
       "mean      3045.495282\n",
       "std       1246.173806\n",
       "min          0.855683\n",
       "25%       2366.562689\n",
       "50%       3114.648465\n",
       "75%       3905.697894\n",
       "max       7211.007745\n",
       "Name: distance, dtype: float64"
      ]
     },
     "execution_count": 52,
     "metadata": {},
     "output_type": "execute_result"
    }
   ],
   "source": [
    "data_free['distance'].describe()"
   ]
  },
  {
   "cell_type": "code",
   "execution_count": 53,
   "id": "cfae27d7",
   "metadata": {},
   "outputs": [
    {
     "data": {
      "text/plain": [
       "count    11568.000000\n",
       "mean        17.390909\n",
       "std          6.326803\n",
       "min          0.500000\n",
       "25%         12.958437\n",
       "50%         17.326890\n",
       "75%         21.594071\n",
       "max         34.948498\n",
       "Name: duration, dtype: float64"
      ]
     },
     "execution_count": 53,
     "metadata": {},
     "output_type": "execute_result"
    }
   ],
   "source": [
    "data_free['duration'].describe()"
   ]
  },
  {
   "cell_type": "code",
   "execution_count": 54,
   "id": "6812dda9",
   "metadata": {},
   "outputs": [
    {
     "data": {
      "text/plain": [
       "count    6500.000000\n",
       "mean       18.541985\n",
       "std         5.572048\n",
       "min         3.760353\n",
       "25%        14.524654\n",
       "50%        18.178153\n",
       "75%        21.884129\n",
       "max        40.823963\n",
       "Name: duration, dtype: float64"
      ]
     },
     "execution_count": 54,
     "metadata": {},
     "output_type": "execute_result"
    }
   ],
   "source": [
    "data_ultra['duration'].describe()"
   ]
  },
  {
   "cell_type": "markdown",
   "id": "d2249ce9",
   "metadata": {},
   "source": [
    "Исходя из гистограммы о времени для пользователей обеих категорий можно сделать вывод, что люди без подписки трятят больше времени на поездку, чем люди с подпиской `ultra`.\n",
    "\n",
    "Если рассматривать гистограмму с информацией о расстоянии для польлзователей обеих категорий, то можно сделать вывод, что пользователи с подпиской `ultra` ездят на бОльшие расстояние, нежели пользователи без подписки."
   ]
  },
  {
   "cell_type": "markdown",
   "id": "30ea9512",
   "metadata": {},
   "source": [
    "Исходя из описательной статистики, можно сделать вывод, что разброс по расстоянию у людей с подпиской меньше, чем у людей без нее. Также можно заметить, что наличие подписки влияет на среднее расстояние: с подпиской оно равно `3115.445388`, а без нее - `3045.495282`."
   ]
  },
  {
   "cell_type": "markdown",
   "id": "402d620f",
   "metadata": {},
   "source": [
    "#### Шаг 5. Подсчёт выручки"
   ]
  },
  {
   "cell_type": "markdown",
   "id": "83cf296a",
   "metadata": {},
   "source": [
    "**5.1 Создайте датафрейм с агрегированными данными о поездках на основе датафрейма с объединёнными данными из шага 4: найдите суммарное расстояние, количество поездок и суммарное время для каждого пользователя за каждый месяц.**"
   ]
  },
  {
   "cell_type": "code",
   "execution_count": 55,
   "id": "96f34ffa",
   "metadata": {},
   "outputs": [
    {
     "data": {
      "text/plain": [
       "0    26.0\n",
       "1    16.0\n",
       "2     7.0\n",
       "3    19.0\n",
       "4    27.0\n",
       "Name: duration, dtype: float64"
      ]
     },
     "execution_count": 55,
     "metadata": {},
     "output_type": "execute_result"
    }
   ],
   "source": [
    "data['duration'] = np.ceil(data['duration'])\n",
    "data['duration'].head()"
   ]
  },
  {
   "cell_type": "code",
   "execution_count": 56,
   "id": "6f3c1d7c",
   "metadata": {},
   "outputs": [
    {
     "data": {
      "text/html": [
       "<div>\n",
       "<style scoped>\n",
       "    .dataframe tbody tr th:only-of-type {\n",
       "        vertical-align: middle;\n",
       "    }\n",
       "\n",
       "    .dataframe tbody tr th {\n",
       "        vertical-align: top;\n",
       "    }\n",
       "\n",
       "    .dataframe thead th {\n",
       "        text-align: right;\n",
       "    }\n",
       "</style>\n",
       "<table border=\"1\" class=\"dataframe\">\n",
       "  <thead>\n",
       "    <tr style=\"text-align: right;\">\n",
       "      <th></th>\n",
       "      <th></th>\n",
       "      <th>count</th>\n",
       "      <th>distance</th>\n",
       "      <th>duration</th>\n",
       "      <th>minute_price</th>\n",
       "      <th>start_ride_price</th>\n",
       "      <th>subscription_fee</th>\n",
       "    </tr>\n",
       "    <tr>\n",
       "      <th>user_id</th>\n",
       "      <th>month</th>\n",
       "      <th></th>\n",
       "      <th></th>\n",
       "      <th></th>\n",
       "      <th></th>\n",
       "      <th></th>\n",
       "      <th></th>\n",
       "    </tr>\n",
       "  </thead>\n",
       "  <tbody>\n",
       "    <tr>\n",
       "      <th rowspan=\"5\" valign=\"top\">1</th>\n",
       "      <th>1</th>\n",
       "      <td>2</td>\n",
       "      <td>7027.511294</td>\n",
       "      <td>42.0</td>\n",
       "      <td>6</td>\n",
       "      <td>0</td>\n",
       "      <td>199</td>\n",
       "    </tr>\n",
       "    <tr>\n",
       "      <th>4</th>\n",
       "      <td>1</td>\n",
       "      <td>754.159807</td>\n",
       "      <td>7.0</td>\n",
       "      <td>6</td>\n",
       "      <td>0</td>\n",
       "      <td>199</td>\n",
       "    </tr>\n",
       "    <tr>\n",
       "      <th>8</th>\n",
       "      <td>2</td>\n",
       "      <td>6723.470560</td>\n",
       "      <td>46.0</td>\n",
       "      <td>6</td>\n",
       "      <td>0</td>\n",
       "      <td>199</td>\n",
       "    </tr>\n",
       "    <tr>\n",
       "      <th>10</th>\n",
       "      <td>2</td>\n",
       "      <td>5809.911100</td>\n",
       "      <td>32.0</td>\n",
       "      <td>6</td>\n",
       "      <td>0</td>\n",
       "      <td>199</td>\n",
       "    </tr>\n",
       "    <tr>\n",
       "      <th>11</th>\n",
       "      <td>3</td>\n",
       "      <td>7003.499363</td>\n",
       "      <td>56.0</td>\n",
       "      <td>6</td>\n",
       "      <td>0</td>\n",
       "      <td>199</td>\n",
       "    </tr>\n",
       "    <tr>\n",
       "      <th>...</th>\n",
       "      <th>...</th>\n",
       "      <td>...</td>\n",
       "      <td>...</td>\n",
       "      <td>...</td>\n",
       "      <td>...</td>\n",
       "      <td>...</td>\n",
       "      <td>...</td>\n",
       "    </tr>\n",
       "    <tr>\n",
       "      <th rowspan=\"5\" valign=\"top\">1534</th>\n",
       "      <th>6</th>\n",
       "      <td>2</td>\n",
       "      <td>3409.468534</td>\n",
       "      <td>26.0</td>\n",
       "      <td>8</td>\n",
       "      <td>50</td>\n",
       "      <td>0</td>\n",
       "    </tr>\n",
       "    <tr>\n",
       "      <th>8</th>\n",
       "      <td>2</td>\n",
       "      <td>7622.453034</td>\n",
       "      <td>48.0</td>\n",
       "      <td>8</td>\n",
       "      <td>50</td>\n",
       "      <td>0</td>\n",
       "    </tr>\n",
       "    <tr>\n",
       "      <th>9</th>\n",
       "      <td>1</td>\n",
       "      <td>4928.173852</td>\n",
       "      <td>23.0</td>\n",
       "      <td>8</td>\n",
       "      <td>50</td>\n",
       "      <td>0</td>\n",
       "    </tr>\n",
       "    <tr>\n",
       "      <th>11</th>\n",
       "      <td>4</td>\n",
       "      <td>13350.015305</td>\n",
       "      <td>78.0</td>\n",
       "      <td>8</td>\n",
       "      <td>50</td>\n",
       "      <td>0</td>\n",
       "    </tr>\n",
       "    <tr>\n",
       "      <th>12</th>\n",
       "      <td>1</td>\n",
       "      <td>2371.711192</td>\n",
       "      <td>16.0</td>\n",
       "      <td>8</td>\n",
       "      <td>50</td>\n",
       "      <td>0</td>\n",
       "    </tr>\n",
       "  </tbody>\n",
       "</table>\n",
       "<p>11331 rows × 6 columns</p>\n",
       "</div>"
      ],
      "text/plain": [
       "               count      distance  duration  minute_price  start_ride_price  \\\n",
       "user_id month                                                                  \n",
       "1       1          2   7027.511294      42.0             6                 0   \n",
       "        4          1    754.159807       7.0             6                 0   \n",
       "        8          2   6723.470560      46.0             6                 0   \n",
       "        10         2   5809.911100      32.0             6                 0   \n",
       "        11         3   7003.499363      56.0             6                 0   \n",
       "...              ...           ...       ...           ...               ...   \n",
       "1534    6          2   3409.468534      26.0             8                50   \n",
       "        8          2   7622.453034      48.0             8                50   \n",
       "        9          1   4928.173852      23.0             8                50   \n",
       "        11         4  13350.015305      78.0             8                50   \n",
       "        12         1   2371.711192      16.0             8                50   \n",
       "\n",
       "               subscription_fee  \n",
       "user_id month                    \n",
       "1       1                   199  \n",
       "        4                   199  \n",
       "        8                   199  \n",
       "        10                  199  \n",
       "        11                  199  \n",
       "...                         ...  \n",
       "1534    6                     0  \n",
       "        8                     0  \n",
       "        9                     0  \n",
       "        11                    0  \n",
       "        12                    0  \n",
       "\n",
       "[11331 rows x 6 columns]"
      ]
     },
     "execution_count": 56,
     "metadata": {},
     "output_type": "execute_result"
    }
   ],
   "source": [
    "data_agg = data.pivot_table(\n",
    "    index=('user_id', 'month'),\n",
    "    values=(\n",
    "        'distance', \n",
    "        'duration', \n",
    "        'minute_price', \n",
    "        'start_ride_price', \n",
    "        'subscription_fee'\n",
    "    ), \n",
    "    aggfunc=({'distance':{'count', 'sum'}, \n",
    "             'duration':'sum',\n",
    "             'minute_price': 'mean',\n",
    "             'start_ride_price':'mean',\n",
    "             'subscription_fee':'mean',})\n",
    ")\n",
    "data_agg.columns = [\n",
    "    'count', \n",
    "    'distance', \n",
    "    'duration', \n",
    "    'minute_price',\n",
    "    'start_ride_price', \n",
    "    'subscription_fee'\n",
    "]\n",
    "data_agg"
   ]
  },
  {
   "cell_type": "markdown",
   "id": "5b934091",
   "metadata": {},
   "source": [
    "**5.2 В этот же датафрейм добавьте столбец с помесячной выручкой, которую принёс каждый пользователь. Для этого обратитесь к информации об условиях оплаты для подписчиков и тех, у кого нет подписки. Продолжительность каждой поездки в каждой строке исходного датафрейма для подсчёта стоимости округляется до следующего целого числа: например, значения 25.3, 25.5 и 26.0 должны быть преобразованы к 26.**"
   ]
  },
  {
   "cell_type": "code",
   "execution_count": 58,
   "id": "fb8b4d8f",
   "metadata": {
    "scrolled": false
   },
   "outputs": [
    {
     "data": {
      "text/html": [
       "<div>\n",
       "<style scoped>\n",
       "    .dataframe tbody tr th:only-of-type {\n",
       "        vertical-align: middle;\n",
       "    }\n",
       "\n",
       "    .dataframe tbody tr th {\n",
       "        vertical-align: top;\n",
       "    }\n",
       "\n",
       "    .dataframe thead th {\n",
       "        text-align: right;\n",
       "    }\n",
       "</style>\n",
       "<table border=\"1\" class=\"dataframe\">\n",
       "  <thead>\n",
       "    <tr style=\"text-align: right;\">\n",
       "      <th></th>\n",
       "      <th></th>\n",
       "      <th>count</th>\n",
       "      <th>distance</th>\n",
       "      <th>duration</th>\n",
       "      <th>minute_price</th>\n",
       "      <th>start_ride_price</th>\n",
       "      <th>subscription_fee</th>\n",
       "      <th>revenue</th>\n",
       "    </tr>\n",
       "    <tr>\n",
       "      <th>user_id</th>\n",
       "      <th>month</th>\n",
       "      <th></th>\n",
       "      <th></th>\n",
       "      <th></th>\n",
       "      <th></th>\n",
       "      <th></th>\n",
       "      <th></th>\n",
       "      <th></th>\n",
       "    </tr>\n",
       "  </thead>\n",
       "  <tbody>\n",
       "    <tr>\n",
       "      <th rowspan=\"5\" valign=\"top\">1</th>\n",
       "      <th>1</th>\n",
       "      <td>2</td>\n",
       "      <td>7027.511294</td>\n",
       "      <td>42.0</td>\n",
       "      <td>6</td>\n",
       "      <td>0</td>\n",
       "      <td>199</td>\n",
       "      <td>451.0</td>\n",
       "    </tr>\n",
       "    <tr>\n",
       "      <th>4</th>\n",
       "      <td>1</td>\n",
       "      <td>754.159807</td>\n",
       "      <td>7.0</td>\n",
       "      <td>6</td>\n",
       "      <td>0</td>\n",
       "      <td>199</td>\n",
       "      <td>241.0</td>\n",
       "    </tr>\n",
       "    <tr>\n",
       "      <th>8</th>\n",
       "      <td>2</td>\n",
       "      <td>6723.470560</td>\n",
       "      <td>46.0</td>\n",
       "      <td>6</td>\n",
       "      <td>0</td>\n",
       "      <td>199</td>\n",
       "      <td>475.0</td>\n",
       "    </tr>\n",
       "    <tr>\n",
       "      <th>10</th>\n",
       "      <td>2</td>\n",
       "      <td>5809.911100</td>\n",
       "      <td>32.0</td>\n",
       "      <td>6</td>\n",
       "      <td>0</td>\n",
       "      <td>199</td>\n",
       "      <td>391.0</td>\n",
       "    </tr>\n",
       "    <tr>\n",
       "      <th>11</th>\n",
       "      <td>3</td>\n",
       "      <td>7003.499363</td>\n",
       "      <td>56.0</td>\n",
       "      <td>6</td>\n",
       "      <td>0</td>\n",
       "      <td>199</td>\n",
       "      <td>535.0</td>\n",
       "    </tr>\n",
       "    <tr>\n",
       "      <th>...</th>\n",
       "      <th>...</th>\n",
       "      <td>...</td>\n",
       "      <td>...</td>\n",
       "      <td>...</td>\n",
       "      <td>...</td>\n",
       "      <td>...</td>\n",
       "      <td>...</td>\n",
       "      <td>...</td>\n",
       "    </tr>\n",
       "    <tr>\n",
       "      <th rowspan=\"5\" valign=\"top\">1534</th>\n",
       "      <th>6</th>\n",
       "      <td>2</td>\n",
       "      <td>3409.468534</td>\n",
       "      <td>26.0</td>\n",
       "      <td>8</td>\n",
       "      <td>50</td>\n",
       "      <td>0</td>\n",
       "      <td>308.0</td>\n",
       "    </tr>\n",
       "    <tr>\n",
       "      <th>8</th>\n",
       "      <td>2</td>\n",
       "      <td>7622.453034</td>\n",
       "      <td>48.0</td>\n",
       "      <td>8</td>\n",
       "      <td>50</td>\n",
       "      <td>0</td>\n",
       "      <td>484.0</td>\n",
       "    </tr>\n",
       "    <tr>\n",
       "      <th>9</th>\n",
       "      <td>1</td>\n",
       "      <td>4928.173852</td>\n",
       "      <td>23.0</td>\n",
       "      <td>8</td>\n",
       "      <td>50</td>\n",
       "      <td>0</td>\n",
       "      <td>234.0</td>\n",
       "    </tr>\n",
       "    <tr>\n",
       "      <th>11</th>\n",
       "      <td>4</td>\n",
       "      <td>13350.015305</td>\n",
       "      <td>78.0</td>\n",
       "      <td>8</td>\n",
       "      <td>50</td>\n",
       "      <td>0</td>\n",
       "      <td>824.0</td>\n",
       "    </tr>\n",
       "    <tr>\n",
       "      <th>12</th>\n",
       "      <td>1</td>\n",
       "      <td>2371.711192</td>\n",
       "      <td>16.0</td>\n",
       "      <td>8</td>\n",
       "      <td>50</td>\n",
       "      <td>0</td>\n",
       "      <td>178.0</td>\n",
       "    </tr>\n",
       "  </tbody>\n",
       "</table>\n",
       "<p>11331 rows × 7 columns</p>\n",
       "</div>"
      ],
      "text/plain": [
       "               count      distance  duration  minute_price  start_ride_price  \\\n",
       "user_id month                                                                  \n",
       "1       1          2   7027.511294      42.0             6                 0   \n",
       "        4          1    754.159807       7.0             6                 0   \n",
       "        8          2   6723.470560      46.0             6                 0   \n",
       "        10         2   5809.911100      32.0             6                 0   \n",
       "        11         3   7003.499363      56.0             6                 0   \n",
       "...              ...           ...       ...           ...               ...   \n",
       "1534    6          2   3409.468534      26.0             8                50   \n",
       "        8          2   7622.453034      48.0             8                50   \n",
       "        9          1   4928.173852      23.0             8                50   \n",
       "        11         4  13350.015305      78.0             8                50   \n",
       "        12         1   2371.711192      16.0             8                50   \n",
       "\n",
       "               subscription_fee  revenue  \n",
       "user_id month                             \n",
       "1       1                   199    451.0  \n",
       "        4                   199    241.0  \n",
       "        8                   199    475.0  \n",
       "        10                  199    391.0  \n",
       "        11                  199    535.0  \n",
       "...                         ...      ...  \n",
       "1534    6                     0    308.0  \n",
       "        8                     0    484.0  \n",
       "        9                     0    234.0  \n",
       "        11                    0    824.0  \n",
       "        12                    0    178.0  \n",
       "\n",
       "[11331 rows x 7 columns]"
      ]
     },
     "execution_count": 58,
     "metadata": {},
     "output_type": "execute_result"
    }
   ],
   "source": [
    "data_agg['revenue'] = (\n",
    "data_agg['start_ride_price']*data_agg['count']+\n",
    "data_agg['minute_price']*data_agg['duration']+\n",
    "data_agg['subscription_fee'])\n",
    "data_agg"
   ]
  },
  {
   "cell_type": "code",
   "execution_count": 59,
   "id": "53049e0a",
   "metadata": {},
   "outputs": [
    {
     "data": {
      "text/plain": [
       "3878641.0"
      ]
     },
     "execution_count": 59,
     "metadata": {},
     "output_type": "execute_result"
    }
   ],
   "source": [
    "data_agg['revenue'].sum()"
   ]
  },
  {
   "cell_type": "markdown",
   "id": "eb668647",
   "metadata": {},
   "source": [
    "Таким образом выручка составила `3853677.0` рублей"
   ]
  },
  {
   "cell_type": "markdown",
   "id": "41545ac0",
   "metadata": {},
   "source": [
    "#### Шаг 6. Проверка гипотез"
   ]
  },
  {
   "cell_type": "markdown",
   "id": "48c94988",
   "metadata": {},
   "source": [
    "**6.1 Важно понять, тратят ли пользователи с подпиской больше времени на поездки? Если да, то пользователи с подпиской могут быть «выгоднее» для компании. Проверьте гипотезу. Используйте исходные данные о продолжительности каждой сессии — отдельно для подписчиков и тех, у кого нет подписки.**"
   ]
  },
  {
   "cell_type": "markdown",
   "id": "bdde535c",
   "metadata": {},
   "source": [
    "Выдвинем гипотезы:\n",
    "\n",
    "Н0: Средняя продолжительность поездок с подпиской `ultra` и без - `free` равна\n",
    "\n",
    "Н1: Средняя продолжительность поездок с подпиской `ultra` больше продолжительности поездок без подписок - `free`"
   ]
  },
  {
   "cell_type": "code",
   "execution_count": 60,
   "id": "61896758",
   "metadata": {},
   "outputs": [
    {
     "name": "stdout",
     "output_type": "stream",
     "text": [
      "1.2804098316645618e-34\n",
      "Отвергаем нулевую гипотезу\n"
     ]
    }
   ],
   "source": [
    "results = st.ttest_ind(\n",
    "    data_ultra['duration'], \n",
    "    data_free['duration'], \n",
    "    equal_var=True, \n",
    "    alternative='greater')\n",
    "print(results.pvalue)\n",
    "\n",
    "alpha = 0.05\n",
    "if results.pvalue < alpha:\n",
    "    print('Отвергаем нулевую гипотезу')\n",
    "else:\n",
    "    print('Не получилось отвергнуть нулевую гипотезу')"
   ]
  },
  {
   "cell_type": "markdown",
   "id": "5d69c0e4",
   "metadata": {},
   "source": [
    "Нулевая гипотеза отвергнута, есть основания полагать, что средняя продолжительность поездки с подпиской больше продолжительности поездок без подписки при установленном уровне значимости в 5 %"
   ]
  },
  {
   "cell_type": "markdown",
   "id": "90643075",
   "metadata": {},
   "source": [
    "**6.2 Расстояние одной поездки в 3130 метров — оптимальное с точки зрения износа самоката. Можно ли сказать, что среднее расстояние, которое проезжают пользователи с подпиской за одну поездку, не превышает 3130 метров? Проверьте гипотезу и сделайте выводы.**"
   ]
  },
  {
   "cell_type": "markdown",
   "id": "87d44568",
   "metadata": {},
   "source": [
    "Выдвинем гипотезы:\n",
    "\n",
    "Н0: Среднее расстояние, которое проезжают пользователи с подпиской за одну поездку равно 3130 метров\n",
    "\n",
    "Н1: Среднее расстояние, которое проезжают пользователи с подпиской за одну поездку больше на 3130 метров"
   ]
  },
  {
   "cell_type": "code",
   "execution_count": 61,
   "id": "9aebc78d",
   "metadata": {
    "scrolled": true
   },
   "outputs": [
    {
     "name": "stdout",
     "output_type": "stream",
     "text": [
      "0.9195368847849785\n",
      "Не получилось отвергнуть нулевую гипотезу\n"
     ]
    }
   ],
   "source": [
    "distance = 3130\n",
    "alpha = 0.05\n",
    "results = st.ttest_1samp(\n",
    "    data_ultra['distance'],\n",
    "    distance,\n",
    "    alternative='greater')\n",
    "print(results.pvalue)\n",
    "\n",
    "if results.pvalue < alpha:\n",
    "    print('Отвергаем нулевую гипотезу')\n",
    "else:\n",
    "    print('Не получилось отвергнуть нулевую гипотезу')"
   ]
  },
  {
   "cell_type": "markdown",
   "id": "65cf7a2d",
   "metadata": {},
   "source": [
    "Нулевую гипотезу не получилось отвергнуть, следовательно есть все основания утверждать, что среднее расстояние поездки, пользователей с подпиской, не превышает оптимальное расстоянием в 3130 метров с точки зрения износа самоката, при установленном уровне значимости в 5%."
   ]
  },
  {
   "cell_type": "markdown",
   "id": "b4347c8a",
   "metadata": {},
   "source": [
    "**6.3 Проверьте гипотезу о том, будет ли помесячная выручка от пользователей с подпиской по месяцам выше, чем выручка от пользователей без подписки. Сделайте вывод.**"
   ]
  },
  {
   "cell_type": "markdown",
   "id": "4aea5890",
   "metadata": {},
   "source": [
    "Выдвинем гипотезы:\n",
    "\n",
    "Н0: Помесячная средняя выручка от пользователей с подпиской равна помесячной средней выручке от пользователей без подписки.\n",
    "    \n",
    "Н1: Помесячная средняя выручка от пользователей с подпиской больше помесячной средней выручки от пользователей без подписки."
   ]
  },
  {
   "cell_type": "code",
   "execution_count": 62,
   "id": "eed7f9cf",
   "metadata": {},
   "outputs": [
    {
     "name": "stdout",
     "output_type": "stream",
     "text": [
      "1.8850394384715216e-31\n",
      "Отвергаем нулевую гипотезу\n"
     ]
    }
   ],
   "source": [
    "results = st.ttest_ind(\n",
    "    data_agg.loc[data_agg['subscription_fee'] != 0,'revenue'],\n",
    "    data_agg.loc[data_agg['subscription_fee'] == 0,'revenue'],\n",
    "    equal_var=True, \n",
    "    alternative='greater')\n",
    "print(results.pvalue)\n",
    "\n",
    "alpha = 0.05\n",
    "if results.pvalue < alpha:\n",
    "    print('Отвергаем нулевую гипотезу')\n",
    "else:\n",
    "    print('Не получилось отвергнуть нулевую гипотезу')"
   ]
  },
  {
   "cell_type": "markdown",
   "id": "0a876a1d",
   "metadata": {},
   "source": [
    "Нулевая гипотеза отвергнута, есть основания полагать, что помесячная средняя выручка от пользователей с подпиской больше помесячной средней выручки от пользователей без подписки, при установленном уровне значимости в 5 %"
   ]
  },
  {
   "cell_type": "markdown",
   "id": "ab1820cb",
   "metadata": {},
   "source": [
    "**6.4 Представьте такую ситуацию: техническая команда сервиса обновила сервера, с которыми взаимодействует мобильное приложение. Она надеется, что из-за этого количество обращений в техподдержку значимо снизилось. Некоторый файл содержит для каждого пользователя данные о количестве обращений до обновления и после него. Какой тест вам понадобился бы для проверки этой гипотезы?**"
   ]
  },
  {
   "cell_type": "markdown",
   "id": "80d4756f",
   "metadata": {},
   "source": [
    "Эти выборки зависимые, поэтому будем использовать `scipy.stats.ttest_rel()`"
   ]
  },
  {
   "cell_type": "markdown",
   "id": "0fbae41c",
   "metadata": {},
   "source": [
    "Подходит тест `scipy.stats.ttest_rel()`, при проверке на то что, истинное среднее значение генеральной выборки до изменения больше, чем истинное среднее значение генеральной совокупности после изменения следует указать `alternative=\"less\"`."
   ]
  },
  {
   "cell_type": "markdown",
   "id": "61213c5e",
   "metadata": {},
   "source": [
    "#### Шаг 7. Распределения"
   ]
  },
  {
   "cell_type": "markdown",
   "id": "919ba45c",
   "metadata": {},
   "source": [
    "**7.1 Отделу маркетинга GoFast поставили задачу: нужно провести акцию с раздачей промокодов на один бесплатный месяц подписки, в рамках которой как минимум 100 существующих клиентов должны продлить эту подписку. То есть по завершении периода действия подписки пользователь может либо отказаться от неё, либо продлить, совершив соответствующий платёж.**"
   ]
  },
  {
   "cell_type": "markdown",
   "id": "3fe5bafb",
   "metadata": {},
   "source": [
    "Эта акция уже проводилась ранее и по итогу выяснилось, что после бесплатного пробного периода подписку продлевают 10 % пользователей. Выясните, какое минимальное количество промокодов нужно разослать, чтобы вероятность не выполнить план была примерно 5 %. Подберите параметры распределения, описывающего эту ситуацию, постройте график распределения и сформулируйте ответ на вопрос о количестве промокодов."
   ]
  },
  {
   "cell_type": "code",
   "execution_count": 63,
   "id": "ef9c1a6b",
   "metadata": {},
   "outputs": [
    {
     "name": "stdout",
     "output_type": "stream",
     "text": [
      "При раздаче промокодов в количестве 1161 вероятность, не выполнить план меньше 5.0 %\n"
     ]
    },
    {
     "data": {
      "image/png": "[encoded data removed]",
      "text/plain": [
       "<Figure size 432x288 with 1 Axes>"
      ]
     },
     "metadata": {
      "needs_background": "light"
     },
     "output_type": "display_data"
    }
   ],
   "source": [
    "n = 1000\n",
    "p = 0.1\n",
    "k = 99\n",
    "binom_cdf = 0.05\n",
    "\n",
    "while binom_cdf < binom.cdf(k, n, p):\n",
    "    n += 1\n",
    "print(f'При раздаче промокодов в количестве {n} вероятность, не выполнить план меньше {binom.cdf(k, n, p).round(2)*100} %')\n",
    "\n",
    "# зададим мат.ожидание и ст.отклонение нормального распределения равными\n",
    "# мат.ожиданию и ст.отклонению биномиального распределения\n",
    "mu = n * p\n",
    "sigma = (n * p * (1 - p))**0.5\n",
    "\n",
    "arange = np.arange((mu - 4 * sigma),(mu + 4 * sigma),1)\n",
    "\n",
    "plt.plot(arange, st.norm.pdf(arange, mu, sigma), 'b-')\n",
    "plt.axvline(x=k, color='red')\n",
    "plt.axvline(x=mu, color='green')\n",
    "plt.show()"
   ]
  },
  {
   "cell_type": "markdown",
   "id": "a16b9240",
   "metadata": {},
   "source": [
    "**7.2 Отдел маркетинга рассылает клиентам push-уведомления в мобильном приложении. Клиенты могут открыть его или не открывать. Известно, что уведомления открывают около 40 % получивших клиентов. Отдел планирует разослать 1 млн уведомлений. С помощью аппроксимации постройте примерный график распределения и оцените вероятность того, что уведомление откроют не более 399,5 тыс. пользователей.**"
   ]
  },
  {
   "cell_type": "code",
   "execution_count": 64,
   "id": "5b95ec8d",
   "metadata": {},
   "outputs": [
    {
     "name": "stdout",
     "output_type": "stream",
     "text": [
      "Вероятность открытия сообщений: 0.15371708296369768\n"
     ]
    },
    {
     "data": {
      "image/png": "[encoded data removed]",
      "text/plain": [
       "<Figure size 432x288 with 1 Axes>"
      ]
     },
     "metadata": {
      "needs_background": "light"
     },
     "output_type": "display_data"
    }
   ],
   "source": [
    "n = 1000000\n",
    "p = 0.4\n",
    "k = 399500\n",
    "# зададим мат.ожидание и ст.отклонение нормального распределения равными\n",
    "# мат.ожиданию и ст.отклонению биномиального распределения\n",
    "mu = n * p\n",
    "sigma = (n * p * (1 - p))**0.5\n",
    "\n",
    "# задаём нормальное распределение\n",
    "distr = st.norm(mu, sigma) \n",
    "\n",
    "# считаем вероятность хвоста слева от 399.5 тысяч\n",
    "result = distr.cdf(k)\n",
    "print('Вероятность открытия сообщений:', result)\n",
    "\n",
    "arange = np.arange((mu - 4 * sigma),(mu + 4 * sigma),1)\n",
    "plt.plot(arange, st.norm.pdf(arange, mu, sigma), 'b-')\n",
    "plt.xticks(rotation=90)\n",
    "plt.axvline(x=k, color='red')\n",
    "plt.axvline(x=mu, color='green')\n",
    "plt.show()"
   ]
  },
  {
   "cell_type": "markdown",
   "id": "71604bf8",
   "metadata": {},
   "source": [
    "**Вывод:**\n",
    "\n",
    "В ходе проделанной работы были выполнены следующие пункты:\n",
    "\n",
    "1. Предобработка данных:\n",
    "\n",
    "- столбец date приведен к типу даты pandas.\n",
    "- создан новый столбец с номером месяца на основе столбца date.\n",
    "- проверено наличие пропущенных значений и дубликатов в датафреймах, а также их обработка.\n",
    "\n",
    "2. Исследовательский анализ данных\n",
    "\n",
    "- частота встречаемости городов: чаще всего встречаются люди, проживающие в Пятигорске, реже в Екатеринбурге и Ростове-на-Дону, завершают список люди, проживающие в Москве. Исходя из этих данных, можно сделать вывод, что первенство занимают в основном южные города, исключением является Екатеринбург.\n",
    "- соотношение пользователей с подпиской и без подписки: людей без подписки больше, чем с ней.\n",
    "- возраст пользователей: средний возраст потребителя услуги подчиняется нормальному распределению с медианой примерно в 25 лет, при этом средний возраст и медиана практически совпадают.\n",
    "- расстояние, которое пользователь преодолел за одну поездку: в основном пользователи ездят на дистанции от 3000 метров до 4000 метров\n",
    "- продолжительность поездок: Распределение напоминает нормальное. В основном продолжительность поездок занимает 20 минут.\n",
    "\n",
    "3. Объединение данных\n",
    "\n",
    "- данные о пользователях, поездках и подписках были объеденены в один датафрейм.\n",
    "- созданы два датафрейма: c данными о пользователях без подписки и с данными о пользователях с подпиской.\n",
    "- визуализирована информация о расстоянии и времени поездок для пользователей обеих категорий. Разброс по расстоянию у людей с подпиской меньше, чем у людей без нее. Также можно заметить, что наличие подписки влияет на среднее расстояние: с подпиской оно равно `3115.445388`, а без нее - `3045.495282`.\n",
    "\n",
    "4. Подсчёт выручки\n",
    "\n",
    "выручка составила `3853677.0` рублей\n",
    "\n",
    "5.  Проверка гипотез\n",
    "\n",
    "- Нулевая гипотеза отвергнута, есть основания утверждать, что средняя продолжительность поездки с подпиской больше продолжительности поездок без подписки при установленном уровне значимости в 5 %, хотя на гистограммах, это практически не прослеживается.\n",
    "- Нулевую гипотезу неудалось отвергнуть и следовательно, есть основания утверждать, что среднее расстояние поездки, пользователей с подпиской, не превышает оптимальное расстоянием в 3130 метров с точки зрения износа самоката, при установленном уровне значимости в 5 %.\n",
    "- Нулевая гипотеза отвергнута, есть основания утверждать, что средняя месячная выручка от пользователей с подпиской, больше средней месячной выручки от пользователей без подписки, при установленном уровне значимости в 5 %.\n",
    "- Дано пояснение о необходимости применения метода scipy.stats.ttest_rel(), для сравнения зависимых выборок, удвлетаоряющих условию что, переменная измеряется дважды (количество обращений до обновления и после него) для одних и тех же объектов (пользователь) и имеют одинаковые размеры. При проверке на то что, истинное среднее значение генеральной выборки до изменения больше, чем истинное среднее значение генеральной совокупности после изменения следует указать alternative=\"less\".\n",
    "\n",
    "6. Распределения\n",
    "\n",
    "- Необходимо довести до подписчиков как минимум 1161 промокода, для того чтобы как минимум 100 существующих клиентов продлили подписку (продлевают подписку 10% пролучивших промокод) с вероятностью 5% не выполнить план.\n",
    "- Если разослать 1 млн уведомлени (откроют только 40 % получивших клиентов), тогда вероятность того, что уведомление откроют не более 399,5 тыс. пользователей составит 0.1537 или 15,37 %."
   ]
  },
  {
   "cell_type": "markdown",
   "id": "872eb629",
   "metadata": {},
   "source": [
    "Пользователи с подпиской являются более выгодными клиентами для сервиса аренды самокатов, в связи с этим руководству сервиса желательно принять меры для перехода клиентов на подписку!"
   ]
  }
 ],
 "metadata": {
  "ExecuteTimeLog": [
   {
    "duration": 45,
    "start_time": "2024-07-27T20:24:03.316Z"
   },
   {
    "duration": 436,
    "start_time": "2024-07-27T20:24:07.594Z"
   },
   {
    "duration": 58,
    "start_time": "2024-07-27T20:24:10.687Z"
   },
   {
    "duration": 123,
    "start_time": "2024-07-27T20:24:35.418Z"
   },
   {
    "duration": 189,
    "start_time": "2024-07-27T20:25:35.515Z"
   },
   {
    "duration": 46,
    "start_time": "2024-07-27T20:25:43.927Z"
   },
   {
    "duration": 88,
    "start_time": "2024-07-27T20:26:17.077Z"
   },
   {
    "duration": 7,
    "start_time": "2024-07-27T20:26:57.090Z"
   },
   {
    "duration": 7,
    "start_time": "2024-07-27T20:27:14.418Z"
   },
   {
    "duration": 10,
    "start_time": "2024-07-27T20:27:43.750Z"
   },
   {
    "duration": 13,
    "start_time": "2024-07-27T20:28:04.389Z"
   },
   {
    "duration": 8,
    "start_time": "2024-07-27T20:30:00.405Z"
   },
   {
    "duration": 17,
    "start_time": "2024-07-27T20:30:12.237Z"
   },
   {
    "duration": 7,
    "start_time": "2024-07-27T20:32:07.770Z"
   },
   {
    "duration": 8,
    "start_time": "2024-07-27T20:32:25.064Z"
   },
   {
    "duration": 9,
    "start_time": "2024-07-27T20:32:28.298Z"
   },
   {
    "duration": 16,
    "start_time": "2024-07-27T20:33:04.731Z"
   },
   {
    "duration": 13,
    "start_time": "2024-07-27T20:34:28.538Z"
   },
   {
    "duration": 13,
    "start_time": "2024-07-27T20:34:32.727Z"
   },
   {
    "duration": 13,
    "start_time": "2024-07-27T20:34:55.053Z"
   },
   {
    "duration": 7,
    "start_time": "2024-07-27T20:36:23.584Z"
   },
   {
    "duration": 8,
    "start_time": "2024-07-27T20:36:33.317Z"
   },
   {
    "duration": 580,
    "start_time": "2024-07-27T20:43:24.261Z"
   },
   {
    "duration": 5,
    "start_time": "2024-07-27T20:43:40.097Z"
   },
   {
    "duration": 134,
    "start_time": "2024-07-27T20:43:49.956Z"
   },
   {
    "duration": 18,
    "start_time": "2024-07-27T20:45:16.711Z"
   },
   {
    "duration": 181,
    "start_time": "2024-07-27T20:45:37.179Z"
   },
   {
    "duration": 197,
    "start_time": "2024-07-27T20:45:58.778Z"
   },
   {
    "duration": 221,
    "start_time": "2024-07-27T20:46:44.700Z"
   },
   {
    "duration": 13,
    "start_time": "2024-07-27T20:46:53.735Z"
   },
   {
    "duration": 161,
    "start_time": "2024-07-27T20:50:31.291Z"
   },
   {
    "duration": 19,
    "start_time": "2024-07-27T20:50:59.169Z"
   },
   {
    "duration": 290,
    "start_time": "2024-07-27T20:52:26.900Z"
   },
   {
    "duration": 17,
    "start_time": "2024-07-27T20:52:56.202Z"
   },
   {
    "duration": 295,
    "start_time": "2024-07-27T20:55:11.676Z"
   },
   {
    "duration": 293,
    "start_time": "2024-07-27T20:56:33.257Z"
   },
   {
    "duration": 301,
    "start_time": "2024-07-27T20:56:45.216Z"
   },
   {
    "duration": 12,
    "start_time": "2024-07-27T20:56:50.699Z"
   },
   {
    "duration": 305,
    "start_time": "2024-07-27T20:56:51.353Z"
   },
   {
    "duration": 93,
    "start_time": "2024-07-27T21:00:19.322Z"
   },
   {
    "duration": 402,
    "start_time": "2024-07-27T21:01:33.066Z"
   },
   {
    "duration": 45,
    "start_time": "2024-07-27T21:01:33.470Z"
   },
   {
    "duration": 35,
    "start_time": "2024-07-27T21:01:33.517Z"
   },
   {
    "duration": 20,
    "start_time": "2024-07-27T21:01:33.554Z"
   },
   {
    "duration": 6,
    "start_time": "2024-07-27T21:01:33.576Z"
   },
   {
    "duration": 14,
    "start_time": "2024-07-27T21:01:33.584Z"
   },
   {
    "duration": 9,
    "start_time": "2024-07-27T21:01:33.599Z"
   },
   {
    "duration": 28,
    "start_time": "2024-07-27T21:01:33.610Z"
   },
   {
    "duration": 20,
    "start_time": "2024-07-27T21:01:33.640Z"
   },
   {
    "duration": 37,
    "start_time": "2024-07-27T21:01:33.664Z"
   },
   {
    "duration": 11,
    "start_time": "2024-07-27T21:01:33.702Z"
   },
   {
    "duration": 28,
    "start_time": "2024-07-27T21:01:33.714Z"
   },
   {
    "duration": 5,
    "start_time": "2024-07-27T21:01:33.743Z"
   },
   {
    "duration": 16,
    "start_time": "2024-07-27T21:01:33.749Z"
   },
   {
    "duration": 393,
    "start_time": "2024-07-27T21:01:33.766Z"
   },
   {
    "duration": 187,
    "start_time": "2024-07-27T21:01:34.161Z"
   },
   {
    "duration": 14,
    "start_time": "2024-07-27T21:01:34.350Z"
   },
   {
    "duration": 176,
    "start_time": "2024-07-27T21:01:34.365Z"
   },
   {
    "duration": 12,
    "start_time": "2024-07-27T21:01:34.542Z"
   },
   {
    "duration": 320,
    "start_time": "2024-07-27T21:01:34.555Z"
   },
   {
    "duration": 20,
    "start_time": "2024-07-27T21:01:34.877Z"
   },
   {
    "duration": 349,
    "start_time": "2024-07-27T21:01:34.898Z"
   },
   {
    "duration": 3,
    "start_time": "2024-07-27T21:01:35.248Z"
   },
   {
    "duration": 92,
    "start_time": "2024-07-27T21:01:54.778Z"
   },
   {
    "duration": 5,
    "start_time": "2024-07-27T21:02:12.461Z"
   },
   {
    "duration": 5,
    "start_time": "2024-07-27T21:02:20.404Z"
   },
   {
    "duration": 4,
    "start_time": "2024-07-27T21:02:36.893Z"
   },
   {
    "duration": 560,
    "start_time": "2024-07-27T21:02:53.547Z"
   },
   {
    "duration": 132,
    "start_time": "2024-07-27T21:03:02.298Z"
   },
   {
    "duration": 8,
    "start_time": "2024-07-27T21:03:30.512Z"
   },
   {
    "duration": 797,
    "start_time": "2024-07-27T21:03:35.860Z"
   },
   {
    "duration": 135,
    "start_time": "2024-07-27T21:06:23.416Z"
   },
   {
    "duration": 431,
    "start_time": "2024-07-27T21:08:10.862Z"
   },
   {
    "duration": 7,
    "start_time": "2024-07-27T21:12:03.352Z"
   },
   {
    "duration": 28,
    "start_time": "2024-07-27T21:12:08.023Z"
   },
   {
    "duration": 16,
    "start_time": "2024-07-27T21:14:13.238Z"
   },
   {
    "duration": 36,
    "start_time": "2024-07-27T21:14:19.879Z"
   },
   {
    "duration": 29,
    "start_time": "2024-07-27T21:14:51.728Z"
   },
   {
    "duration": 21,
    "start_time": "2024-07-27T21:17:50.140Z"
   },
   {
    "duration": 22,
    "start_time": "2024-07-27T21:18:20.676Z"
   },
   {
    "duration": 345,
    "start_time": "2024-07-27T21:24:31.311Z"
   },
   {
    "duration": 151,
    "start_time": "2024-07-27T21:25:05.712Z"
   },
   {
    "duration": 128,
    "start_time": "2024-07-27T21:25:21.445Z"
   },
   {
    "duration": 30,
    "start_time": "2024-07-27T21:26:11.721Z"
   },
   {
    "duration": 29,
    "start_time": "2024-07-27T21:26:23.617Z"
   },
   {
    "duration": 9,
    "start_time": "2024-07-27T21:26:47.821Z"
   },
   {
    "duration": 9,
    "start_time": "2024-07-27T21:26:55.655Z"
   },
   {
    "duration": 30,
    "start_time": "2024-07-27T21:50:57.643Z"
   },
   {
    "duration": 30,
    "start_time": "2024-07-27T21:51:02.741Z"
   },
   {
    "duration": 28,
    "start_time": "2024-07-27T21:51:48.980Z"
   },
   {
    "duration": 8,
    "start_time": "2024-07-27T22:29:14.309Z"
   },
   {
    "duration": 3,
    "start_time": "2024-07-27T22:29:25.319Z"
   },
   {
    "duration": 6,
    "start_time": "2024-07-27T22:29:36.649Z"
   },
   {
    "duration": 39,
    "start_time": "2024-07-27T22:32:55.717Z"
   },
   {
    "duration": 434,
    "start_time": "2024-07-27T22:35:05.958Z"
   },
   {
    "duration": 43,
    "start_time": "2024-07-27T22:35:06.394Z"
   },
   {
    "duration": 34,
    "start_time": "2024-07-27T22:35:06.439Z"
   },
   {
    "duration": 20,
    "start_time": "2024-07-27T22:35:06.475Z"
   },
   {
    "duration": 7,
    "start_time": "2024-07-27T22:35:06.496Z"
   },
   {
    "duration": 7,
    "start_time": "2024-07-27T22:35:06.505Z"
   },
   {
    "duration": 10,
    "start_time": "2024-07-27T22:35:06.513Z"
   },
   {
    "duration": 12,
    "start_time": "2024-07-27T22:35:06.525Z"
   },
   {
    "duration": 51,
    "start_time": "2024-07-27T22:35:06.540Z"
   },
   {
    "duration": 16,
    "start_time": "2024-07-27T22:35:06.595Z"
   },
   {
    "duration": 11,
    "start_time": "2024-07-27T22:35:06.613Z"
   },
   {
    "duration": 13,
    "start_time": "2024-07-27T22:35:06.626Z"
   },
   {
    "duration": 43,
    "start_time": "2024-07-27T22:35:06.641Z"
   },
   {
    "duration": 9,
    "start_time": "2024-07-27T22:35:06.685Z"
   },
   {
    "duration": 351,
    "start_time": "2024-07-27T22:35:06.696Z"
   },
   {
    "duration": 204,
    "start_time": "2024-07-27T22:35:07.049Z"
   },
   {
    "duration": 13,
    "start_time": "2024-07-27T22:35:07.254Z"
   },
   {
    "duration": 163,
    "start_time": "2024-07-27T22:35:07.268Z"
   },
   {
    "duration": 14,
    "start_time": "2024-07-27T22:35:07.433Z"
   },
   {
    "duration": 320,
    "start_time": "2024-07-27T22:35:07.449Z"
   },
   {
    "duration": 22,
    "start_time": "2024-07-27T22:35:07.771Z"
   },
   {
    "duration": 336,
    "start_time": "2024-07-27T22:35:07.794Z"
   },
   {
    "duration": 135,
    "start_time": "2024-07-27T22:35:08.132Z"
   },
   {
    "duration": 149,
    "start_time": "2024-07-27T22:35:08.268Z"
   },
   {
    "duration": 34,
    "start_time": "2024-07-27T22:35:08.418Z"
   },
   {
    "duration": 39,
    "start_time": "2024-07-27T22:35:08.454Z"
   },
   {
    "duration": 21,
    "start_time": "2024-07-27T22:35:08.495Z"
   },
   {
    "duration": 19,
    "start_time": "2024-07-27T22:35:08.519Z"
   },
   {
    "duration": 160,
    "start_time": "2024-07-27T22:35:08.540Z"
   },
   {
    "duration": 124,
    "start_time": "2024-07-27T22:35:08.702Z"
   },
   {
    "duration": 11,
    "start_time": "2024-07-27T22:35:08.827Z"
   },
   {
    "duration": 9,
    "start_time": "2024-07-27T22:35:08.839Z"
   },
   {
    "duration": 61,
    "start_time": "2024-07-27T22:35:08.849Z"
   },
   {
    "duration": 5,
    "start_time": "2024-07-27T22:35:08.912Z"
   },
   {
    "duration": 1137,
    "start_time": "2024-07-27T22:35:08.919Z"
   },
   {
    "duration": 1133,
    "start_time": "2024-07-27T22:35:53.197Z"
   },
   {
    "duration": 303,
    "start_time": "2024-07-27T22:36:28.785Z"
   },
   {
    "duration": 51,
    "start_time": "2024-07-27T22:36:52.494Z"
   },
   {
    "duration": 7,
    "start_time": "2024-07-27T22:36:58.131Z"
   },
   {
    "duration": 6,
    "start_time": "2024-07-27T22:36:58.808Z"
   },
   {
    "duration": 20,
    "start_time": "2024-07-27T22:37:05.836Z"
   },
   {
    "duration": 431,
    "start_time": "2024-07-27T22:37:24.071Z"
   },
   {
    "duration": 44,
    "start_time": "2024-07-27T22:37:24.503Z"
   },
   {
    "duration": 35,
    "start_time": "2024-07-27T22:37:24.548Z"
   },
   {
    "duration": 31,
    "start_time": "2024-07-27T22:37:24.585Z"
   },
   {
    "duration": 7,
    "start_time": "2024-07-27T22:37:24.617Z"
   },
   {
    "duration": 8,
    "start_time": "2024-07-27T22:37:24.632Z"
   },
   {
    "duration": 14,
    "start_time": "2024-07-27T22:37:24.641Z"
   },
   {
    "duration": 32,
    "start_time": "2024-07-27T22:37:24.656Z"
   },
   {
    "duration": 17,
    "start_time": "2024-07-27T22:37:24.689Z"
   },
   {
    "duration": 13,
    "start_time": "2024-07-27T22:37:24.710Z"
   },
   {
    "duration": 25,
    "start_time": "2024-07-27T22:37:24.724Z"
   },
   {
    "duration": 12,
    "start_time": "2024-07-27T22:37:24.750Z"
   },
   {
    "duration": 5,
    "start_time": "2024-07-27T22:37:24.763Z"
   },
   {
    "duration": 7,
    "start_time": "2024-07-27T22:37:24.784Z"
   },
   {
    "duration": 359,
    "start_time": "2024-07-27T22:37:24.792Z"
   },
   {
    "duration": 176,
    "start_time": "2024-07-27T22:37:25.153Z"
   },
   {
    "duration": 13,
    "start_time": "2024-07-27T22:37:25.331Z"
   },
   {
    "duration": 166,
    "start_time": "2024-07-27T22:37:25.345Z"
   },
   {
    "duration": 12,
    "start_time": "2024-07-27T22:37:25.513Z"
   },
   {
    "duration": 323,
    "start_time": "2024-07-27T22:37:25.527Z"
   },
   {
    "duration": 13,
    "start_time": "2024-07-27T22:37:25.852Z"
   },
   {
    "duration": 333,
    "start_time": "2024-07-27T22:37:25.866Z"
   },
   {
    "duration": 148,
    "start_time": "2024-07-27T22:37:26.201Z"
   },
   {
    "duration": 138,
    "start_time": "2024-07-27T22:37:26.352Z"
   },
   {
    "duration": 30,
    "start_time": "2024-07-27T22:37:26.492Z"
   },
   {
    "duration": 23,
    "start_time": "2024-07-27T22:37:26.524Z"
   },
   {
    "duration": 45,
    "start_time": "2024-07-27T22:37:26.549Z"
   },
   {
    "duration": 31,
    "start_time": "2024-07-27T22:37:26.597Z"
   },
   {
    "duration": 143,
    "start_time": "2024-07-27T22:37:26.630Z"
   },
   {
    "duration": 127,
    "start_time": "2024-07-27T22:37:26.774Z"
   },
   {
    "duration": 8,
    "start_time": "2024-07-27T22:37:26.903Z"
   },
   {
    "duration": 9,
    "start_time": "2024-07-27T22:37:26.913Z"
   },
   {
    "duration": 80,
    "start_time": "2024-07-27T22:37:26.924Z"
   },
   {
    "duration": 7,
    "start_time": "2024-07-27T22:37:27.005Z"
   },
   {
    "duration": 82,
    "start_time": "2024-07-27T22:37:27.013Z"
   },
   {
    "duration": 406,
    "start_time": "2024-07-27T22:38:03.629Z"
   },
   {
    "duration": 45,
    "start_time": "2024-07-27T22:38:04.036Z"
   },
   {
    "duration": 34,
    "start_time": "2024-07-27T22:38:04.082Z"
   },
   {
    "duration": 62,
    "start_time": "2024-07-27T22:38:04.118Z"
   },
   {
    "duration": 28,
    "start_time": "2024-07-27T22:38:04.182Z"
   },
   {
    "duration": 11,
    "start_time": "2024-07-27T22:38:04.212Z"
   },
   {
    "duration": 13,
    "start_time": "2024-07-27T22:38:04.225Z"
   },
   {
    "duration": 24,
    "start_time": "2024-07-27T22:38:04.240Z"
   },
   {
    "duration": 31,
    "start_time": "2024-07-27T22:38:04.266Z"
   },
   {
    "duration": 13,
    "start_time": "2024-07-27T22:38:04.300Z"
   },
   {
    "duration": 13,
    "start_time": "2024-07-27T22:38:04.315Z"
   },
   {
    "duration": 12,
    "start_time": "2024-07-27T22:38:04.329Z"
   },
   {
    "duration": 5,
    "start_time": "2024-07-27T22:38:04.343Z"
   },
   {
    "duration": 36,
    "start_time": "2024-07-27T22:38:04.349Z"
   },
   {
    "duration": 357,
    "start_time": "2024-07-27T22:38:04.386Z"
   },
   {
    "duration": 200,
    "start_time": "2024-07-27T22:38:04.744Z"
   },
   {
    "duration": 13,
    "start_time": "2024-07-27T22:38:04.945Z"
   },
   {
    "duration": 178,
    "start_time": "2024-07-27T22:38:04.959Z"
   },
   {
    "duration": 13,
    "start_time": "2024-07-27T22:38:05.139Z"
   },
   {
    "duration": 350,
    "start_time": "2024-07-27T22:38:05.154Z"
   },
   {
    "duration": 16,
    "start_time": "2024-07-27T22:38:05.506Z"
   },
   {
    "duration": 361,
    "start_time": "2024-07-27T22:38:05.523Z"
   },
   {
    "duration": 138,
    "start_time": "2024-07-27T22:38:05.885Z"
   },
   {
    "duration": 141,
    "start_time": "2024-07-27T22:38:06.024Z"
   },
   {
    "duration": 39,
    "start_time": "2024-07-27T22:38:06.167Z"
   },
   {
    "duration": 24,
    "start_time": "2024-07-27T22:38:06.208Z"
   },
   {
    "duration": 22,
    "start_time": "2024-07-27T22:38:06.234Z"
   },
   {
    "duration": 21,
    "start_time": "2024-07-27T22:38:06.283Z"
   },
   {
    "duration": 158,
    "start_time": "2024-07-27T22:38:06.306Z"
   },
   {
    "duration": 150,
    "start_time": "2024-07-27T22:38:06.466Z"
   },
   {
    "duration": 10,
    "start_time": "2024-07-27T22:38:06.617Z"
   },
   {
    "duration": 8,
    "start_time": "2024-07-27T22:38:06.629Z"
   },
   {
    "duration": 76,
    "start_time": "2024-07-27T22:38:06.638Z"
   },
   {
    "duration": 5,
    "start_time": "2024-07-27T22:38:06.716Z"
   },
   {
    "duration": 35,
    "start_time": "2024-07-27T22:38:06.723Z"
   },
   {
    "duration": 74,
    "start_time": "2024-07-27T22:39:06.500Z"
   },
   {
    "duration": 4,
    "start_time": "2024-07-27T22:39:12.784Z"
   },
   {
    "duration": 8,
    "start_time": "2024-07-27T22:42:27.548Z"
   },
   {
    "duration": 514,
    "start_time": "2024-07-27T22:43:26.038Z"
   },
   {
    "duration": 76,
    "start_time": "2024-07-27T22:46:47.641Z"
   },
   {
    "duration": 67,
    "start_time": "2024-07-27T22:46:56.133Z"
   },
   {
    "duration": 6,
    "start_time": "2024-07-27T22:47:00.716Z"
   },
   {
    "duration": 42,
    "start_time": "2024-07-27T22:49:26.372Z"
   },
   {
    "duration": 19,
    "start_time": "2024-07-27T22:49:35.190Z"
   },
   {
    "duration": 17,
    "start_time": "2024-07-27T22:49:53.969Z"
   },
   {
    "duration": 23,
    "start_time": "2024-07-27T22:50:08.793Z"
   },
   {
    "duration": 8,
    "start_time": "2024-07-27T22:50:17.836Z"
   },
   {
    "duration": 7,
    "start_time": "2024-07-27T22:50:36.844Z"
   },
   {
    "duration": 6,
    "start_time": "2024-07-27T22:54:09.986Z"
   },
   {
    "duration": 10,
    "start_time": "2024-07-27T22:55:51.504Z"
   },
   {
    "duration": 63,
    "start_time": "2024-07-27T22:58:13.074Z"
   },
   {
    "duration": 236,
    "start_time": "2024-07-27T22:58:19.710Z"
   },
   {
    "duration": 280,
    "start_time": "2024-07-27T23:01:03.488Z"
   },
   {
    "duration": 440,
    "start_time": "2024-07-27T23:28:07.321Z"
   },
   {
    "duration": 44,
    "start_time": "2024-07-27T23:28:07.763Z"
   },
   {
    "duration": 36,
    "start_time": "2024-07-27T23:28:07.809Z"
   },
   {
    "duration": 19,
    "start_time": "2024-07-27T23:28:07.846Z"
   },
   {
    "duration": 6,
    "start_time": "2024-07-27T23:28:07.867Z"
   },
   {
    "duration": 25,
    "start_time": "2024-07-27T23:28:07.875Z"
   },
   {
    "duration": 39,
    "start_time": "2024-07-27T23:28:07.902Z"
   },
   {
    "duration": 15,
    "start_time": "2024-07-27T23:28:07.943Z"
   },
   {
    "duration": 31,
    "start_time": "2024-07-27T23:28:07.960Z"
   },
   {
    "duration": 33,
    "start_time": "2024-07-27T23:28:07.993Z"
   },
   {
    "duration": 11,
    "start_time": "2024-07-27T23:28:08.027Z"
   },
   {
    "duration": 35,
    "start_time": "2024-07-27T23:28:08.039Z"
   },
   {
    "duration": 18,
    "start_time": "2024-07-27T23:28:08.077Z"
   },
   {
    "duration": 20,
    "start_time": "2024-07-27T23:28:08.099Z"
   },
   {
    "duration": 390,
    "start_time": "2024-07-27T23:28:08.120Z"
   },
   {
    "duration": 181,
    "start_time": "2024-07-27T23:28:08.512Z"
   },
   {
    "duration": 12,
    "start_time": "2024-07-27T23:28:08.695Z"
   },
   {
    "duration": 171,
    "start_time": "2024-07-27T23:28:08.709Z"
   },
   {
    "duration": 13,
    "start_time": "2024-07-27T23:28:08.882Z"
   },
   {
    "duration": 354,
    "start_time": "2024-07-27T23:28:08.897Z"
   },
   {
    "duration": 13,
    "start_time": "2024-07-27T23:28:09.253Z"
   },
   {
    "duration": 393,
    "start_time": "2024-07-27T23:28:09.268Z"
   },
   {
    "duration": 142,
    "start_time": "2024-07-27T23:28:09.663Z"
   },
   {
    "duration": 138,
    "start_time": "2024-07-27T23:28:09.807Z"
   },
   {
    "duration": 28,
    "start_time": "2024-07-27T23:28:09.947Z"
   },
   {
    "duration": 24,
    "start_time": "2024-07-27T23:28:09.976Z"
   },
   {
    "duration": 19,
    "start_time": "2024-07-27T23:28:10.001Z"
   },
   {
    "duration": 47,
    "start_time": "2024-07-27T23:28:10.021Z"
   },
   {
    "duration": 141,
    "start_time": "2024-07-27T23:28:10.069Z"
   },
   {
    "duration": 126,
    "start_time": "2024-07-27T23:28:10.212Z"
   },
   {
    "duration": 20,
    "start_time": "2024-07-27T23:28:10.340Z"
   },
   {
    "duration": 8,
    "start_time": "2024-07-27T23:28:10.361Z"
   },
   {
    "duration": 49,
    "start_time": "2024-07-27T23:28:10.370Z"
   },
   {
    "duration": 6,
    "start_time": "2024-07-27T23:28:10.421Z"
   },
   {
    "duration": 42,
    "start_time": "2024-07-27T23:28:10.429Z"
   },
   {
    "duration": 4,
    "start_time": "2024-07-27T23:28:10.473Z"
   },
   {
    "duration": 569,
    "start_time": "2024-07-27T23:28:10.478Z"
   },
   {
    "duration": 8,
    "start_time": "2024-07-27T23:28:11.049Z"
   },
   {
    "duration": 10,
    "start_time": "2024-07-27T23:28:11.058Z"
   },
   {
    "duration": 264,
    "start_time": "2024-07-27T23:28:11.070Z"
   },
   {
    "duration": 278,
    "start_time": "2024-07-27T23:28:11.337Z"
   },
   {
    "duration": 51,
    "start_time": "2024-07-28T09:37:25.442Z"
   },
   {
    "duration": 379,
    "start_time": "2024-07-28T09:37:33.862Z"
   },
   {
    "duration": 88,
    "start_time": "2024-07-28T09:37:34.243Z"
   },
   {
    "duration": 145,
    "start_time": "2024-07-28T09:37:34.332Z"
   },
   {
    "duration": 70,
    "start_time": "2024-07-28T09:37:34.479Z"
   },
   {
    "duration": 5,
    "start_time": "2024-07-28T09:37:34.551Z"
   },
   {
    "duration": 32,
    "start_time": "2024-07-28T09:37:34.558Z"
   },
   {
    "duration": 21,
    "start_time": "2024-07-28T09:37:34.592Z"
   },
   {
    "duration": 15,
    "start_time": "2024-07-28T09:37:34.615Z"
   },
   {
    "duration": 27,
    "start_time": "2024-07-28T09:37:34.632Z"
   },
   {
    "duration": 13,
    "start_time": "2024-07-28T09:37:34.661Z"
   },
   {
    "duration": 26,
    "start_time": "2024-07-28T09:37:34.676Z"
   },
   {
    "duration": 16,
    "start_time": "2024-07-28T09:37:34.704Z"
   },
   {
    "duration": 5,
    "start_time": "2024-07-28T09:37:34.722Z"
   },
   {
    "duration": 9,
    "start_time": "2024-07-28T09:37:34.732Z"
   },
   {
    "duration": 597,
    "start_time": "2024-07-28T09:37:34.742Z"
   },
   {
    "duration": 180,
    "start_time": "2024-07-28T09:37:35.340Z"
   },
   {
    "duration": 13,
    "start_time": "2024-07-28T09:37:35.522Z"
   },
   {
    "duration": 166,
    "start_time": "2024-07-28T09:37:35.536Z"
   },
   {
    "duration": 13,
    "start_time": "2024-07-28T09:37:35.705Z"
   },
   {
    "duration": 409,
    "start_time": "2024-07-28T09:37:35.719Z"
   },
   {
    "duration": 13,
    "start_time": "2024-07-28T09:37:36.129Z"
   },
   {
    "duration": 313,
    "start_time": "2024-07-28T09:37:36.144Z"
   },
   {
    "duration": 156,
    "start_time": "2024-07-28T09:37:36.458Z"
   },
   {
    "duration": 150,
    "start_time": "2024-07-28T09:37:36.616Z"
   },
   {
    "duration": 46,
    "start_time": "2024-07-28T09:37:36.768Z"
   },
   {
    "duration": 26,
    "start_time": "2024-07-28T09:37:36.816Z"
   },
   {
    "duration": 29,
    "start_time": "2024-07-28T09:37:36.844Z"
   },
   {
    "duration": 44,
    "start_time": "2024-07-28T09:37:36.875Z"
   },
   {
    "duration": 164,
    "start_time": "2024-07-28T09:37:36.920Z"
   },
   {
    "duration": 128,
    "start_time": "2024-07-28T09:37:37.086Z"
   },
   {
    "duration": 10,
    "start_time": "2024-07-28T09:37:37.215Z"
   },
   {
    "duration": 11,
    "start_time": "2024-07-28T09:37:37.227Z"
   },
   {
    "duration": 70,
    "start_time": "2024-07-28T09:37:37.239Z"
   },
   {
    "duration": 7,
    "start_time": "2024-07-28T09:37:37.311Z"
   },
   {
    "duration": 19,
    "start_time": "2024-07-28T09:37:37.320Z"
   },
   {
    "duration": 9,
    "start_time": "2024-07-28T09:37:37.340Z"
   },
   {
    "duration": 5,
    "start_time": "2024-07-28T09:37:37.351Z"
   },
   {
    "duration": 570,
    "start_time": "2024-07-28T09:37:37.357Z"
   },
   {
    "duration": 5,
    "start_time": "2024-07-28T09:37:37.928Z"
   },
   {
    "duration": 22,
    "start_time": "2024-07-28T09:37:37.935Z"
   },
   {
    "duration": 378,
    "start_time": "2024-07-28T09:37:37.961Z"
   },
   {
    "duration": 318,
    "start_time": "2024-07-28T09:37:38.340Z"
   },
   {
    "duration": 455,
    "start_time": "2024-07-28T09:42:59.584Z"
   },
   {
    "duration": 45,
    "start_time": "2024-07-28T09:43:00.042Z"
   },
   {
    "duration": 70,
    "start_time": "2024-07-28T09:43:00.089Z"
   },
   {
    "duration": 99,
    "start_time": "2024-07-28T09:43:00.161Z"
   },
   {
    "duration": 32,
    "start_time": "2024-07-28T09:43:00.262Z"
   },
   {
    "duration": 57,
    "start_time": "2024-07-28T09:43:00.296Z"
   },
   {
    "duration": 47,
    "start_time": "2024-07-28T09:43:00.355Z"
   },
   {
    "duration": 139,
    "start_time": "2024-07-28T09:43:00.404Z"
   },
   {
    "duration": 53,
    "start_time": "2024-07-28T09:43:00.545Z"
   },
   {
    "duration": 81,
    "start_time": "2024-07-28T09:43:00.602Z"
   },
   {
    "duration": 49,
    "start_time": "2024-07-28T09:43:00.684Z"
   },
   {
    "duration": 30,
    "start_time": "2024-07-28T09:43:00.734Z"
   },
   {
    "duration": 31,
    "start_time": "2024-07-28T09:43:00.766Z"
   },
   {
    "duration": 55,
    "start_time": "2024-07-28T09:43:00.799Z"
   },
   {
    "duration": 430,
    "start_time": "2024-07-28T09:43:00.856Z"
   },
   {
    "duration": 209,
    "start_time": "2024-07-28T09:43:01.288Z"
   },
   {
    "duration": 19,
    "start_time": "2024-07-28T09:43:01.498Z"
   },
   {
    "duration": 192,
    "start_time": "2024-07-28T09:43:01.518Z"
   },
   {
    "duration": 13,
    "start_time": "2024-07-28T09:43:01.712Z"
   },
   {
    "duration": 345,
    "start_time": "2024-07-28T09:43:01.727Z"
   },
   {
    "duration": 14,
    "start_time": "2024-07-28T09:43:02.074Z"
   },
   {
    "duration": 362,
    "start_time": "2024-07-28T09:43:02.090Z"
   },
   {
    "duration": 138,
    "start_time": "2024-07-28T09:43:02.453Z"
   },
   {
    "duration": 148,
    "start_time": "2024-07-28T09:43:02.592Z"
   },
   {
    "duration": 34,
    "start_time": "2024-07-28T09:43:02.742Z"
   },
   {
    "duration": 43,
    "start_time": "2024-07-28T09:43:02.778Z"
   },
   {
    "duration": 21,
    "start_time": "2024-07-28T09:43:02.822Z"
   },
   {
    "duration": 19,
    "start_time": "2024-07-28T09:43:02.847Z"
   },
   {
    "duration": 175,
    "start_time": "2024-07-28T09:43:02.868Z"
   },
   {
    "duration": 136,
    "start_time": "2024-07-28T09:43:03.045Z"
   },
   {
    "duration": 9,
    "start_time": "2024-07-28T09:43:03.182Z"
   },
   {
    "duration": 17,
    "start_time": "2024-07-28T09:43:03.192Z"
   },
   {
    "duration": 50,
    "start_time": "2024-07-28T09:43:03.210Z"
   },
   {
    "duration": 6,
    "start_time": "2024-07-28T09:43:03.261Z"
   },
   {
    "duration": 44,
    "start_time": "2024-07-28T09:43:03.269Z"
   },
   {
    "duration": 4,
    "start_time": "2024-07-28T09:43:03.315Z"
   },
   {
    "duration": 467,
    "start_time": "2024-07-28T09:43:03.320Z"
   },
   {
    "duration": 5,
    "start_time": "2024-07-28T09:43:03.788Z"
   },
   {
    "duration": 20,
    "start_time": "2024-07-28T09:43:03.794Z"
   },
   {
    "duration": 254,
    "start_time": "2024-07-28T09:43:03.816Z"
   },
   {
    "duration": 288,
    "start_time": "2024-07-28T09:43:04.071Z"
   },
   {
    "duration": 392,
    "start_time": "2024-07-28T09:44:33.935Z"
   },
   {
    "duration": 44,
    "start_time": "2024-07-28T09:44:34.329Z"
   },
   {
    "duration": 35,
    "start_time": "2024-07-28T09:44:34.375Z"
   },
   {
    "duration": 19,
    "start_time": "2024-07-28T09:44:34.412Z"
   },
   {
    "duration": 5,
    "start_time": "2024-07-28T09:44:34.433Z"
   },
   {
    "duration": 28,
    "start_time": "2024-07-28T09:44:34.440Z"
   },
   {
    "duration": 11,
    "start_time": "2024-07-28T09:44:34.470Z"
   },
   {
    "duration": 10,
    "start_time": "2024-07-28T09:44:34.482Z"
   },
   {
    "duration": 17,
    "start_time": "2024-07-28T09:44:34.494Z"
   },
   {
    "duration": 15,
    "start_time": "2024-07-28T09:44:34.514Z"
   },
   {
    "duration": 11,
    "start_time": "2024-07-28T09:44:34.531Z"
   },
   {
    "duration": 11,
    "start_time": "2024-07-28T09:44:34.543Z"
   },
   {
    "duration": 4,
    "start_time": "2024-07-28T09:44:34.556Z"
   },
   {
    "duration": 13,
    "start_time": "2024-07-28T09:44:34.562Z"
   },
   {
    "duration": 409,
    "start_time": "2024-07-28T09:44:34.576Z"
   },
   {
    "duration": 211,
    "start_time": "2024-07-28T09:44:34.987Z"
   },
   {
    "duration": 14,
    "start_time": "2024-07-28T09:44:35.200Z"
   },
   {
    "duration": 192,
    "start_time": "2024-07-28T09:44:35.215Z"
   },
   {
    "duration": 12,
    "start_time": "2024-07-28T09:44:35.409Z"
   },
   {
    "duration": 303,
    "start_time": "2024-07-28T09:44:35.422Z"
   },
   {
    "duration": 12,
    "start_time": "2024-07-28T09:44:35.727Z"
   },
   {
    "duration": 396,
    "start_time": "2024-07-28T09:44:35.741Z"
   },
   {
    "duration": 140,
    "start_time": "2024-07-28T09:44:36.139Z"
   },
   {
    "duration": 146,
    "start_time": "2024-07-28T09:44:36.281Z"
   },
   {
    "duration": 30,
    "start_time": "2024-07-28T09:44:36.429Z"
   },
   {
    "duration": 45,
    "start_time": "2024-07-28T09:44:36.461Z"
   },
   {
    "duration": 21,
    "start_time": "2024-07-28T09:44:36.507Z"
   },
   {
    "duration": 20,
    "start_time": "2024-07-28T09:44:36.531Z"
   },
   {
    "duration": 161,
    "start_time": "2024-07-28T09:44:36.552Z"
   },
   {
    "duration": 135,
    "start_time": "2024-07-28T09:44:36.715Z"
   },
   {
    "duration": 10,
    "start_time": "2024-07-28T09:44:36.851Z"
   },
   {
    "duration": 9,
    "start_time": "2024-07-28T09:44:36.862Z"
   },
   {
    "duration": 71,
    "start_time": "2024-07-28T09:44:36.873Z"
   },
   {
    "duration": 7,
    "start_time": "2024-07-28T09:44:36.946Z"
   },
   {
    "duration": 64,
    "start_time": "2024-07-28T09:44:36.954Z"
   },
   {
    "duration": 4,
    "start_time": "2024-07-28T09:44:37.020Z"
   },
   {
    "duration": 454,
    "start_time": "2024-07-28T09:44:37.025Z"
   },
   {
    "duration": 5,
    "start_time": "2024-07-28T09:44:37.481Z"
   },
   {
    "duration": 66,
    "start_time": "2024-07-28T09:44:37.487Z"
   },
   {
    "duration": 286,
    "start_time": "2024-07-28T09:44:37.555Z"
   },
   {
    "duration": 274,
    "start_time": "2024-07-28T09:44:37.843Z"
   },
   {
    "duration": 54,
    "start_time": "2024-07-28T18:06:02.567Z"
   },
   {
    "duration": 426,
    "start_time": "2024-07-28T18:06:10.907Z"
   },
   {
    "duration": 88,
    "start_time": "2024-07-28T18:06:11.335Z"
   },
   {
    "duration": 150,
    "start_time": "2024-07-28T18:06:11.425Z"
   },
   {
    "duration": 70,
    "start_time": "2024-07-28T18:06:11.577Z"
   },
   {
    "duration": 5,
    "start_time": "2024-07-28T18:06:11.649Z"
   },
   {
    "duration": 26,
    "start_time": "2024-07-28T18:06:11.656Z"
   },
   {
    "duration": 11,
    "start_time": "2024-07-28T18:06:11.684Z"
   },
   {
    "duration": 11,
    "start_time": "2024-07-28T18:06:11.696Z"
   },
   {
    "duration": 10,
    "start_time": "2024-07-28T18:06:11.708Z"
   },
   {
    "duration": 16,
    "start_time": "2024-07-28T18:06:11.722Z"
   },
   {
    "duration": 43,
    "start_time": "2024-07-28T18:06:11.740Z"
   },
   {
    "duration": 11,
    "start_time": "2024-07-28T18:06:11.785Z"
   },
   {
    "duration": 14,
    "start_time": "2024-07-28T18:06:11.797Z"
   },
   {
    "duration": 7,
    "start_time": "2024-07-28T18:06:11.812Z"
   },
   {
    "duration": 8,
    "start_time": "2024-07-28T18:06:11.821Z"
   },
   {
    "duration": 588,
    "start_time": "2024-07-28T18:06:11.830Z"
   },
   {
    "duration": 207,
    "start_time": "2024-07-28T18:06:12.420Z"
   },
   {
    "duration": 14,
    "start_time": "2024-07-28T18:06:12.628Z"
   },
   {
    "duration": 189,
    "start_time": "2024-07-28T18:06:12.644Z"
   },
   {
    "duration": 13,
    "start_time": "2024-07-28T18:06:12.835Z"
   },
   {
    "duration": 394,
    "start_time": "2024-07-28T18:06:12.849Z"
   },
   {
    "duration": 13,
    "start_time": "2024-07-28T18:06:13.245Z"
   },
   {
    "duration": 323,
    "start_time": "2024-07-28T18:06:13.260Z"
   },
   {
    "duration": 145,
    "start_time": "2024-07-28T18:06:13.585Z"
   },
   {
    "duration": 151,
    "start_time": "2024-07-28T18:06:13.731Z"
   },
   {
    "duration": 37,
    "start_time": "2024-07-28T18:06:13.883Z"
   },
   {
    "duration": 30,
    "start_time": "2024-07-28T18:06:13.923Z"
   },
   {
    "duration": 42,
    "start_time": "2024-07-28T18:06:13.958Z"
   },
   {
    "duration": 29,
    "start_time": "2024-07-28T18:06:14.002Z"
   },
   {
    "duration": 184,
    "start_time": "2024-07-28T18:06:14.034Z"
   },
   {
    "duration": 139,
    "start_time": "2024-07-28T18:06:14.219Z"
   },
   {
    "duration": 9,
    "start_time": "2024-07-28T18:06:14.360Z"
   },
   {
    "duration": 8,
    "start_time": "2024-07-28T18:06:14.381Z"
   },
   {
    "duration": 50,
    "start_time": "2024-07-28T18:06:14.391Z"
   },
   {
    "duration": 10,
    "start_time": "2024-07-28T18:06:14.443Z"
   },
   {
    "duration": 43,
    "start_time": "2024-07-28T18:06:14.454Z"
   },
   {
    "duration": 5,
    "start_time": "2024-07-28T18:06:14.499Z"
   },
   {
    "duration": 463,
    "start_time": "2024-07-28T18:06:14.506Z"
   },
   {
    "duration": 11,
    "start_time": "2024-07-28T18:06:14.971Z"
   },
   {
    "duration": 9,
    "start_time": "2024-07-28T18:06:14.983Z"
   },
   {
    "duration": 331,
    "start_time": "2024-07-28T18:06:14.994Z"
   },
   {
    "duration": 262,
    "start_time": "2024-07-28T18:06:15.326Z"
   },
   {
    "duration": 11,
    "start_time": "2024-07-28T18:11:18.591Z"
   },
   {
    "duration": 463,
    "start_time": "2024-07-28T18:11:29.267Z"
   },
   {
    "duration": 45,
    "start_time": "2024-07-28T18:11:29.732Z"
   },
   {
    "duration": 35,
    "start_time": "2024-07-28T18:11:29.779Z"
   },
   {
    "duration": 18,
    "start_time": "2024-07-28T18:11:29.817Z"
   },
   {
    "duration": 7,
    "start_time": "2024-07-28T18:11:29.837Z"
   },
   {
    "duration": 12,
    "start_time": "2024-07-28T18:11:29.846Z"
   },
   {
    "duration": 25,
    "start_time": "2024-07-28T18:11:29.860Z"
   },
   {
    "duration": 14,
    "start_time": "2024-07-28T18:11:29.887Z"
   },
   {
    "duration": 16,
    "start_time": "2024-07-28T18:11:29.903Z"
   },
   {
    "duration": 29,
    "start_time": "2024-07-28T18:11:29.922Z"
   },
   {
    "duration": 14,
    "start_time": "2024-07-28T18:11:29.953Z"
   },
   {
    "duration": 21,
    "start_time": "2024-07-28T18:11:29.982Z"
   },
   {
    "duration": 11,
    "start_time": "2024-07-28T18:11:30.005Z"
   },
   {
    "duration": 21,
    "start_time": "2024-07-28T18:11:30.018Z"
   },
   {
    "duration": 6,
    "start_time": "2024-07-28T18:11:30.041Z"
   },
   {
    "duration": 54,
    "start_time": "2024-07-28T18:11:30.049Z"
   },
   {
    "duration": 385,
    "start_time": "2024-07-28T18:11:30.105Z"
   },
   {
    "duration": 187,
    "start_time": "2024-07-28T18:11:30.492Z"
   },
   {
    "duration": 14,
    "start_time": "2024-07-28T18:11:30.682Z"
   },
   {
    "duration": 180,
    "start_time": "2024-07-28T18:11:30.698Z"
   },
   {
    "duration": 12,
    "start_time": "2024-07-28T18:11:30.880Z"
   },
   {
    "duration": 496,
    "start_time": "2024-07-28T18:11:30.894Z"
   },
   {
    "duration": 16,
    "start_time": "2024-07-28T18:11:31.392Z"
   },
   {
    "duration": 438,
    "start_time": "2024-07-28T18:11:31.410Z"
   },
   {
    "duration": 176,
    "start_time": "2024-07-28T18:11:31.851Z"
   },
   {
    "duration": 141,
    "start_time": "2024-07-28T18:11:32.028Z"
   },
   {
    "duration": 37,
    "start_time": "2024-07-28T18:11:32.171Z"
   },
   {
    "duration": 25,
    "start_time": "2024-07-28T18:11:32.212Z"
   },
   {
    "duration": 20,
    "start_time": "2024-07-28T18:11:32.238Z"
   },
   {
    "duration": 38,
    "start_time": "2024-07-28T18:11:32.260Z"
   },
   {
    "duration": 173,
    "start_time": "2024-07-28T18:11:32.299Z"
   },
   {
    "duration": 133,
    "start_time": "2024-07-28T18:11:32.473Z"
   },
   {
    "duration": 9,
    "start_time": "2024-07-28T18:11:32.608Z"
   },
   {
    "duration": 101,
    "start_time": "2024-07-28T18:11:32.618Z"
   },
   {
    "duration": 80,
    "start_time": "2024-07-28T18:11:32.721Z"
   },
   {
    "duration": 7,
    "start_time": "2024-07-28T18:11:32.802Z"
   },
   {
    "duration": 25,
    "start_time": "2024-07-28T18:11:32.810Z"
   },
   {
    "duration": 4,
    "start_time": "2024-07-28T18:11:32.836Z"
   },
   {
    "duration": 522,
    "start_time": "2024-07-28T18:11:32.842Z"
   },
   {
    "duration": 5,
    "start_time": "2024-07-28T18:11:33.366Z"
   },
   {
    "duration": 17,
    "start_time": "2024-07-28T18:11:33.373Z"
   },
   {
    "duration": 375,
    "start_time": "2024-07-28T18:11:33.391Z"
   },
   {
    "duration": 294,
    "start_time": "2024-07-28T18:11:33.768Z"
   },
   {
    "duration": 10,
    "start_time": "2024-07-28T18:13:25.695Z"
   },
   {
    "duration": 7,
    "start_time": "2024-07-28T18:15:11.848Z"
   },
   {
    "duration": 7,
    "start_time": "2024-07-28T18:15:47.528Z"
   },
   {
    "duration": 6,
    "start_time": "2024-07-28T18:15:55.933Z"
   },
   {
    "duration": 5,
    "start_time": "2024-07-28T18:16:02.139Z"
   },
   {
    "duration": 5,
    "start_time": "2024-07-28T18:16:12.832Z"
   },
   {
    "duration": 7,
    "start_time": "2024-07-28T18:16:23.451Z"
   },
   {
    "duration": 60,
    "start_time": "2024-07-28T18:17:04.457Z"
   },
   {
    "duration": 456,
    "start_time": "2024-07-28T18:19:18.497Z"
   },
   {
    "duration": 44,
    "start_time": "2024-07-28T18:19:18.955Z"
   },
   {
    "duration": 37,
    "start_time": "2024-07-28T18:19:19.001Z"
   },
   {
    "duration": 20,
    "start_time": "2024-07-28T18:19:19.040Z"
   },
   {
    "duration": 6,
    "start_time": "2024-07-28T18:19:19.062Z"
   },
   {
    "duration": 12,
    "start_time": "2024-07-28T18:19:19.070Z"
   },
   {
    "duration": 33,
    "start_time": "2024-07-28T18:19:19.084Z"
   },
   {
    "duration": 73,
    "start_time": "2024-07-28T18:19:19.118Z"
   },
   {
    "duration": 11,
    "start_time": "2024-07-28T18:19:19.193Z"
   },
   {
    "duration": 14,
    "start_time": "2024-07-28T18:19:19.209Z"
   },
   {
    "duration": 17,
    "start_time": "2024-07-28T18:19:19.224Z"
   },
   {
    "duration": 41,
    "start_time": "2024-07-28T18:19:19.242Z"
   },
   {
    "duration": 25,
    "start_time": "2024-07-28T18:19:19.285Z"
   },
   {
    "duration": 6,
    "start_time": "2024-07-28T18:19:19.312Z"
   },
   {
    "duration": 8,
    "start_time": "2024-07-28T18:19:19.320Z"
   },
   {
    "duration": 52,
    "start_time": "2024-07-28T18:19:19.330Z"
   },
   {
    "duration": 8,
    "start_time": "2024-07-28T18:19:19.384Z"
   },
   {
    "duration": 6,
    "start_time": "2024-07-28T18:19:19.394Z"
   },
   {
    "duration": 29,
    "start_time": "2024-07-28T18:19:19.401Z"
   },
   {
    "duration": 399,
    "start_time": "2024-07-28T18:19:19.431Z"
   },
   {
    "duration": 204,
    "start_time": "2024-07-28T18:19:19.832Z"
   },
   {
    "duration": 13,
    "start_time": "2024-07-28T18:19:20.038Z"
   },
   {
    "duration": 179,
    "start_time": "2024-07-28T18:19:20.053Z"
   },
   {
    "duration": 14,
    "start_time": "2024-07-28T18:19:20.234Z"
   },
   {
    "duration": 346,
    "start_time": "2024-07-28T18:19:20.249Z"
   },
   {
    "duration": 15,
    "start_time": "2024-07-28T18:19:20.597Z"
   },
   {
    "duration": 474,
    "start_time": "2024-07-28T18:19:20.614Z"
   },
   {
    "duration": 178,
    "start_time": "2024-07-28T18:19:21.092Z"
   },
   {
    "duration": 173,
    "start_time": "2024-07-28T18:19:21.272Z"
   },
   {
    "duration": 64,
    "start_time": "2024-07-28T18:19:21.446Z"
   },
   {
    "duration": 29,
    "start_time": "2024-07-28T18:19:21.513Z"
   },
   {
    "duration": 39,
    "start_time": "2024-07-28T18:19:21.544Z"
   },
   {
    "duration": 20,
    "start_time": "2024-07-28T18:19:21.585Z"
   },
   {
    "duration": 176,
    "start_time": "2024-07-28T18:19:21.606Z"
   },
   {
    "duration": 181,
    "start_time": "2024-07-28T18:19:21.784Z"
   },
   {
    "duration": 19,
    "start_time": "2024-07-28T18:19:21.967Z"
   },
   {
    "duration": 8,
    "start_time": "2024-07-28T18:19:21.988Z"
   },
   {
    "duration": 52,
    "start_time": "2024-07-28T18:19:21.998Z"
   },
   {
    "duration": 31,
    "start_time": "2024-07-28T18:19:22.052Z"
   },
   {
    "duration": 22,
    "start_time": "2024-07-28T18:19:22.085Z"
   },
   {
    "duration": 4,
    "start_time": "2024-07-28T18:19:22.109Z"
   },
   {
    "duration": 527,
    "start_time": "2024-07-28T18:19:22.115Z"
   },
   {
    "duration": 9,
    "start_time": "2024-07-28T18:19:22.644Z"
   },
   {
    "duration": 47,
    "start_time": "2024-07-28T18:19:22.654Z"
   },
   {
    "duration": 280,
    "start_time": "2024-07-28T18:19:22.703Z"
   },
   {
    "duration": 300,
    "start_time": "2024-07-28T18:19:22.984Z"
   },
   {
    "duration": 1169,
    "start_time": "2024-07-28T18:23:01.608Z"
   },
   {
    "duration": 43,
    "start_time": "2024-07-28T18:23:02.779Z"
   },
   {
    "duration": 77,
    "start_time": "2024-07-28T18:23:02.824Z"
   },
   {
    "duration": 37,
    "start_time": "2024-07-28T18:23:02.903Z"
   },
   {
    "duration": 41,
    "start_time": "2024-07-28T18:23:02.942Z"
   },
   {
    "duration": 31,
    "start_time": "2024-07-28T18:23:02.984Z"
   },
   {
    "duration": 17,
    "start_time": "2024-07-28T18:23:03.016Z"
   },
   {
    "duration": 14,
    "start_time": "2024-07-28T18:23:03.035Z"
   },
   {
    "duration": 10,
    "start_time": "2024-07-28T18:23:03.051Z"
   },
   {
    "duration": 26,
    "start_time": "2024-07-28T18:23:03.064Z"
   },
   {
    "duration": 21,
    "start_time": "2024-07-28T18:23:03.091Z"
   },
   {
    "duration": 74,
    "start_time": "2024-07-28T18:23:03.114Z"
   },
   {
    "duration": 15,
    "start_time": "2024-07-28T18:23:03.189Z"
   },
   {
    "duration": 6,
    "start_time": "2024-07-28T18:23:03.206Z"
   },
   {
    "duration": 21,
    "start_time": "2024-07-28T18:23:03.213Z"
   },
   {
    "duration": 15,
    "start_time": "2024-07-28T18:23:03.236Z"
   },
   {
    "duration": 18,
    "start_time": "2024-07-28T18:23:03.252Z"
   },
   {
    "duration": 6,
    "start_time": "2024-07-28T18:23:03.283Z"
   },
   {
    "duration": 20,
    "start_time": "2024-07-28T18:23:03.290Z"
   },
   {
    "duration": 151,
    "start_time": "2024-07-28T18:23:03.312Z"
   },
   {
    "duration": 189,
    "start_time": "2024-07-28T18:23:03.464Z"
   },
   {
    "duration": 13,
    "start_time": "2024-07-28T18:23:03.654Z"
   },
   {
    "duration": 170,
    "start_time": "2024-07-28T18:23:03.668Z"
   },
   {
    "duration": 17,
    "start_time": "2024-07-28T18:23:03.839Z"
   },
   {
    "duration": 357,
    "start_time": "2024-07-28T18:23:03.858Z"
   },
   {
    "duration": 14,
    "start_time": "2024-07-28T18:23:04.216Z"
   },
   {
    "duration": 341,
    "start_time": "2024-07-28T18:23:04.232Z"
   },
   {
    "duration": 151,
    "start_time": "2024-07-28T18:23:04.581Z"
   },
   {
    "duration": 153,
    "start_time": "2024-07-28T18:23:04.733Z"
   },
   {
    "duration": 32,
    "start_time": "2024-07-28T18:23:04.888Z"
   },
   {
    "duration": 87,
    "start_time": "2024-07-28T18:23:04.922Z"
   },
   {
    "duration": 23,
    "start_time": "2024-07-28T18:23:05.010Z"
   },
   {
    "duration": 24,
    "start_time": "2024-07-28T18:23:05.036Z"
   },
   {
    "duration": 236,
    "start_time": "2024-07-28T18:23:05.061Z"
   },
   {
    "duration": 136,
    "start_time": "2024-07-28T18:23:05.299Z"
   },
   {
    "duration": 9,
    "start_time": "2024-07-28T18:23:05.436Z"
   },
   {
    "duration": 9,
    "start_time": "2024-07-28T18:23:05.447Z"
   },
   {
    "duration": 79,
    "start_time": "2024-07-28T18:23:05.457Z"
   },
   {
    "duration": 6,
    "start_time": "2024-07-28T18:23:05.538Z"
   },
   {
    "duration": 40,
    "start_time": "2024-07-28T18:23:05.546Z"
   },
   {
    "duration": 5,
    "start_time": "2024-07-28T18:23:05.587Z"
   },
   {
    "duration": 34,
    "start_time": "2024-07-28T18:23:05.593Z"
   },
   {
    "duration": 5,
    "start_time": "2024-07-28T18:23:05.628Z"
   },
   {
    "duration": 9,
    "start_time": "2024-07-28T18:23:05.635Z"
   },
   {
    "duration": 304,
    "start_time": "2024-07-28T18:23:05.645Z"
   },
   {
    "duration": 300,
    "start_time": "2024-07-28T18:23:05.951Z"
   },
   {
    "duration": 112,
    "start_time": "2024-07-28T18:24:07.596Z"
   },
   {
    "duration": 183,
    "start_time": "2024-07-28T18:24:46.141Z"
   },
   {
    "duration": 21,
    "start_time": "2024-07-28T18:42:28.443Z"
   },
   {
    "duration": 11,
    "start_time": "2024-07-28T18:48:41.584Z"
   },
   {
    "duration": 885,
    "start_time": "2024-07-28T18:49:06.655Z"
   },
   {
    "duration": 9,
    "start_time": "2024-07-28T18:49:14.596Z"
   },
   {
    "duration": 157,
    "start_time": "2024-07-28T18:52:24.613Z"
   },
   {
    "duration": 160,
    "start_time": "2024-07-28T18:52:56.259Z"
   },
   {
    "duration": 15671,
    "start_time": "2024-07-28T18:53:26.505Z"
   },
   {
    "duration": 2941,
    "start_time": "2024-07-28T18:53:57.607Z"
   },
   {
    "duration": 9,
    "start_time": "2024-07-28T18:57:37.640Z"
   },
   {
    "duration": 144,
    "start_time": "2024-07-28T18:58:16.386Z"
   },
   {
    "duration": 1650,
    "start_time": "2024-07-28T18:58:30.593Z"
   },
   {
    "duration": 175,
    "start_time": "2024-07-28T19:02:26.682Z"
   },
   {
    "duration": 186,
    "start_time": "2024-07-28T19:05:13.864Z"
   },
   {
    "duration": 137,
    "start_time": "2024-07-28T19:08:52.265Z"
   },
   {
    "duration": 151,
    "start_time": "2024-07-28T19:08:59.224Z"
   },
   {
    "duration": 143,
    "start_time": "2024-07-28T19:09:02.324Z"
   },
   {
    "duration": 135,
    "start_time": "2024-07-28T19:09:07.484Z"
   },
   {
    "duration": 289,
    "start_time": "2024-07-28T19:09:12.222Z"
   },
   {
    "duration": 160,
    "start_time": "2024-07-28T19:11:15.482Z"
   },
   {
    "duration": 420,
    "start_time": "2024-07-28T19:12:32.429Z"
   },
   {
    "duration": 447,
    "start_time": "2024-07-28T19:12:47.606Z"
   },
   {
    "duration": 159,
    "start_time": "2024-07-28T19:14:14.183Z"
   },
   {
    "duration": 250,
    "start_time": "2024-07-28T19:14:21.235Z"
   },
   {
    "duration": 5,
    "start_time": "2024-07-28T19:14:46.406Z"
   },
   {
    "duration": 366,
    "start_time": "2024-07-28T19:14:50.486Z"
   },
   {
    "duration": 251,
    "start_time": "2024-07-28T19:15:01.454Z"
   },
   {
    "duration": 175,
    "start_time": "2024-07-28T19:15:16.403Z"
   },
   {
    "duration": 248,
    "start_time": "2024-07-28T19:16:03.025Z"
   },
   {
    "duration": 255,
    "start_time": "2024-07-28T19:16:13.032Z"
   },
   {
    "duration": 163,
    "start_time": "2024-07-28T19:16:23.542Z"
   },
   {
    "duration": 362,
    "start_time": "2024-07-28T19:17:56.081Z"
   },
   {
    "duration": 288,
    "start_time": "2024-07-28T19:18:52.752Z"
   },
   {
    "duration": 141,
    "start_time": "2024-07-28T19:19:16.322Z"
   },
   {
    "duration": 9,
    "start_time": "2024-07-28T19:20:33.205Z"
   },
   {
    "duration": 4,
    "start_time": "2024-07-28T19:24:53.112Z"
   },
   {
    "duration": 1158,
    "start_time": "2024-07-28T19:25:02.319Z"
   },
   {
    "duration": 43,
    "start_time": "2024-07-28T19:25:03.479Z"
   },
   {
    "duration": 131,
    "start_time": "2024-07-28T19:25:03.523Z"
   },
   {
    "duration": 19,
    "start_time": "2024-07-28T19:25:03.656Z"
   },
   {
    "duration": 7,
    "start_time": "2024-07-28T19:25:03.676Z"
   },
   {
    "duration": 27,
    "start_time": "2024-07-28T19:25:03.684Z"
   },
   {
    "duration": 11,
    "start_time": "2024-07-28T19:25:03.713Z"
   },
   {
    "duration": 29,
    "start_time": "2024-07-28T19:25:03.725Z"
   },
   {
    "duration": 10,
    "start_time": "2024-07-28T19:25:03.755Z"
   },
   {
    "duration": 13,
    "start_time": "2024-07-28T19:25:03.767Z"
   },
   {
    "duration": 10,
    "start_time": "2024-07-28T19:25:03.782Z"
   },
   {
    "duration": 26,
    "start_time": "2024-07-28T19:25:03.793Z"
   },
   {
    "duration": 24,
    "start_time": "2024-07-28T19:25:03.820Z"
   },
   {
    "duration": 7,
    "start_time": "2024-07-28T19:25:03.846Z"
   },
   {
    "duration": 7,
    "start_time": "2024-07-28T19:25:03.855Z"
   },
   {
    "duration": 30,
    "start_time": "2024-07-28T19:25:03.864Z"
   },
   {
    "duration": 8,
    "start_time": "2024-07-28T19:25:03.896Z"
   },
   {
    "duration": 5,
    "start_time": "2024-07-28T19:25:03.906Z"
   },
   {
    "duration": 10,
    "start_time": "2024-07-28T19:25:03.913Z"
   },
   {
    "duration": 183,
    "start_time": "2024-07-28T19:25:03.925Z"
   },
   {
    "duration": 197,
    "start_time": "2024-07-28T19:25:04.110Z"
   },
   {
    "duration": 13,
    "start_time": "2024-07-28T19:25:04.309Z"
   },
   {
    "duration": 178,
    "start_time": "2024-07-28T19:25:04.324Z"
   },
   {
    "duration": 201,
    "start_time": "2024-07-28T19:25:04.504Z"
   },
   {
    "duration": 14,
    "start_time": "2024-07-28T19:25:04.707Z"
   },
   {
    "duration": 338,
    "start_time": "2024-07-28T19:25:04.723Z"
   },
   {
    "duration": 22,
    "start_time": "2024-07-28T19:25:05.063Z"
   },
   {
    "duration": 360,
    "start_time": "2024-07-28T19:25:05.090Z"
   },
   {
    "duration": 9,
    "start_time": "2024-07-28T19:25:05.452Z"
   },
   {
    "duration": 178,
    "start_time": "2024-07-28T19:25:05.462Z"
   },
   {
    "duration": 230,
    "start_time": "2024-07-28T19:25:05.643Z"
   },
   {
    "duration": 1554,
    "start_time": "2024-07-28T19:25:05.875Z"
   },
   {
    "duration": 8,
    "start_time": "2024-07-28T19:25:07.431Z"
   },
   {
    "duration": 147,
    "start_time": "2024-07-28T19:25:07.441Z"
   },
   {
    "duration": 165,
    "start_time": "2024-07-28T19:25:07.589Z"
   },
   {
    "duration": 153,
    "start_time": "2024-07-28T19:25:07.755Z"
   },
   {
    "duration": 10,
    "start_time": "2024-07-28T19:25:07.910Z"
   },
   {
    "duration": 30,
    "start_time": "2024-07-28T19:25:07.922Z"
   },
   {
    "duration": 50,
    "start_time": "2024-07-28T19:25:07.954Z"
   },
   {
    "duration": 3,
    "start_time": "2024-07-28T19:25:08.006Z"
   },
   {
    "duration": 23,
    "start_time": "2024-07-28T19:25:08.011Z"
   },
   {
    "duration": 20,
    "start_time": "2024-07-28T19:25:08.035Z"
   },
   {
    "duration": 144,
    "start_time": "2024-07-28T19:25:08.083Z"
   },
   {
    "duration": 136,
    "start_time": "2024-07-28T19:25:08.229Z"
   },
   {
    "duration": 20,
    "start_time": "2024-07-28T19:25:08.366Z"
   },
   {
    "duration": 8,
    "start_time": "2024-07-28T19:25:08.387Z"
   },
   {
    "duration": 51,
    "start_time": "2024-07-28T19:25:08.397Z"
   },
   {
    "duration": 6,
    "start_time": "2024-07-28T19:25:08.450Z"
   },
   {
    "duration": 41,
    "start_time": "2024-07-28T19:25:08.457Z"
   },
   {
    "duration": 5,
    "start_time": "2024-07-28T19:25:08.500Z"
   },
   {
    "duration": 57,
    "start_time": "2024-07-28T19:25:08.507Z"
   },
   {
    "duration": 6,
    "start_time": "2024-07-28T19:25:08.566Z"
   },
   {
    "duration": 16,
    "start_time": "2024-07-28T19:25:08.574Z"
   },
   {
    "duration": 273,
    "start_time": "2024-07-28T19:25:08.592Z"
   },
   {
    "duration": 282,
    "start_time": "2024-07-28T19:25:08.866Z"
   },
   {
    "duration": 3,
    "start_time": "2024-07-28T19:25:27.293Z"
   },
   {
    "duration": 3,
    "start_time": "2024-07-28T19:25:48.844Z"
   },
   {
    "duration": 4,
    "start_time": "2024-07-28T19:25:53.644Z"
   },
   {
    "duration": 10,
    "start_time": "2024-07-28T19:26:36.430Z"
   },
   {
    "duration": 5,
    "start_time": "2024-07-28T19:29:13.989Z"
   },
   {
    "duration": 98,
    "start_time": "2024-07-28T19:33:25.336Z"
   },
   {
    "duration": 10,
    "start_time": "2024-07-28T19:33:32.846Z"
   },
   {
    "duration": 1213,
    "start_time": "2024-07-28T19:34:04.656Z"
   },
   {
    "duration": 42,
    "start_time": "2024-07-28T19:34:05.871Z"
   },
   {
    "duration": 35,
    "start_time": "2024-07-28T19:34:05.915Z"
   },
   {
    "duration": 20,
    "start_time": "2024-07-28T19:34:05.952Z"
   },
   {
    "duration": 6,
    "start_time": "2024-07-28T19:34:05.973Z"
   },
   {
    "duration": 33,
    "start_time": "2024-07-28T19:34:05.981Z"
   },
   {
    "duration": 37,
    "start_time": "2024-07-28T19:34:06.015Z"
   },
   {
    "duration": 35,
    "start_time": "2024-07-28T19:34:06.053Z"
   },
   {
    "duration": 11,
    "start_time": "2024-07-28T19:34:06.089Z"
   },
   {
    "duration": 22,
    "start_time": "2024-07-28T19:34:06.102Z"
   },
   {
    "duration": 21,
    "start_time": "2024-07-28T19:34:06.126Z"
   },
   {
    "duration": 19,
    "start_time": "2024-07-28T19:34:06.148Z"
   },
   {
    "duration": 22,
    "start_time": "2024-07-28T19:34:06.169Z"
   },
   {
    "duration": 6,
    "start_time": "2024-07-28T19:34:06.192Z"
   },
   {
    "duration": 23,
    "start_time": "2024-07-28T19:34:06.200Z"
   },
   {
    "duration": 34,
    "start_time": "2024-07-28T19:34:06.225Z"
   },
   {
    "duration": 6,
    "start_time": "2024-07-28T19:34:06.261Z"
   },
   {
    "duration": 5,
    "start_time": "2024-07-28T19:34:06.269Z"
   },
   {
    "duration": 13,
    "start_time": "2024-07-28T19:34:06.276Z"
   },
   {
    "duration": 174,
    "start_time": "2024-07-28T19:34:06.291Z"
   },
   {
    "duration": 190,
    "start_time": "2024-07-28T19:34:06.467Z"
   },
   {
    "duration": 23,
    "start_time": "2024-07-28T19:34:06.659Z"
   },
   {
    "duration": 171,
    "start_time": "2024-07-28T19:34:06.684Z"
   },
   {
    "duration": 207,
    "start_time": "2024-07-28T19:34:06.856Z"
   },
   {
    "duration": 19,
    "start_time": "2024-07-28T19:34:07.064Z"
   },
   {
    "duration": 308,
    "start_time": "2024-07-28T19:34:07.084Z"
   },
   {
    "duration": 14,
    "start_time": "2024-07-28T19:34:07.393Z"
   },
   {
    "duration": 320,
    "start_time": "2024-07-28T19:34:07.411Z"
   },
   {
    "duration": 8,
    "start_time": "2024-07-28T19:34:07.733Z"
   },
   {
    "duration": 185,
    "start_time": "2024-07-28T19:34:07.743Z"
   },
   {
    "duration": 252,
    "start_time": "2024-07-28T19:34:07.930Z"
   },
   {
    "duration": 1492,
    "start_time": "2024-07-28T19:34:08.184Z"
   },
   {
    "duration": 11,
    "start_time": "2024-07-28T19:34:09.678Z"
   },
   {
    "duration": 149,
    "start_time": "2024-07-28T19:34:09.691Z"
   },
   {
    "duration": 173,
    "start_time": "2024-07-28T19:34:09.842Z"
   },
   {
    "duration": 145,
    "start_time": "2024-07-28T19:34:10.018Z"
   },
   {
    "duration": 17,
    "start_time": "2024-07-28T19:34:10.165Z"
   },
   {
    "duration": 30,
    "start_time": "2024-07-28T19:34:10.184Z"
   },
   {
    "duration": 24,
    "start_time": "2024-07-28T19:34:10.216Z"
   },
   {
    "duration": 4,
    "start_time": "2024-07-28T19:34:10.242Z"
   },
   {
    "duration": 35,
    "start_time": "2024-07-28T19:34:10.247Z"
   },
   {
    "duration": 24,
    "start_time": "2024-07-28T19:34:10.284Z"
   },
   {
    "duration": 18,
    "start_time": "2024-07-28T19:34:10.310Z"
   },
   {
    "duration": 4,
    "start_time": "2024-07-28T19:34:10.330Z"
   },
   {
    "duration": 162,
    "start_time": "2024-07-28T19:34:10.335Z"
   },
   {
    "duration": 130,
    "start_time": "2024-07-28T19:34:10.499Z"
   },
   {
    "duration": 9,
    "start_time": "2024-07-28T19:34:10.630Z"
   },
   {
    "duration": 8,
    "start_time": "2024-07-28T19:34:10.640Z"
   },
   {
    "duration": 407,
    "start_time": "2024-07-28T19:34:10.649Z"
   },
   {
    "duration": 58,
    "start_time": "2024-07-28T19:34:11.057Z"
   },
   {
    "duration": 6,
    "start_time": "2024-07-28T19:34:11.117Z"
   },
   {
    "duration": 25,
    "start_time": "2024-07-28T19:34:11.125Z"
   },
   {
    "duration": 5,
    "start_time": "2024-07-28T19:34:11.152Z"
   },
   {
    "duration": 29,
    "start_time": "2024-07-28T19:34:11.158Z"
   },
   {
    "duration": 8,
    "start_time": "2024-07-28T19:34:11.188Z"
   },
   {
    "duration": 16,
    "start_time": "2024-07-28T19:34:11.197Z"
   },
   {
    "duration": 289,
    "start_time": "2024-07-28T19:34:11.214Z"
   },
   {
    "duration": 435,
    "start_time": "2024-07-28T19:34:11.506Z"
   },
   {
    "duration": 383,
    "start_time": "2024-07-28T19:34:28.682Z"
   },
   {
    "duration": 288,
    "start_time": "2024-07-28T19:34:33.712Z"
   },
   {
    "duration": 275,
    "start_time": "2024-07-28T19:34:53.504Z"
   },
   {
    "duration": 275,
    "start_time": "2024-07-28T19:35:01.925Z"
   },
   {
    "duration": 384,
    "start_time": "2024-07-28T19:36:57.433Z"
   },
   {
    "duration": 297,
    "start_time": "2024-07-28T19:37:18.085Z"
   },
   {
    "duration": 303,
    "start_time": "2024-07-28T19:38:17.482Z"
   },
   {
    "duration": 291,
    "start_time": "2024-07-28T19:38:28.381Z"
   },
   {
    "duration": 290,
    "start_time": "2024-07-28T19:38:45.410Z"
   },
   {
    "duration": 8,
    "start_time": "2024-07-28T19:42:39.160Z"
   },
   {
    "duration": 103,
    "start_time": "2024-07-28T19:42:54.269Z"
   },
   {
    "duration": 12,
    "start_time": "2024-07-28T19:43:17.859Z"
   },
   {
    "duration": 19,
    "start_time": "2024-07-28T19:43:28.230Z"
   },
   {
    "duration": 8,
    "start_time": "2024-07-28T19:43:40.815Z"
   },
   {
    "duration": 12,
    "start_time": "2024-07-28T19:44:01.480Z"
   },
   {
    "duration": 8,
    "start_time": "2024-07-28T19:44:12.135Z"
   },
   {
    "duration": 1204,
    "start_time": "2024-07-28T19:46:17.690Z"
   },
   {
    "duration": 42,
    "start_time": "2024-07-28T19:46:18.896Z"
   },
   {
    "duration": 36,
    "start_time": "2024-07-28T19:46:18.940Z"
   },
   {
    "duration": 19,
    "start_time": "2024-07-28T19:46:18.979Z"
   },
   {
    "duration": 7,
    "start_time": "2024-07-28T19:46:18.999Z"
   },
   {
    "duration": 15,
    "start_time": "2024-07-28T19:46:19.007Z"
   },
   {
    "duration": 12,
    "start_time": "2024-07-28T19:46:19.024Z"
   },
   {
    "duration": 23,
    "start_time": "2024-07-28T19:46:19.037Z"
   },
   {
    "duration": 26,
    "start_time": "2024-07-28T19:46:19.062Z"
   },
   {
    "duration": 16,
    "start_time": "2024-07-28T19:46:19.092Z"
   },
   {
    "duration": 12,
    "start_time": "2024-07-28T19:46:19.110Z"
   },
   {
    "duration": 18,
    "start_time": "2024-07-28T19:46:19.123Z"
   },
   {
    "duration": 43,
    "start_time": "2024-07-28T19:46:19.142Z"
   },
   {
    "duration": 7,
    "start_time": "2024-07-28T19:46:19.186Z"
   },
   {
    "duration": 6,
    "start_time": "2024-07-28T19:46:19.195Z"
   },
   {
    "duration": 11,
    "start_time": "2024-07-28T19:46:19.202Z"
   },
   {
    "duration": 6,
    "start_time": "2024-07-28T19:46:19.215Z"
   },
   {
    "duration": 14,
    "start_time": "2024-07-28T19:46:19.223Z"
   },
   {
    "duration": 45,
    "start_time": "2024-07-28T19:46:19.239Z"
   },
   {
    "duration": 156,
    "start_time": "2024-07-28T19:46:19.285Z"
   },
   {
    "duration": 208,
    "start_time": "2024-07-28T19:46:19.442Z"
   },
   {
    "duration": 15,
    "start_time": "2024-07-28T19:46:19.653Z"
   },
   {
    "duration": 178,
    "start_time": "2024-07-28T19:46:19.682Z"
   },
   {
    "duration": 205,
    "start_time": "2024-07-28T19:46:19.862Z"
   },
   {
    "duration": 19,
    "start_time": "2024-07-28T19:46:20.068Z"
   },
   {
    "duration": 328,
    "start_time": "2024-07-28T19:46:20.088Z"
   },
   {
    "duration": 14,
    "start_time": "2024-07-28T19:46:20.417Z"
   },
   {
    "duration": 334,
    "start_time": "2024-07-28T19:46:20.435Z"
   },
   {
    "duration": 12,
    "start_time": "2024-07-28T19:46:20.771Z"
   },
   {
    "duration": 163,
    "start_time": "2024-07-28T19:46:20.785Z"
   },
   {
    "duration": 241,
    "start_time": "2024-07-28T19:46:20.949Z"
   },
   {
    "duration": 1559,
    "start_time": "2024-07-28T19:46:21.193Z"
   },
   {
    "duration": 8,
    "start_time": "2024-07-28T19:46:22.754Z"
   },
   {
    "duration": 150,
    "start_time": "2024-07-28T19:46:22.764Z"
   },
   {
    "duration": 167,
    "start_time": "2024-07-28T19:46:22.915Z"
   },
   {
    "duration": 145,
    "start_time": "2024-07-28T19:46:23.083Z"
   },
   {
    "duration": 12,
    "start_time": "2024-07-28T19:46:23.230Z"
   },
   {
    "duration": 46,
    "start_time": "2024-07-28T19:46:23.244Z"
   },
   {
    "duration": 24,
    "start_time": "2024-07-28T19:46:23.292Z"
   },
   {
    "duration": 70,
    "start_time": "2024-07-28T19:46:23.318Z"
   },
   {
    "duration": 10,
    "start_time": "2024-07-28T19:46:23.390Z"
   },
   {
    "duration": 29,
    "start_time": "2024-07-28T19:46:23.402Z"
   },
   {
    "duration": 22,
    "start_time": "2024-07-28T19:46:23.433Z"
   },
   {
    "duration": 3,
    "start_time": "2024-07-28T19:46:23.457Z"
   },
   {
    "duration": 162,
    "start_time": "2024-07-28T19:46:23.462Z"
   },
   {
    "duration": 133,
    "start_time": "2024-07-28T19:46:23.626Z"
   },
   {
    "duration": 9,
    "start_time": "2024-07-28T19:46:23.761Z"
   },
   {
    "duration": 8,
    "start_time": "2024-07-28T19:46:23.782Z"
   },
   {
    "duration": 337,
    "start_time": "2024-07-28T19:46:23.792Z"
   },
   {
    "duration": 331,
    "start_time": "2024-07-28T19:46:24.131Z"
   },
   {
    "duration": 8,
    "start_time": "2024-07-28T19:46:24.464Z"
   },
   {
    "duration": 8,
    "start_time": "2024-07-28T19:46:24.482Z"
   },
   {
    "duration": 7,
    "start_time": "2024-07-28T19:46:24.492Z"
   },
   {
    "duration": 19,
    "start_time": "2024-07-28T19:46:24.500Z"
   },
   {
    "duration": 14,
    "start_time": "2024-07-28T19:46:24.521Z"
   },
   {
    "duration": 219,
    "start_time": "2024-07-28T19:46:24.537Z"
   },
   {
    "duration": 2,
    "start_time": "2024-07-28T19:46:24.758Z"
   },
   {
    "duration": 31,
    "start_time": "2024-07-28T19:46:24.762Z"
   },
   {
    "duration": 4,
    "start_time": "2024-07-28T19:46:24.795Z"
   },
   {
    "duration": 8,
    "start_time": "2024-07-28T19:46:24.801Z"
   },
   {
    "duration": 5,
    "start_time": "2024-07-28T19:46:24.811Z"
   },
   {
    "duration": 22,
    "start_time": "2024-07-28T19:46:24.817Z"
   },
   {
    "duration": 329,
    "start_time": "2024-07-28T19:46:24.841Z"
   },
   {
    "duration": 267,
    "start_time": "2024-07-28T19:46:25.182Z"
   },
   {
    "duration": 151,
    "start_time": "2024-07-28T19:51:05.007Z"
   },
   {
    "duration": 1137,
    "start_time": "2024-07-28T22:16:41.228Z"
   },
   {
    "duration": 43,
    "start_time": "2024-07-28T22:16:42.367Z"
   },
   {
    "duration": 36,
    "start_time": "2024-07-28T22:16:42.411Z"
   },
   {
    "duration": 19,
    "start_time": "2024-07-28T22:16:42.449Z"
   },
   {
    "duration": 6,
    "start_time": "2024-07-28T22:16:42.470Z"
   },
   {
    "duration": 9,
    "start_time": "2024-07-28T22:16:42.477Z"
   },
   {
    "duration": 37,
    "start_time": "2024-07-28T22:16:42.487Z"
   },
   {
    "duration": 28,
    "start_time": "2024-07-28T22:16:42.525Z"
   },
   {
    "duration": 30,
    "start_time": "2024-07-28T22:16:42.555Z"
   },
   {
    "duration": 28,
    "start_time": "2024-07-28T22:16:42.588Z"
   },
   {
    "duration": 13,
    "start_time": "2024-07-28T22:16:42.617Z"
   },
   {
    "duration": 45,
    "start_time": "2024-07-28T22:16:42.632Z"
   },
   {
    "duration": 31,
    "start_time": "2024-07-28T22:16:42.678Z"
   },
   {
    "duration": 8,
    "start_time": "2024-07-28T22:16:42.710Z"
   },
   {
    "duration": 25,
    "start_time": "2024-07-28T22:16:42.719Z"
   },
   {
    "duration": 23,
    "start_time": "2024-07-28T22:16:42.745Z"
   },
   {
    "duration": 23,
    "start_time": "2024-07-28T22:16:42.769Z"
   },
   {
    "duration": 22,
    "start_time": "2024-07-28T22:16:42.793Z"
   },
   {
    "duration": 21,
    "start_time": "2024-07-28T22:16:42.816Z"
   },
   {
    "duration": 164,
    "start_time": "2024-07-28T22:16:42.838Z"
   },
   {
    "duration": 179,
    "start_time": "2024-07-28T22:16:43.003Z"
   },
   {
    "duration": 12,
    "start_time": "2024-07-28T22:16:43.184Z"
   },
   {
    "duration": 160,
    "start_time": "2024-07-28T22:16:43.208Z"
   },
   {
    "duration": 192,
    "start_time": "2024-07-28T22:16:43.369Z"
   },
   {
    "duration": 13,
    "start_time": "2024-07-28T22:16:43.562Z"
   },
   {
    "duration": 316,
    "start_time": "2024-07-28T22:16:43.576Z"
   },
   {
    "duration": 19,
    "start_time": "2024-07-28T22:16:43.893Z"
   },
   {
    "duration": 306,
    "start_time": "2024-07-28T22:16:43.916Z"
   },
   {
    "duration": 8,
    "start_time": "2024-07-28T22:16:44.224Z"
   },
   {
    "duration": 156,
    "start_time": "2024-07-28T22:16:44.233Z"
   },
   {
    "duration": 228,
    "start_time": "2024-07-28T22:16:44.391Z"
   },
   {
    "duration": 1437,
    "start_time": "2024-07-28T22:16:44.621Z"
   },
   {
    "duration": 10,
    "start_time": "2024-07-28T22:16:46.060Z"
   },
   {
    "duration": 155,
    "start_time": "2024-07-28T22:16:46.072Z"
   },
   {
    "duration": 155,
    "start_time": "2024-07-28T22:16:46.229Z"
   },
   {
    "duration": 133,
    "start_time": "2024-07-28T22:16:46.386Z"
   },
   {
    "duration": 10,
    "start_time": "2024-07-28T22:16:46.521Z"
   },
   {
    "duration": 31,
    "start_time": "2024-07-28T22:16:46.533Z"
   },
   {
    "duration": 52,
    "start_time": "2024-07-28T22:16:46.566Z"
   },
   {
    "duration": 4,
    "start_time": "2024-07-28T22:16:46.620Z"
   },
   {
    "duration": 11,
    "start_time": "2024-07-28T22:16:46.626Z"
   },
   {
    "duration": 22,
    "start_time": "2024-07-28T22:16:46.638Z"
   },
   {
    "duration": 50,
    "start_time": "2024-07-28T22:16:46.662Z"
   },
   {
    "duration": 4,
    "start_time": "2024-07-28T22:16:46.714Z"
   },
   {
    "duration": 156,
    "start_time": "2024-07-28T22:16:46.720Z"
   },
   {
    "duration": 131,
    "start_time": "2024-07-28T22:16:46.878Z"
   },
   {
    "duration": 9,
    "start_time": "2024-07-28T22:16:47.011Z"
   },
   {
    "duration": 8,
    "start_time": "2024-07-28T22:16:47.021Z"
   },
   {
    "duration": 319,
    "start_time": "2024-07-28T22:16:47.030Z"
   },
   {
    "duration": 292,
    "start_time": "2024-07-28T22:16:47.351Z"
   },
   {
    "duration": 7,
    "start_time": "2024-07-28T22:16:47.645Z"
   },
   {
    "duration": 7,
    "start_time": "2024-07-28T22:16:47.654Z"
   },
   {
    "duration": 8,
    "start_time": "2024-07-28T22:16:47.662Z"
   },
   {
    "duration": 8,
    "start_time": "2024-07-28T22:16:47.671Z"
   },
   {
    "duration": 31,
    "start_time": "2024-07-28T22:16:47.680Z"
   },
   {
    "duration": 196,
    "start_time": "2024-07-28T22:16:47.713Z"
   },
   {
    "duration": 2,
    "start_time": "2024-07-28T22:16:47.911Z"
   },
   {
    "duration": 25,
    "start_time": "2024-07-28T22:16:47.915Z"
   },
   {
    "duration": 4,
    "start_time": "2024-07-28T22:16:47.942Z"
   },
   {
    "duration": 8,
    "start_time": "2024-07-28T22:16:47.948Z"
   },
   {
    "duration": 6,
    "start_time": "2024-07-28T22:16:47.957Z"
   },
   {
    "duration": 30,
    "start_time": "2024-07-28T22:16:47.964Z"
   },
   {
    "duration": 292,
    "start_time": "2024-07-28T22:16:47.995Z"
   },
   {
    "duration": 278,
    "start_time": "2024-07-28T22:16:48.290Z"
   },
   {
    "duration": 1133,
    "start_time": "2024-07-28T22:23:27.351Z"
   },
   {
    "duration": 43,
    "start_time": "2024-07-28T22:23:28.486Z"
   },
   {
    "duration": 36,
    "start_time": "2024-07-28T22:23:28.530Z"
   },
   {
    "duration": 20,
    "start_time": "2024-07-28T22:23:28.568Z"
   },
   {
    "duration": 6,
    "start_time": "2024-07-28T22:23:28.589Z"
   },
   {
    "duration": 7,
    "start_time": "2024-07-28T22:23:28.596Z"
   },
   {
    "duration": 13,
    "start_time": "2024-07-28T22:23:28.604Z"
   },
   {
    "duration": 18,
    "start_time": "2024-07-28T22:23:28.618Z"
   },
   {
    "duration": 10,
    "start_time": "2024-07-28T22:23:28.638Z"
   },
   {
    "duration": 20,
    "start_time": "2024-07-28T22:23:28.650Z"
   },
   {
    "duration": 33,
    "start_time": "2024-07-28T22:23:28.671Z"
   },
   {
    "duration": 28,
    "start_time": "2024-07-28T22:23:28.706Z"
   },
   {
    "duration": 14,
    "start_time": "2024-07-28T22:23:28.736Z"
   },
   {
    "duration": 6,
    "start_time": "2024-07-28T22:23:28.752Z"
   },
   {
    "duration": 6,
    "start_time": "2024-07-28T22:23:28.759Z"
   },
   {
    "duration": 10,
    "start_time": "2024-07-28T22:23:28.767Z"
   },
   {
    "duration": 5,
    "start_time": "2024-07-28T22:23:28.779Z"
   },
   {
    "duration": 26,
    "start_time": "2024-07-28T22:23:28.786Z"
   },
   {
    "duration": 8,
    "start_time": "2024-07-28T22:23:28.813Z"
   },
   {
    "duration": 163,
    "start_time": "2024-07-28T22:23:28.823Z"
   },
   {
    "duration": 191,
    "start_time": "2024-07-28T22:23:28.987Z"
   },
   {
    "duration": 13,
    "start_time": "2024-07-28T22:23:29.179Z"
   },
   {
    "duration": 178,
    "start_time": "2024-07-28T22:23:29.193Z"
   },
   {
    "duration": 187,
    "start_time": "2024-07-28T22:23:29.372Z"
   },
   {
    "duration": 12,
    "start_time": "2024-07-28T22:23:29.561Z"
   },
   {
    "duration": 313,
    "start_time": "2024-07-28T22:23:29.574Z"
   },
   {
    "duration": 20,
    "start_time": "2024-07-28T22:23:29.888Z"
   },
   {
    "duration": 316,
    "start_time": "2024-07-28T22:23:29.912Z"
   },
   {
    "duration": 8,
    "start_time": "2024-07-28T22:23:30.229Z"
   },
   {
    "duration": 177,
    "start_time": "2024-07-28T22:23:30.239Z"
   },
   {
    "duration": 227,
    "start_time": "2024-07-28T22:23:30.417Z"
   },
   {
    "duration": 1462,
    "start_time": "2024-07-28T22:23:30.646Z"
   },
   {
    "duration": 9,
    "start_time": "2024-07-28T22:23:32.110Z"
   },
   {
    "duration": 153,
    "start_time": "2024-07-28T22:23:32.120Z"
   },
   {
    "duration": 172,
    "start_time": "2024-07-28T22:23:32.275Z"
   },
   {
    "duration": 130,
    "start_time": "2024-07-28T22:23:32.449Z"
   },
   {
    "duration": 8,
    "start_time": "2024-07-28T22:23:32.581Z"
   },
   {
    "duration": 46,
    "start_time": "2024-07-28T22:23:32.590Z"
   },
   {
    "duration": 24,
    "start_time": "2024-07-28T22:23:32.637Z"
   },
   {
    "duration": 61,
    "start_time": "2024-07-28T22:23:32.662Z"
   },
   {
    "duration": 12,
    "start_time": "2024-07-28T22:23:32.725Z"
   },
   {
    "duration": 21,
    "start_time": "2024-07-28T22:23:32.739Z"
   },
   {
    "duration": 20,
    "start_time": "2024-07-28T22:23:32.762Z"
   },
   {
    "duration": 3,
    "start_time": "2024-07-28T22:23:32.784Z"
   },
   {
    "duration": 180,
    "start_time": "2024-07-28T22:23:32.788Z"
   },
   {
    "duration": 125,
    "start_time": "2024-07-28T22:23:32.970Z"
   },
   {
    "duration": 16,
    "start_time": "2024-07-28T22:23:33.097Z"
   },
   {
    "duration": 8,
    "start_time": "2024-07-28T22:23:33.115Z"
   },
   {
    "duration": 305,
    "start_time": "2024-07-28T22:23:33.124Z"
   },
   {
    "duration": 278,
    "start_time": "2024-07-28T22:23:33.431Z"
   },
   {
    "duration": 9,
    "start_time": "2024-07-28T22:23:33.711Z"
   },
   {
    "duration": 9,
    "start_time": "2024-07-28T22:23:33.721Z"
   },
   {
    "duration": 8,
    "start_time": "2024-07-28T22:23:33.732Z"
   },
   {
    "duration": 8,
    "start_time": "2024-07-28T22:23:33.742Z"
   },
   {
    "duration": 7,
    "start_time": "2024-07-28T22:23:33.751Z"
   },
   {
    "duration": 248,
    "start_time": "2024-07-28T22:23:33.760Z"
   },
   {
    "duration": 3,
    "start_time": "2024-07-28T22:23:34.009Z"
   },
   {
    "duration": 20,
    "start_time": "2024-07-28T22:23:34.014Z"
   },
   {
    "duration": 5,
    "start_time": "2024-07-28T22:23:34.036Z"
   },
   {
    "duration": 6,
    "start_time": "2024-07-28T22:23:34.043Z"
   },
   {
    "duration": 5,
    "start_time": "2024-07-28T22:23:34.051Z"
   },
   {
    "duration": 49,
    "start_time": "2024-07-28T22:23:34.058Z"
   },
   {
    "duration": 270,
    "start_time": "2024-07-28T22:23:34.109Z"
   },
   {
    "duration": 284,
    "start_time": "2024-07-28T22:23:34.381Z"
   }
  ],
  "kernelspec": {
   "display_name": "Python 3 (ipykernel)",
   "language": "python",
   "name": "python3"
  },
  "language_info": {
   "codemirror_mode": {
    "name": "ipython",
    "version": 3
   },
   "file_extension": ".py",
   "mimetype": "text/x-python",
   "name": "python",
   "nbconvert_exporter": "python",
   "pygments_lexer": "ipython3",
   "version": "3.9.5"
  },
  "toc": {
   "base_numbering": 1,
   "nav_menu": {
    "height": "148.97px",
    "width": "346.968px"
   },
   "number_sections": true,
   "sideBar": true,
   "skip_h1_title": true,
   "title_cell": "Table of Contents",
   "title_sidebar": "Contents",
   "toc_cell": false,
   "toc_position": {},
   "toc_section_display": true,
   "toc_window_display": false
  }
 },
 "nbformat": 4,
 "nbformat_minor": 5
}
